{
 "cells": [
  {
   "cell_type": "code",
   "execution_count": null,
   "id": "f88525a9",
   "metadata": {},
   "outputs": [],
   "source": [
    "%matplotlib inline\n",
    "#dependencies\n",
    "import matplotlib.pyplot as plt\n",
    "import pandas as pd"
   ]
  },
  {
   "cell_type": "code",
   "execution_count": null,
   "id": "9832b7d9",
   "metadata": {},
   "outputs": [],
   "source": [
    "#load anime csv and convert to dataframe\n",
    "file_anime = 'Resources/animes.csv'\n",
    "anime_df = pd.read_csv(file_anime)\n",
    "anime_df.head()"
   ]
  },
  {
   "cell_type": "code",
   "execution_count": null,
   "id": "c2a35154",
   "metadata": {},
   "outputs": [],
   "source": [
    "# Drop rows that are missing a synoposis\n",
    "anime_df = anime_df.dropna(axis=0, how='any', subset=['synopsis'])"
   ]
  },
  {
   "cell_type": "code",
   "execution_count": null,
   "id": "4ddeb674",
   "metadata": {},
   "outputs": [],
   "source": [
    "#Drop genres we are not interested in\n",
    "anime_df = anime_df[anime_df['genre'].str.contains(\"Hentai\") == False]"
   ]
  },
  {
   "cell_type": "code",
   "execution_count": null,
   "id": "df5fc6eb",
   "metadata": {},
   "outputs": [],
   "source": [
    "#confirm bad genres were dropped\n",
    "anime_df['genre'].value_counts()"
   ]
  },
  {
   "cell_type": "code",
   "execution_count": null,
   "id": "bcaaee9f",
   "metadata": {},
   "outputs": [],
   "source": [
    "#create a cleaned anime dataframe with columns we want\n",
    "anime_cleaned_df = anime_df[['uid', 'title', 'synopsis', 'members', 'popularity', 'ranked', 'score']]\n",
    "anime_cleaned_df.head()"
   ]
  },
  {
   "cell_type": "code",
   "execution_count": null,
   "id": "de9a727e",
   "metadata": {},
   "outputs": [],
   "source": [
    "#check shape of cleaned database\n",
    "anime_cleaned_df.shape"
   ]
  },
  {
   "cell_type": "code",
   "execution_count": null,
   "id": "23471cc3",
   "metadata": {},
   "outputs": [],
   "source": [
    "#check data types\n",
    "anime_cleaned_df.dtypes"
   ]
  },
  {
   "cell_type": "code",
   "execution_count": null,
   "id": "fdc22e4f",
   "metadata": {},
   "outputs": [],
   "source": [
    "#remove animes with a score of less than 7\n",
    "#want to recommend well ranked animes for new users\n",
    "anime_cleaned_df = anime_cleaned_df[anime_cleaned_df['score'] > 6.99]\n",
    "anime_cleaned_df.shape"
   ]
  },
  {
   "cell_type": "code",
   "execution_count": null,
   "id": "c018d08f",
   "metadata": {},
   "outputs": [],
   "source": [
    "anime_cleaned_df.head()"
   ]
  },
  {
   "cell_type": "code",
   "execution_count": null,
   "id": "5c3f8ac0",
   "metadata": {},
   "outputs": [],
   "source": [
    "#load live action csvs\n",
    "file_amazon = 'Resources/amazon_prime_titles.csv'\n",
    "file_hulu = 'Resources/hulu_titles.csv'\n",
    "file_disney = 'Resources/disney_plus_titles.csv'\n",
    "file_netflix = 'Resources/netflix_titles.csv'"
   ]
  },
  {
   "cell_type": "code",
   "execution_count": null,
   "id": "49ef69bc",
   "metadata": {},
   "outputs": [],
   "source": [
    "#convert csvs to dataframes\n",
    "amazon_df = pd.read_csv(file_amazon)\n",
    "hulu_df = pd.read_csv(file_hulu)\n",
    "disney_df = pd.read_csv(file_disney)\n",
    "netflix_df = pd.read_csv(file_netflix)"
   ]
  },
  {
   "cell_type": "code",
   "execution_count": null,
   "id": "b52575a7",
   "metadata": {},
   "outputs": [],
   "source": [
    "#clean dataframes to include show id, title, and description\n",
    "netflix_cleaned_df = netflix_df[['show_id', 'title', 'description']]\n",
    "disney_cleaned_df = disney_df[['show_id', 'title', 'description']]\n",
    "amazon_cleaned_df = amazon_df[['show_id', 'title', 'description']]\n",
    "hulu_cleaned_df = hulu_df[['show_id', 'title', 'description']]"
   ]
  },
  {
   "cell_type": "code",
   "execution_count": null,
   "id": "ac93c831",
   "metadata": {},
   "outputs": [],
   "source": [
    "#check netflix dataframe\n",
    "netflix_cleaned_df.head()"
   ]
  },
  {
   "cell_type": "code",
   "execution_count": null,
   "id": "fd6cd984",
   "metadata": {},
   "outputs": [],
   "source": [
    "#add identifier to beginning of show id to differentiate between different sources\n",
    "netflix_cleaned_df['show_id'] = 'n-' + netflix_cleaned_df['show_id']\n",
    "disney_cleaned_df['show_id'] = 'd-' + disney_cleaned_df['show_id']\n",
    "hulu_cleaned_df['show_id'] = 'h-' + hulu_cleaned_df['show_id']\n",
    "amazon_cleaned_df['show_id'] = 'a-' + amazon_cleaned_df['show_id']"
   ]
  },
  {
   "cell_type": "code",
   "execution_count": null,
   "id": "f3497c1b",
   "metadata": {},
   "outputs": [],
   "source": [
    "#check amazon dataframe\n",
    "amazon_cleaned_df.head()"
   ]
  },
  {
   "cell_type": "code",
   "execution_count": null,
   "id": "a835de79",
   "metadata": {},
   "outputs": [],
   "source": [
    "#add source column to show what the live action is streaming on\n",
    "netflix_cleaned_df['source'] = 'Netflix'\n",
    "disney_cleaned_df['source'] = 'Disney'\n",
    "hulu_cleaned_df['source'] = 'Hulu'\n",
    "amazon_cleaned_df['source'] = 'Amazon'"
   ]
  },
  {
   "cell_type": "code",
   "execution_count": null,
   "id": "ebe13073",
   "metadata": {},
   "outputs": [],
   "source": [
    "#check hulu dataframe\n",
    "hulu_cleaned_df.head()"
   ]
  },
  {
   "cell_type": "code",
   "execution_count": null,
   "id": "7a2a6ad4",
   "metadata": {},
   "outputs": [],
   "source": [
    "#group live action dataframes to prep for concat\n",
    "dfs = [netflix_cleaned_df, hulu_cleaned_df, disney_cleaned_df,amazon_cleaned_df]"
   ]
  },
  {
   "cell_type": "code",
   "execution_count": null,
   "id": "6c45164d",
   "metadata": {},
   "outputs": [],
   "source": [
    "#create full live action dataframe\n",
    "live_action_df = pd.concat(dfs)"
   ]
  },
  {
   "cell_type": "code",
   "execution_count": null,
   "id": "bac2e0e1",
   "metadata": {},
   "outputs": [],
   "source": [
    "# check live action df\n",
    "live_action_df.head()"
   ]
  },
  {
   "cell_type": "code",
   "execution_count": null,
   "id": "8da22596",
   "metadata": {},
   "outputs": [],
   "source": [
    "#check count of live actions from each source\n",
    "live_action_df.groupby('source').count()"
   ]
  },
  {
   "cell_type": "code",
   "execution_count": null,
   "id": "4d7efe4f",
   "metadata": {},
   "outputs": [],
   "source": [
    "#check na volumes\n",
    "live_action_df.isna().sum()"
   ]
  },
  {
   "cell_type": "code",
   "execution_count": null,
   "id": "6c45b43d",
   "metadata": {},
   "outputs": [],
   "source": [
    "#drop na rows\n",
    "live_action_df = live_action_df.dropna()"
   ]
  },
  {
   "cell_type": "code",
   "execution_count": null,
   "id": "cb1ef85d",
   "metadata": {},
   "outputs": [],
   "source": [
    "#check live action df shape\n",
    "live_action_df.shape"
   ]
  },
  {
   "cell_type": "code",
   "execution_count": null,
   "id": "3f928b23",
   "metadata": {},
   "outputs": [],
   "source": [
    "#verify na values are dropped\n",
    "live_action_df.isna().sum()"
   ]
  },
  {
   "cell_type": "code",
   "execution_count": null,
   "id": "5938b3af",
   "metadata": {},
   "outputs": [],
   "source": [
    "#convert both cleaned dfs to csvs\n",
    "anime_cleaned_df.to_csv('Resources/cleaned_anime.csv')\n",
    "live_action_df.to_csv('Resources/cleaned_live_actions.csv')"
   ]
  },
  {
   "cell_type": "code",
   "execution_count": null,
   "id": "a2fb45d2",
   "metadata": {},
   "outputs": [],
   "source": [
    "live_action_df.head()"
   ]
  },
  {
   "cell_type": "code",
   "execution_count": null,
   "id": "a9171ad0",
   "metadata": {},
   "outputs": [],
   "source": [
    "anime_cleaned_df.head()"
   ]
  },
  {
   "cell_type": "code",
   "execution_count": null,
   "id": "7ac233af",
   "metadata": {},
   "outputs": [],
   "source": [
    "#data = anime_df.score\n",
    "plt.hist(anime_cleaned_df['score'], bins = 10, edgecolor='black', linewidth=1.2, alpha=1)\n",
    "\n",
    "plt.xlabel('Score')\n",
    "plt.ylabel('Score Count')\n",
    "plt.title('Anime Scores')\n",
    "\n",
    "\n",
    "plt.show()"
   ]
  },
  {
   "cell_type": "code",
   "execution_count": null,
   "id": "9101ecf5",
   "metadata": {},
   "outputs": [],
   "source": [
    "live_action_counts_df = pd.DataFrame(live_action_df['source'].value_counts())\n",
    "\n",
    "x = live_action_counts_df.index\n",
    "y = live_action_counts_df.source\n",
    "\n",
    "plt.bar(x, y)\n",
    "plt.xlabel('Live Action Source')\n",
    "plt.ylabel('Count From Source')\n",
    "plt.title('Live Action Source Breakdown')\n",
    "\n",
    "plt.show()"
   ]
  },
  {
   "cell_type": "code",
   "execution_count": null,
   "id": "558d4941",
   "metadata": {},
   "outputs": [],
   "source": [
    "x= anime_cleaned_df['score']\n",
    "y= anime_cleaned_df['members']\n",
    "\n",
    "plt.scatter(x,y)\n",
    "plt.xlabel('Anime Score')\n",
    "plt.ylabel('Popularity')\n",
    "plt.title('Anime Scores vs Audience size')\n",
    "\n",
    "plt.show()"
   ]
  },
  {
   "cell_type": "code",
   "execution_count": null,
   "id": "c570443d",
   "metadata": {},
   "outputs": [],
   "source": [
    "anime_test_df = anime_df[anime_df['episodes'] <500]\n",
    "\n",
    "x= anime_test_df['episodes'] \n",
    "y= anime_test_df['score']\n",
    "\n",
    "plt.scatter(x,y)\n",
    "plt.xlabel('Number of episodes')\n",
    "plt.ylabel('Score')\n",
    "plt.title('Anime Episodes vs Score')\n",
    "\n",
    "plt.show()"
   ]
  },
  {
   "cell_type": "code",
   "execution_count": null,
   "id": "8fab7fb3",
   "metadata": {},
   "outputs": [],
   "source": []
  }
 ],
 "metadata": {
  "kernelspec": {
   "display_name": "PythonData",
   "language": "python",
   "name": "pythondata"
  },
  "language_info": {
   "codemirror_mode": {
    "name": "ipython",
    "version": 3
   },
   "file_extension": ".py",
   "mimetype": "text/x-python",
   "name": "python",
   "nbconvert_exporter": "python",
   "pygments_lexer": "ipython3",
   "version": "3.8.8"
  }
 },
 "nbformat": 4,
 "nbformat_minor": 5
}

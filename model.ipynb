{
 "cells": [
  {
   "cell_type": "code",
   "execution_count": 1,
   "metadata": {},
   "outputs": [],
   "source": [
    "# Install and import packages into mlenv enviroment \n",
    "from sentence_transformers import SentenceTransformer, util\n",
    "import pandas as pd\n",
    "from sortedcontainers import SortedDict"
   ]
  },
  {
   "cell_type": "code",
   "execution_count": 2,
   "metadata": {},
   "outputs": [],
   "source": [
    "# Define model from sentence_transformers\n",
    "model = SentenceTransformer('all-MiniLM-L6-v2')"
   ]
  },
  {
   "cell_type": "code",
   "execution_count": 3,
   "metadata": {},
   "outputs": [],
   "source": [
    "# Import cleaned data csvs\n",
    "file_anime = 'Final Resources/cleaned_anime.csv'\n",
    "file_la = 'Final Resources/cleaned_live_actions.csv'"
   ]
  },
  {
   "cell_type": "code",
   "execution_count": 4,
   "metadata": {},
   "outputs": [],
   "source": [
    "# Create dfs\n",
    "anime_df = pd.read_csv(file_anime, index_col=0) # add index_col=0 so that there aren't 2 index columns!\n",
    "la_df = pd.read_csv(file_la, index_col=0)`"
   ]
  },
  {
   "cell_type": "code",
   "execution_count": 5,
   "metadata": {},
   "outputs": [],
   "source": [
    "# Uncomment for testing\n",
    "# anime_df = anime_df.head(50)\n",
    "# la_df = la_df.head(50)\n",
    "# anime_df = anime_df.reset_index()\n",
    "# la_df = la_df.reset_index()"
   ]
  },
  {
   "cell_type": "code",
   "execution_count": 6,
   "metadata": {},
   "outputs": [],
   "source": [
    "# Make a list of anime descriptions from df\n",
    "anime_desc = anime_df['description_without_stopwords'].tolist()"
   ]
  },
  {
   "cell_type": "code",
   "execution_count": 7,
   "metadata": {},
   "outputs": [],
   "source": [
    "# Make a list of netflix, hulu, amazon prime, disney+ descriptions\n",
    "la_desc = la_df['description_without_stopwords'].tolist()"
   ]
  },
  {
   "cell_type": "code",
   "execution_count": 8,
   "metadata": {},
   "outputs": [],
   "source": [
    "# Encode anime descriptions \n",
    "anime_embedding = model.encode(anime_desc) # Encoding the anime list"
   ]
  },
  {
   "cell_type": "code",
   "execution_count": 9,
   "metadata": {},
   "outputs": [],
   "source": [
    "# Encode live action descriptions \n",
    "la_embedding = model.encode(la_desc) # Encoding the netflix list"
   ]
  },
  {
   "cell_type": "code",
   "execution_count": 10,
   "metadata": {},
   "outputs": [],
   "source": [
    "# Compute cosine similarities\n",
    "cos_sim = util.cos_sim(la_embedding, anime_embedding)\n",
    "#cos_sim"
   ]
  },
  {
   "cell_type": "code",
   "execution_count": 13,
   "metadata": {},
   "outputs": [],
   "source": [
    "la_df = la_df.reset_index()\n",
    "anime_df = anime_df.reset_index()"
   ]
  },
  {
   "cell_type": "code",
   "execution_count": 14,
   "metadata": {},
   "outputs": [
    {
     "data": {
      "text/html": [
       "<div>\n",
       "<style scoped>\n",
       "    .dataframe tbody tr th:only-of-type {\n",
       "        vertical-align: middle;\n",
       "    }\n",
       "\n",
       "    .dataframe tbody tr th {\n",
       "        vertical-align: top;\n",
       "    }\n",
       "\n",
       "    .dataframe thead th {\n",
       "        text-align: right;\n",
       "    }\n",
       "</style>\n",
       "<table border=\"1\" class=\"dataframe\">\n",
       "  <thead>\n",
       "    <tr style=\"text-align: right;\">\n",
       "      <th></th>\n",
       "      <th>index</th>\n",
       "      <th>show_id</th>\n",
       "      <th>title</th>\n",
       "      <th>description</th>\n",
       "      <th>release_year</th>\n",
       "      <th>type</th>\n",
       "      <th>listed_in</th>\n",
       "      <th>source</th>\n",
       "      <th>description_without_stopwords</th>\n",
       "      <th>rec1</th>\n",
       "      <th>rec2</th>\n",
       "      <th>rec3</th>\n",
       "      <th>rec4</th>\n",
       "      <th>rec5</th>\n",
       "    </tr>\n",
       "  </thead>\n",
       "  <tbody>\n",
       "    <tr>\n",
       "      <th>0</th>\n",
       "      <td>0</td>\n",
       "      <td>n-s1</td>\n",
       "      <td>Dick Johnson Is Dead</td>\n",
       "      <td>As her father nears the end of his life, filmm...</td>\n",
       "      <td>2020</td>\n",
       "      <td>Movie</td>\n",
       "      <td>Documentaries</td>\n",
       "      <td>Netflix</td>\n",
       "      <td>As father nears end life, filmmaker Kirsten Jo...</td>\n",
       "      <td>Mnemosyne: Mnemosyne no Musume-tachi (43% Match)</td>\n",
       "      <td>Onmyou Taisenki (42% Match)</td>\n",
       "      <td>Kono Subarashii Sekai ni Shukufuku wo! (40% Ma...</td>\n",
       "      <td>Monster (40% Match)</td>\n",
       "      <td>Ajin Part 2: Shoutotsu (40% Match)</td>\n",
       "    </tr>\n",
       "    <tr>\n",
       "      <th>1</th>\n",
       "      <td>1</td>\n",
       "      <td>n-s2</td>\n",
       "      <td>Blood &amp; Water</td>\n",
       "      <td>After crossing paths at a party, a Cape Town t...</td>\n",
       "      <td>2021</td>\n",
       "      <td>TV Show</td>\n",
       "      <td>International TV Shows, TV Dramas, TV Mysteries</td>\n",
       "      <td>Netflix</td>\n",
       "      <td>After crossing paths party, Cape Town teen set...</td>\n",
       "      <td>Ranma ½: Kessen Tougenkyou! Hanayome wo Torimo...</td>\n",
       "      <td>Oban Star-Racers (40% Match)</td>\n",
       "      <td>Seishun Buta Yarou wa Bunny Girl Senpai no Yum...</td>\n",
       "      <td>Bokura no Nanokakan Sensou (39% Match)</td>\n",
       "      <td>Seitokai Yakuindomo OVA (38% Match)</td>\n",
       "    </tr>\n",
       "    <tr>\n",
       "      <th>2</th>\n",
       "      <td>2</td>\n",
       "      <td>n-s3</td>\n",
       "      <td>Ganglands</td>\n",
       "      <td>To protect his family from a powerful drug lor...</td>\n",
       "      <td>2021</td>\n",
       "      <td>TV Show</td>\n",
       "      <td>Crime TV Shows, International TV Shows, TV Act...</td>\n",
       "      <td>Netflix</td>\n",
       "      <td>To protect family powerful drug lord, skilled ...</td>\n",
       "      <td>Lupin III: Nusumareta Lupin (46% Match)</td>\n",
       "      <td>Lupin III: Part III (44% Match)</td>\n",
       "      <td>Lupin the Third: Mine Fujiko to Iu Onna (43% M...</td>\n",
       "      <td>Tetsuwan Birdy (41% Match)</td>\n",
       "      <td>Lupin III: Tenshi no Tactics - Yume no Kakera ...</td>\n",
       "    </tr>\n",
       "    <tr>\n",
       "      <th>3</th>\n",
       "      <td>3</td>\n",
       "      <td>n-s4</td>\n",
       "      <td>Jailbirds New Orleans</td>\n",
       "      <td>Feuds, flirtations and toilet talk go down amo...</td>\n",
       "      <td>2021</td>\n",
       "      <td>TV Show</td>\n",
       "      <td>Docuseries, Reality TV</td>\n",
       "      <td>Netflix</td>\n",
       "      <td>Feuds, flirtations toilet talk go among incarc...</td>\n",
       "      <td>School Rumble: Ichi Gakki Hoshuu (43% Match)</td>\n",
       "      <td>Kimagure Orange☆Road OVA (42% Match)</td>\n",
       "      <td>Jigoku Sensei Nube OVA (39% Match)</td>\n",
       "      <td>One Piece Recap (39% Match)</td>\n",
       "      <td>Code Geass: Hangyaku no Lelouch R2 Special Edi...</td>\n",
       "    </tr>\n",
       "    <tr>\n",
       "      <th>4</th>\n",
       "      <td>4</td>\n",
       "      <td>n-s5</td>\n",
       "      <td>Kota Factory</td>\n",
       "      <td>In a city of coaching centers known to train I...</td>\n",
       "      <td>2021</td>\n",
       "      <td>TV Show</td>\n",
       "      <td>International TV Shows, Romantic TV Shows, TV ...</td>\n",
       "      <td>Netflix</td>\n",
       "      <td>In city coaching centers known train India’s f...</td>\n",
       "      <td>Kyou kara Ore wa!! (47% Match)</td>\n",
       "      <td>Ro-Kyu-Bu! SS (43% Match)</td>\n",
       "      <td>Ojiichan no Hanabi (43% Match)</td>\n",
       "      <td>Zan Sayonara Zetsubou Sensei (42% Match)</td>\n",
       "      <td>Major S3 (42% Match)</td>\n",
       "    </tr>\n",
       "  </tbody>\n",
       "</table>\n",
       "</div>"
      ],
      "text/plain": [
       "   index show_id                  title  \\\n",
       "0      0    n-s1   Dick Johnson Is Dead   \n",
       "1      1    n-s2          Blood & Water   \n",
       "2      2    n-s3              Ganglands   \n",
       "3      3    n-s4  Jailbirds New Orleans   \n",
       "4      4    n-s5           Kota Factory   \n",
       "\n",
       "                                         description  release_year     type  \\\n",
       "0  As her father nears the end of his life, filmm...          2020    Movie   \n",
       "1  After crossing paths at a party, a Cape Town t...          2021  TV Show   \n",
       "2  To protect his family from a powerful drug lor...          2021  TV Show   \n",
       "3  Feuds, flirtations and toilet talk go down amo...          2021  TV Show   \n",
       "4  In a city of coaching centers known to train I...          2021  TV Show   \n",
       "\n",
       "                                           listed_in   source  \\\n",
       "0                                      Documentaries  Netflix   \n",
       "1    International TV Shows, TV Dramas, TV Mysteries  Netflix   \n",
       "2  Crime TV Shows, International TV Shows, TV Act...  Netflix   \n",
       "3                             Docuseries, Reality TV  Netflix   \n",
       "4  International TV Shows, Romantic TV Shows, TV ...  Netflix   \n",
       "\n",
       "                       description_without_stopwords  \\\n",
       "0  As father nears end life, filmmaker Kirsten Jo...   \n",
       "1  After crossing paths party, Cape Town teen set...   \n",
       "2  To protect family powerful drug lord, skilled ...   \n",
       "3  Feuds, flirtations toilet talk go among incarc...   \n",
       "4  In city coaching centers known train India’s f...   \n",
       "\n",
       "                                                rec1  \\\n",
       "0   Mnemosyne: Mnemosyne no Musume-tachi (43% Match)   \n",
       "1  Ranma ½: Kessen Tougenkyou! Hanayome wo Torimo...   \n",
       "2            Lupin III: Nusumareta Lupin (46% Match)   \n",
       "3       School Rumble: Ichi Gakki Hoshuu (43% Match)   \n",
       "4                     Kyou kara Ore wa!! (47% Match)   \n",
       "\n",
       "                                   rec2  \\\n",
       "0           Onmyou Taisenki (42% Match)   \n",
       "1          Oban Star-Racers (40% Match)   \n",
       "2       Lupin III: Part III (44% Match)   \n",
       "3  Kimagure Orange☆Road OVA (42% Match)   \n",
       "4             Ro-Kyu-Bu! SS (43% Match)   \n",
       "\n",
       "                                                rec3  \\\n",
       "0  Kono Subarashii Sekai ni Shukufuku wo! (40% Ma...   \n",
       "1  Seishun Buta Yarou wa Bunny Girl Senpai no Yum...   \n",
       "2  Lupin the Third: Mine Fujiko to Iu Onna (43% M...   \n",
       "3                 Jigoku Sensei Nube OVA (39% Match)   \n",
       "4                     Ojiichan no Hanabi (43% Match)   \n",
       "\n",
       "                                       rec4  \\\n",
       "0                       Monster (40% Match)   \n",
       "1    Bokura no Nanokakan Sensou (39% Match)   \n",
       "2                Tetsuwan Birdy (41% Match)   \n",
       "3               One Piece Recap (39% Match)   \n",
       "4  Zan Sayonara Zetsubou Sensei (42% Match)   \n",
       "\n",
       "                                                rec5  \n",
       "0                 Ajin Part 2: Shoutotsu (40% Match)  \n",
       "1                Seitokai Yakuindomo OVA (38% Match)  \n",
       "2  Lupin III: Tenshi no Tactics - Yume no Kakera ...  \n",
       "3  Code Geass: Hangyaku no Lelouch R2 Special Edi...  \n",
       "4                               Major S3 (42% Match)  "
      ]
     },
     "execution_count": 14,
     "metadata": {},
     "output_type": "execute_result"
    }
   ],
   "source": [
    "# Build reccomendations column in la_df from cos_sim tensor\n",
    "\n",
    "recs = []\n",
    "# for each row in the cos_sim tensor\n",
    "for i in range(len(cos_sim)):\n",
    "    mydict={}\n",
    "    \n",
    "    # for each col in the row\n",
    "    for x in range(len(cos_sim[i])):\n",
    "        #assign title to the column from anime_df[\"title\"][col#]\n",
    "        try:\n",
    "            mydict[float(cos_sim[i][x]*-100)] = anime_df[\"title\"][x] + ' (' + (str(round(float(cos_sim[i][x]*100))) +'% Match)')\n",
    "        except KeyError:\n",
    "            continue \n",
    "        #print(mydict)\n",
    "        # try:\n",
    "        #     mydict[anime_df[\"title\"][x],(('%' + str(round(float(cos_sim[i][x]*100)))))] = cos_sim[i][x]\n",
    "        # except KeyError:\n",
    "        #     continue  \n",
    "        # print(mydict)    \n",
    "    # find the max value in all the columns\n",
    "    #top2 = sorted(mydict,keys=mydict.get,reverse=True)[:5]\n",
    "    s = SortedDict(mydict)\n",
    "    la_df.loc[i,'rec1'] = s.values()[0]\n",
    "    la_df.loc[i,'rec2'] = s.values()[1]\n",
    "    la_df.loc[i,'rec3'] = s.values()[2]\n",
    "    la_df.loc[i,'rec4'] = s.values()[3]\n",
    "    la_df.loc[i,'rec5'] = s.values()[4]\n",
    "    #recs.append(top2)\n",
    "\n",
    "la_df.head()"
   ]
  },
  {
   "cell_type": "code",
   "execution_count": 16,
   "metadata": {},
   "outputs": [],
   "source": [
    "# Export new csv\n",
    "la_df.to_csv('Final Resources/live_actions_with_anime_recs.csv')"
   ]
  },
  {
   "cell_type": "code",
   "execution_count": null,
   "metadata": {},
   "outputs": [],
   "source": []
  }
 ],
 "metadata": {
  "interpreter": {
   "hash": "b9bb4423a1d3140def98ccfa0c8570d196bf2d194e50a79bd0acfe573e173e22"
  },
  "kernelspec": {
   "display_name": "Python 3.7.11 64-bit ('mlenv': conda)",
   "name": "python3"
  },
  "language_info": {
   "codemirror_mode": {
    "name": "ipython",
    "version": 3
   },
   "file_extension": ".py",
   "mimetype": "text/x-python",
   "name": "python",
   "nbconvert_exporter": "python",
   "pygments_lexer": "ipython3",
   "version": "3.9.7"
  },
  "orig_nbformat": 4
 },
 "nbformat": 4,
 "nbformat_minor": 2
}

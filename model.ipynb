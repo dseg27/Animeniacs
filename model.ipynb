{
 "cells": [
  {
   "cell_type": "code",
   "execution_count": 1,
   "metadata": {},
   "outputs": [],
   "source": [
    "# Install and import packages into mlenv enviroment \n",
    "from sentence_transformers import SentenceTransformer, util\n",
    "import pandas as pd\n",
    "from sortedcontainers import SortedDict"
   ]
  },
  {
   "cell_type": "code",
   "execution_count": 2,
   "metadata": {},
   "outputs": [],
   "source": [
    "# Define model from sentence_transformers\n",
    "model = SentenceTransformer('all-MiniLM-L6-v2')"
   ]
  },
  {
   "cell_type": "code",
   "execution_count": 3,
   "metadata": {},
   "outputs": [],
   "source": [
    "# Import cleaned data csvs\n",
    "file_anime = 'Final Resources/cleaned_anime.csv'\n",
    "file_la = 'Final Resources/cleaned_live_actions.csv'"
   ]
  },
  {
   "cell_type": "code",
   "execution_count": 4,
   "metadata": {},
   "outputs": [],
   "source": [
    "# Create dfs\n",
    "anime_df = pd.read_csv(file_anime, index_col=0) # add index_col=0 so that there aren't 2 index columns!\n",
    "la_df = pd.read_csv(file_la, index_col=0)"
   ]
  },
  {
   "cell_type": "code",
   "execution_count": 5,
   "metadata": {},
   "outputs": [],
   "source": [
    "# Uncomment for testing\n",
    "# anime_df = anime_df.head(50)\n",
    "# la_df = la_df.head(50)\n",
    "# anime_df = anime_df.reset_index()\n",
    "# la_df = la_df.reset_index()"
   ]
  },
  {
   "cell_type": "code",
   "execution_count": 6,
   "metadata": {},
   "outputs": [],
   "source": [
    "# Make a list of anime descriptions from df\n",
    "anime_desc = anime_df['synopsis'].tolist()"
   ]
  },
  {
   "cell_type": "code",
   "execution_count": 7,
   "metadata": {},
   "outputs": [],
   "source": [
    "# Make a list of netflix, hulu, amazon prime, disney+ descriptions\n",
    "la_desc = la_df['description'].tolist()"
   ]
  },
  {
   "cell_type": "code",
   "execution_count": 8,
   "metadata": {},
   "outputs": [],
   "source": [
    "# Encode anime descriptions \n",
    "anime_embedding = model.encode(anime_desc) # Encoding the anime list"
   ]
  },
  {
   "cell_type": "code",
   "execution_count": 9,
   "metadata": {},
   "outputs": [],
   "source": [
    "# Encode live action descriptions \n",
    "la_embedding = model.encode(la_desc) # Encoding the netflix list"
   ]
  },
  {
   "cell_type": "code",
   "execution_count": 10,
   "metadata": {},
   "outputs": [
    {
     "data": {
      "text/plain": [
       "'Cowboy Bebop'"
      ]
     },
     "execution_count": 10,
     "metadata": {},
     "output_type": "execute_result"
    }
   ],
   "source": [
    "anime_df[\"title\"][1]"
   ]
  },
  {
   "cell_type": "code",
   "execution_count": 11,
   "metadata": {},
   "outputs": [
    {
     "data": {
      "text/plain": [
       "tensor([[ 0.0485,  0.2290,  0.2079,  ...,  0.1509,  0.1470,  0.0789],\n",
       "        [ 0.1681,  0.1254,  0.1798,  ...,  0.2372,  0.0299,  0.1367],\n",
       "        [ 0.2328,  0.1589,  0.2318,  ...,  0.1661,  0.2453,  0.0818],\n",
       "        ...,\n",
       "        [ 0.0841, -0.0547,  0.2750,  ...,  0.0641,  0.1564, -0.0754],\n",
       "        [ 0.1459,  0.1325,  0.0592,  ...,  0.0531,  0.1309,  0.0949],\n",
       "        [-0.0379,  0.1005, -0.0381,  ...,  0.0326,  0.1212,  0.0663]])"
      ]
     },
     "execution_count": 11,
     "metadata": {},
     "output_type": "execute_result"
    }
   ],
   "source": [
    "# Compute cosine similarities\n",
    "cos_sim = util.cos_sim(la_embedding, anime_embedding)\n",
    "cos_sim"
   ]
  },
  {
   "cell_type": "code",
   "execution_count": 13,
   "metadata": {},
   "outputs": [
    {
     "data": {
      "text/html": [
       "<div>\n",
       "<style scoped>\n",
       "    .dataframe tbody tr th:only-of-type {\n",
       "        vertical-align: middle;\n",
       "    }\n",
       "\n",
       "    .dataframe tbody tr th {\n",
       "        vertical-align: top;\n",
       "    }\n",
       "\n",
       "    .dataframe thead th {\n",
       "        text-align: right;\n",
       "    }\n",
       "</style>\n",
       "<table border=\"1\" class=\"dataframe\">\n",
       "  <thead>\n",
       "    <tr style=\"text-align: right;\">\n",
       "      <th></th>\n",
       "      <th>title</th>\n",
       "      <th>description</th>\n",
       "      <th>release_year</th>\n",
       "      <th>type</th>\n",
       "      <th>listed_in</th>\n",
       "      <th>source</th>\n",
       "      <th>recommended_animes</th>\n",
       "    </tr>\n",
       "    <tr>\n",
       "      <th>show_id</th>\n",
       "      <th></th>\n",
       "      <th></th>\n",
       "      <th></th>\n",
       "      <th></th>\n",
       "      <th></th>\n",
       "      <th></th>\n",
       "      <th></th>\n",
       "    </tr>\n",
       "  </thead>\n",
       "  <tbody>\n",
       "    <tr>\n",
       "      <th>n-s1</th>\n",
       "      <td>Dick Johnson Is Dead</td>\n",
       "      <td>As her father nears the end of his life, filmm...</td>\n",
       "      <td>2020</td>\n",
       "      <td>Movie</td>\n",
       "      <td>Documentaries</td>\n",
       "      <td>Netflix</td>\n",
       "      <td>[s.CRY.ed: %38, Mobile Suit Gundam SEED C.E.73...</td>\n",
       "    </tr>\n",
       "    <tr>\n",
       "      <th>n-s2</th>\n",
       "      <td>Blood &amp; Water</td>\n",
       "      <td>After crossing paths at a party, a Cape Town t...</td>\n",
       "      <td>2021</td>\n",
       "      <td>TV Show</td>\n",
       "      <td>International TV Shows, TV Dramas, TV Mysteries</td>\n",
       "      <td>Netflix</td>\n",
       "      <td>[Sky Girls: %43, Arashi no Yoru ni: %42, Digim...</td>\n",
       "    </tr>\n",
       "    <tr>\n",
       "      <th>n-s3</th>\n",
       "      <td>Ganglands</td>\n",
       "      <td>To protect his family from a powerful drug lor...</td>\n",
       "      <td>2021</td>\n",
       "      <td>TV Show</td>\n",
       "      <td>Crime TV Shows, International TV Shows, TV Act...</td>\n",
       "      <td>Netflix</td>\n",
       "      <td>[Bleach: %43, Aa! Megami-sama!: Sorezore no Ts...</td>\n",
       "    </tr>\n",
       "    <tr>\n",
       "      <th>n-s4</th>\n",
       "      <td>Jailbirds New Orleans</td>\n",
       "      <td>Feuds, flirtations and toilet talk go down amo...</td>\n",
       "      <td>2021</td>\n",
       "      <td>TV Show</td>\n",
       "      <td>Docuseries, Reality TV</td>\n",
       "      <td>Netflix</td>\n",
       "      <td>[Minky Momo in Yume ni Kakeru Hashi: %35, Kimi...</td>\n",
       "    </tr>\n",
       "    <tr>\n",
       "      <th>n-s5</th>\n",
       "      <td>Kota Factory</td>\n",
       "      <td>In a city of coaching centers known to train I...</td>\n",
       "      <td>2021</td>\n",
       "      <td>TV Show</td>\n",
       "      <td>International TV Shows, Romantic TV Shows, TV ...</td>\n",
       "      <td>Netflix</td>\n",
       "      <td>[Doraemon Movie 23: Nobita to Robot Kingdom: %...</td>\n",
       "    </tr>\n",
       "  </tbody>\n",
       "</table>\n",
       "</div>"
      ],
      "text/plain": [
       "                         title  \\\n",
       "show_id                          \n",
       "n-s1      Dick Johnson Is Dead   \n",
       "n-s2             Blood & Water   \n",
       "n-s3                 Ganglands   \n",
       "n-s4     Jailbirds New Orleans   \n",
       "n-s5              Kota Factory   \n",
       "\n",
       "                                               description  release_year  \\\n",
       "show_id                                                                    \n",
       "n-s1     As her father nears the end of his life, filmm...          2020   \n",
       "n-s2     After crossing paths at a party, a Cape Town t...          2021   \n",
       "n-s3     To protect his family from a powerful drug lor...          2021   \n",
       "n-s4     Feuds, flirtations and toilet talk go down amo...          2021   \n",
       "n-s5     In a city of coaching centers known to train I...          2021   \n",
       "\n",
       "            type                                          listed_in   source  \\\n",
       "show_id                                                                        \n",
       "n-s1       Movie                                      Documentaries  Netflix   \n",
       "n-s2     TV Show    International TV Shows, TV Dramas, TV Mysteries  Netflix   \n",
       "n-s3     TV Show  Crime TV Shows, International TV Shows, TV Act...  Netflix   \n",
       "n-s4     TV Show                             Docuseries, Reality TV  Netflix   \n",
       "n-s5     TV Show  International TV Shows, Romantic TV Shows, TV ...  Netflix   \n",
       "\n",
       "                                        recommended_animes  \n",
       "show_id                                                     \n",
       "n-s1     [s.CRY.ed: %38, Mobile Suit Gundam SEED C.E.73...  \n",
       "n-s2     [Sky Girls: %43, Arashi no Yoru ni: %42, Digim...  \n",
       "n-s3     [Bleach: %43, Aa! Megami-sama!: Sorezore no Ts...  \n",
       "n-s4     [Minky Momo in Yume ni Kakeru Hashi: %35, Kimi...  \n",
       "n-s5     [Doraemon Movie 23: Nobita to Robot Kingdom: %...  "
      ]
     },
     "execution_count": 13,
     "metadata": {},
     "output_type": "execute_result"
    }
   ],
   "source": [
    "# Build reccomendations column in la_df from cos_sim tensor\n",
    "\n",
    "recs = []\n",
    "# for each row in the cos_sim tensor\n",
    "for i in range(len(cos_sim)):\n",
    "    mydict={}\n",
    "    \n",
    "    # for each col in the row\n",
    "    for x in range(len(cos_sim[i])):\n",
    "        #assign title to the column from anime_df[\"title\"][col#]\n",
    "        try:\n",
    "            mydict[float(cos_sim[i][x]*-100)] = anime_df[\"title\"][x] + ((': %' + str(round(float(cos_sim[i][x]*100)))))\n",
    "        except KeyError:\n",
    "            continue \n",
    "        #print(mydict)\n",
    "        # try:\n",
    "        #     mydict[anime_df[\"title\"][x],(('%' + str(round(float(cos_sim[i][x]*100)))))] = cos_sim[i][x]\n",
    "        # except KeyError:\n",
    "        #     continue  \n",
    "        # print(mydict)    \n",
    "    # find the max value in all the columns\n",
    "    #top2 = sorted(mydict,keys=mydict.get,reverse=True)[:5]\n",
    "    s = SortedDict(mydict)\n",
    "    top2 = s.values()[:5]\n",
    "    recs.append(top2)\n",
    "\n",
    "la_df['recommended_animes'] = recs\n",
    "\n",
    "la_df.head()"
   ]
  },
  {
   "cell_type": "code",
   "execution_count": null,
   "metadata": {},
   "outputs": [],
   "source": [
    "#la_df_export.reset_index()"
   ]
  },
  {
   "cell_type": "code",
   "execution_count": 18,
   "metadata": {},
   "outputs": [
    {
     "data": {
      "text/html": [
       "<div>\n",
       "<style scoped>\n",
       "    .dataframe tbody tr th:only-of-type {\n",
       "        vertical-align: middle;\n",
       "    }\n",
       "\n",
       "    .dataframe tbody tr th {\n",
       "        vertical-align: top;\n",
       "    }\n",
       "\n",
       "    .dataframe thead th {\n",
       "        text-align: right;\n",
       "    }\n",
       "</style>\n",
       "<table border=\"1\" class=\"dataframe\">\n",
       "  <thead>\n",
       "    <tr style=\"text-align: right;\">\n",
       "      <th></th>\n",
       "      <th>title</th>\n",
       "      <th>recommended_animes</th>\n",
       "    </tr>\n",
       "    <tr>\n",
       "      <th>show_id</th>\n",
       "      <th></th>\n",
       "      <th></th>\n",
       "    </tr>\n",
       "  </thead>\n",
       "  <tbody>\n",
       "    <tr>\n",
       "      <th>n-s1</th>\n",
       "      <td>Dick Johnson Is Dead</td>\n",
       "      <td>[s.CRY.ed: %38, Mobile Suit Gundam SEED C.E.73...</td>\n",
       "    </tr>\n",
       "    <tr>\n",
       "      <th>n-s2</th>\n",
       "      <td>Blood &amp; Water</td>\n",
       "      <td>[Sky Girls: %43, Arashi no Yoru ni: %42, Digim...</td>\n",
       "    </tr>\n",
       "    <tr>\n",
       "      <th>n-s3</th>\n",
       "      <td>Ganglands</td>\n",
       "      <td>[Bleach: %43, Aa! Megami-sama!: Sorezore no Ts...</td>\n",
       "    </tr>\n",
       "    <tr>\n",
       "      <th>n-s4</th>\n",
       "      <td>Jailbirds New Orleans</td>\n",
       "      <td>[Minky Momo in Yume ni Kakeru Hashi: %35, Kimi...</td>\n",
       "    </tr>\n",
       "    <tr>\n",
       "      <th>n-s5</th>\n",
       "      <td>Kota Factory</td>\n",
       "      <td>[Doraemon Movie 23: Nobita to Robot Kingdom: %...</td>\n",
       "    </tr>\n",
       "    <tr>\n",
       "      <th>...</th>\n",
       "      <td>...</td>\n",
       "      <td>...</td>\n",
       "    </tr>\n",
       "    <tr>\n",
       "      <th>a-s9664</th>\n",
       "      <td>Pride Of The Bowery</td>\n",
       "      <td>[Sousei no Aquarion: %33, xxxHOLiC: %33, Dorae...</td>\n",
       "    </tr>\n",
       "    <tr>\n",
       "      <th>a-s9665</th>\n",
       "      <td>Planet Patrol</td>\n",
       "      <td>[Bokura no: %44, PopoloCrois: %41, Muumindani ...</td>\n",
       "    </tr>\n",
       "    <tr>\n",
       "      <th>a-s9666</th>\n",
       "      <td>Outpost</td>\n",
       "      <td>[Ryuusei no Rockman: %44, Keroro Gunsou Movie ...</td>\n",
       "    </tr>\n",
       "    <tr>\n",
       "      <th>a-s9667</th>\n",
       "      <td>Maradona: Blessed Dream</td>\n",
       "      <td>[Giant Gorg: %59, Captain Tsubasa: %40, Prince...</td>\n",
       "    </tr>\n",
       "    <tr>\n",
       "      <th>a-s9668</th>\n",
       "      <td>Harry Brown</td>\n",
       "      <td>[Mobile Suit Gundam 0083: Stardust Memory: %39...</td>\n",
       "    </tr>\n",
       "  </tbody>\n",
       "</table>\n",
       "<p>22964 rows × 2 columns</p>\n",
       "</div>"
      ],
      "text/plain": [
       "                           title  \\\n",
       "show_id                            \n",
       "n-s1        Dick Johnson Is Dead   \n",
       "n-s2               Blood & Water   \n",
       "n-s3                   Ganglands   \n",
       "n-s4       Jailbirds New Orleans   \n",
       "n-s5                Kota Factory   \n",
       "...                          ...   \n",
       "a-s9664      Pride Of The Bowery   \n",
       "a-s9665            Planet Patrol   \n",
       "a-s9666                  Outpost   \n",
       "a-s9667  Maradona: Blessed Dream   \n",
       "a-s9668              Harry Brown   \n",
       "\n",
       "                                        recommended_animes  \n",
       "show_id                                                     \n",
       "n-s1     [s.CRY.ed: %38, Mobile Suit Gundam SEED C.E.73...  \n",
       "n-s2     [Sky Girls: %43, Arashi no Yoru ni: %42, Digim...  \n",
       "n-s3     [Bleach: %43, Aa! Megami-sama!: Sorezore no Ts...  \n",
       "n-s4     [Minky Momo in Yume ni Kakeru Hashi: %35, Kimi...  \n",
       "n-s5     [Doraemon Movie 23: Nobita to Robot Kingdom: %...  \n",
       "...                                                    ...  \n",
       "a-s9664  [Sousei no Aquarion: %33, xxxHOLiC: %33, Dorae...  \n",
       "a-s9665  [Bokura no: %44, PopoloCrois: %41, Muumindani ...  \n",
       "a-s9666  [Ryuusei no Rockman: %44, Keroro Gunsou Movie ...  \n",
       "a-s9667  [Giant Gorg: %59, Captain Tsubasa: %40, Prince...  \n",
       "a-s9668  [Mobile Suit Gundam 0083: Stardust Memory: %39...  \n",
       "\n",
       "[22964 rows x 2 columns]"
      ]
     },
     "execution_count": 18,
     "metadata": {},
     "output_type": "execute_result"
    }
   ],
   "source": [
    "# make new df with only the columns we want\n",
    "la_df_export = la_df[['title', 'recommended_animes']]\n",
    "la_df_export"
   ]
  },
  {
   "cell_type": "code",
   "execution_count": 19,
   "metadata": {},
   "outputs": [],
   "source": [
    "# Export new json\n",
    "la_df_export.to_json('Updated Website/live_actions_with_anime_recs.json', orient='records')"
   ]
  },
  {
   "cell_type": "code",
   "execution_count": 20,
   "metadata": {},
   "outputs": [],
   "source": [
    "# Export new json\n",
    "la_df_export.to_csv('Updated Website/live_actions_with_anime_recs.csv', index=True)"
   ]
  },
  {
   "cell_type": "code",
   "execution_count": null,
   "metadata": {},
   "outputs": [],
   "source": []
  },
  {
   "cell_type": "code",
   "execution_count": null,
   "metadata": {},
   "outputs": [],
   "source": []
  }
 ],
 "metadata": {
  "interpreter": {
   "hash": "b9bb4423a1d3140def98ccfa0c8570d196bf2d194e50a79bd0acfe573e173e22"
  },
  "kernelspec": {
   "display_name": "Python 3.7.11 64-bit ('mlenv': conda)",
   "name": "python3"
  },
  "language_info": {
   "codemirror_mode": {
    "name": "ipython",
    "version": 3
   },
   "file_extension": ".py",
   "mimetype": "text/x-python",
   "name": "python",
   "nbconvert_exporter": "python",
   "pygments_lexer": "ipython3",
   "version": "3.9.7"
  },
  "orig_nbformat": 4
 },
 "nbformat": 4,
 "nbformat_minor": 2
}

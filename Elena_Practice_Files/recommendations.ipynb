{
 "cells": [
  {
   "cell_type": "code",
   "execution_count": 21,
   "source": [
    "import pandas as pd\n",
    "import pprint\n",
    "data_file = 'data/live_actions_with_anime_recs.csv'\n"
   ],
   "outputs": [],
   "metadata": {}
  },
  {
   "cell_type": "code",
   "execution_count": 4,
   "source": [
    "df = pd.read_csv(data_file, index_col=0)\n",
    "df"
   ],
   "outputs": [
    {
     "output_type": "execute_result",
     "data": {
      "text/html": [
       "<div>\n",
       "<style scoped>\n",
       "    .dataframe tbody tr th:only-of-type {\n",
       "        vertical-align: middle;\n",
       "    }\n",
       "\n",
       "    .dataframe tbody tr th {\n",
       "        vertical-align: top;\n",
       "    }\n",
       "\n",
       "    .dataframe thead th {\n",
       "        text-align: right;\n",
       "    }\n",
       "</style>\n",
       "<table border=\"1\" class=\"dataframe\">\n",
       "  <thead>\n",
       "    <tr style=\"text-align: right;\">\n",
       "      <th></th>\n",
       "      <th>show_id</th>\n",
       "      <th>title</th>\n",
       "      <th>description</th>\n",
       "      <th>source</th>\n",
       "      <th>recommended animes</th>\n",
       "    </tr>\n",
       "  </thead>\n",
       "  <tbody>\n",
       "    <tr>\n",
       "      <th>0</th>\n",
       "      <td>n-s1</td>\n",
       "      <td>Dick Johnson Is Dead</td>\n",
       "      <td>As her father nears the end of his life, filmm...</td>\n",
       "      <td>Netflix</td>\n",
       "      <td>['Higashi no Eden', 'Mobile Suit Gundam Thunde...</td>\n",
       "    </tr>\n",
       "    <tr>\n",
       "      <th>1</th>\n",
       "      <td>n-s2</td>\n",
       "      <td>Blood &amp; Water</td>\n",
       "      <td>After crossing paths at a party, a Cape Town t...</td>\n",
       "      <td>Netflix</td>\n",
       "      <td>['Ranma ½ OVA', 'Stringendo+Accelerando Ultima...</td>\n",
       "    </tr>\n",
       "    <tr>\n",
       "      <th>2</th>\n",
       "      <td>n-s3</td>\n",
       "      <td>Ganglands</td>\n",
       "      <td>To protect his family from a powerful drug lor...</td>\n",
       "      <td>Netflix</td>\n",
       "      <td>['Azumanga Daioh', 'Halo Legends', 'Non Non Bi...</td>\n",
       "    </tr>\n",
       "    <tr>\n",
       "      <th>3</th>\n",
       "      <td>n-s4</td>\n",
       "      <td>Jailbirds New Orleans</td>\n",
       "      <td>Feuds, flirtations and toilet talk go down amo...</td>\n",
       "      <td>Netflix</td>\n",
       "      <td>['Shokugeki no Souma: Shin no Sara', 'Stand By...</td>\n",
       "    </tr>\n",
       "    <tr>\n",
       "      <th>4</th>\n",
       "      <td>n-s5</td>\n",
       "      <td>Kota Factory</td>\n",
       "      <td>In a city of coaching centers known to train I...</td>\n",
       "      <td>Netflix</td>\n",
       "      <td>['Genshiken', 'Tate no Yuusha no Nariagari', '...</td>\n",
       "    </tr>\n",
       "    <tr>\n",
       "      <th>...</th>\n",
       "      <td>...</td>\n",
       "      <td>...</td>\n",
       "      <td>...</td>\n",
       "      <td>...</td>\n",
       "      <td>...</td>\n",
       "    </tr>\n",
       "    <tr>\n",
       "      <th>9663</th>\n",
       "      <td>a-s9664</td>\n",
       "      <td>Pride Of The Bowery</td>\n",
       "      <td>New York City street principles get an East Si...</td>\n",
       "      <td>Amazon</td>\n",
       "      <td>['RahXephon: Tagen Hensoukyoku', 'Ansatsu Kyou...</td>\n",
       "    </tr>\n",
       "    <tr>\n",
       "      <th>9664</th>\n",
       "      <td>a-s9665</td>\n",
       "      <td>Planet Patrol</td>\n",
       "      <td>This is Earth, 2100AD - and these are the adve...</td>\n",
       "      <td>Amazon</td>\n",
       "      <td>['Sekai Meisaku Douwa: Hakuchou no Mizuumi', '...</td>\n",
       "    </tr>\n",
       "    <tr>\n",
       "      <th>9665</th>\n",
       "      <td>a-s9666</td>\n",
       "      <td>Outpost</td>\n",
       "      <td>In war-torn Eastern Europe, a world-weary grou...</td>\n",
       "      <td>Amazon</td>\n",
       "      <td>['Inuyashiki', 'Qin Shi Ming Yue: Ye Jin Tianm...</td>\n",
       "    </tr>\n",
       "    <tr>\n",
       "      <th>9666</th>\n",
       "      <td>a-s9667</td>\n",
       "      <td>Maradona: Blessed Dream</td>\n",
       "      <td>The series tells the story of Diego Maradona, ...</td>\n",
       "      <td>Amazon</td>\n",
       "      <td>['Witch Craft Works', 'Peace Hame!', 'Kono Dan...</td>\n",
       "    </tr>\n",
       "    <tr>\n",
       "      <th>9667</th>\n",
       "      <td>a-s9668</td>\n",
       "      <td>Harry Brown</td>\n",
       "      <td>Harry Brown, starring two-time Academy Award w...</td>\n",
       "      <td>Amazon</td>\n",
       "      <td>['HHH Triple Ecchi', 'New Initial D Movie: Leg...</td>\n",
       "    </tr>\n",
       "  </tbody>\n",
       "</table>\n",
       "<p>22994 rows × 5 columns</p>\n",
       "</div>"
      ],
      "text/plain": [
       "      show_id                    title  \\\n",
       "0        n-s1     Dick Johnson Is Dead   \n",
       "1        n-s2            Blood & Water   \n",
       "2        n-s3                Ganglands   \n",
       "3        n-s4    Jailbirds New Orleans   \n",
       "4        n-s5             Kota Factory   \n",
       "...       ...                      ...   \n",
       "9663  a-s9664      Pride Of The Bowery   \n",
       "9664  a-s9665            Planet Patrol   \n",
       "9665  a-s9666                  Outpost   \n",
       "9666  a-s9667  Maradona: Blessed Dream   \n",
       "9667  a-s9668              Harry Brown   \n",
       "\n",
       "                                            description   source  \\\n",
       "0     As her father nears the end of his life, filmm...  Netflix   \n",
       "1     After crossing paths at a party, a Cape Town t...  Netflix   \n",
       "2     To protect his family from a powerful drug lor...  Netflix   \n",
       "3     Feuds, flirtations and toilet talk go down amo...  Netflix   \n",
       "4     In a city of coaching centers known to train I...  Netflix   \n",
       "...                                                 ...      ...   \n",
       "9663  New York City street principles get an East Si...   Amazon   \n",
       "9664  This is Earth, 2100AD - and these are the adve...   Amazon   \n",
       "9665  In war-torn Eastern Europe, a world-weary grou...   Amazon   \n",
       "9666  The series tells the story of Diego Maradona, ...   Amazon   \n",
       "9667  Harry Brown, starring two-time Academy Award w...   Amazon   \n",
       "\n",
       "                                     recommended animes  \n",
       "0     ['Higashi no Eden', 'Mobile Suit Gundam Thunde...  \n",
       "1     ['Ranma ½ OVA', 'Stringendo+Accelerando Ultima...  \n",
       "2     ['Azumanga Daioh', 'Halo Legends', 'Non Non Bi...  \n",
       "3     ['Shokugeki no Souma: Shin no Sara', 'Stand By...  \n",
       "4     ['Genshiken', 'Tate no Yuusha no Nariagari', '...  \n",
       "...                                                 ...  \n",
       "9663  ['RahXephon: Tagen Hensoukyoku', 'Ansatsu Kyou...  \n",
       "9664  ['Sekai Meisaku Douwa: Hakuchou no Mizuumi', '...  \n",
       "9665  ['Inuyashiki', 'Qin Shi Ming Yue: Ye Jin Tianm...  \n",
       "9666  ['Witch Craft Works', 'Peace Hame!', 'Kono Dan...  \n",
       "9667  ['HHH Triple Ecchi', 'New Initial D Movie: Leg...  \n",
       "\n",
       "[22994 rows x 5 columns]"
      ]
     },
     "metadata": {},
     "execution_count": 4
    }
   ],
   "metadata": {}
  },
  {
   "cell_type": "code",
   "execution_count": 8,
   "source": [
    "df.loc[df['title'] == 'Ganglands']"
   ],
   "outputs": [
    {
     "output_type": "execute_result",
     "data": {
      "text/html": [
       "<div>\n",
       "<style scoped>\n",
       "    .dataframe tbody tr th:only-of-type {\n",
       "        vertical-align: middle;\n",
       "    }\n",
       "\n",
       "    .dataframe tbody tr th {\n",
       "        vertical-align: top;\n",
       "    }\n",
       "\n",
       "    .dataframe thead th {\n",
       "        text-align: right;\n",
       "    }\n",
       "</style>\n",
       "<table border=\"1\" class=\"dataframe\">\n",
       "  <thead>\n",
       "    <tr style=\"text-align: right;\">\n",
       "      <th></th>\n",
       "      <th>show_id</th>\n",
       "      <th>title</th>\n",
       "      <th>description</th>\n",
       "      <th>source</th>\n",
       "      <th>recommended animes</th>\n",
       "    </tr>\n",
       "  </thead>\n",
       "  <tbody>\n",
       "    <tr>\n",
       "      <th>2</th>\n",
       "      <td>n-s3</td>\n",
       "      <td>Ganglands</td>\n",
       "      <td>To protect his family from a powerful drug lor...</td>\n",
       "      <td>Netflix</td>\n",
       "      <td>['Azumanga Daioh', 'Halo Legends', 'Non Non Bi...</td>\n",
       "    </tr>\n",
       "  </tbody>\n",
       "</table>\n",
       "</div>"
      ],
      "text/plain": [
       "  show_id      title                                        description  \\\n",
       "2    n-s3  Ganglands  To protect his family from a powerful drug lor...   \n",
       "\n",
       "    source                                 recommended animes  \n",
       "2  Netflix  ['Azumanga Daioh', 'Halo Legends', 'Non Non Bi...  "
      ]
     },
     "metadata": {},
     "execution_count": 8
    }
   ],
   "metadata": {}
  },
  {
   "cell_type": "code",
   "execution_count": 18,
   "source": [
    "row= df.loc[(df['title'] == 'Ganglands')]\n",
    "print(row['recommended animes'])\n"
   ],
   "outputs": [
    {
     "output_type": "stream",
     "name": "stdout",
     "text": [
      "2    ['Azumanga Daioh', 'Halo Legends', 'Non Non Bi...\n",
      "Name: recommended animes, dtype: object\n"
     ]
    }
   ],
   "metadata": {}
  },
  {
   "cell_type": "code",
   "execution_count": 23,
   "source": [
    "user_title = input(\"name of show \")\n",
    "row = df.loc[df['title'] == user_title]\n",
    "print(row['recommended animes'])"
   ],
   "outputs": [
    {
     "output_type": "stream",
     "name": "stdout",
     "text": [
      "2    ['Azumanga Daioh', 'Halo Legends', 'Non Non Bi...\n",
      "Name: recommended animes, dtype: object\n"
     ]
    }
   ],
   "metadata": {}
  },
  {
   "cell_type": "code",
   "execution_count": null,
   "source": [
    "val = input(\"name of show \")\n"
   ],
   "outputs": [],
   "metadata": {}
  }
 ],
 "metadata": {
  "orig_nbformat": 4,
  "language_info": {
   "name": "python",
   "version": "3.7.11",
   "mimetype": "text/x-python",
   "codemirror_mode": {
    "name": "ipython",
    "version": 3
   },
   "pygments_lexer": "ipython3",
   "nbconvert_exporter": "python",
   "file_extension": ".py"
  },
  "kernelspec": {
   "name": "python3",
   "display_name": "Python 3.7.11 64-bit ('mlenv': conda)"
  },
  "interpreter": {
   "hash": "b9bb4423a1d3140def98ccfa0c8570d196bf2d194e50a79bd0acfe573e173e22"
  }
 },
 "nbformat": 4,
 "nbformat_minor": 2
}
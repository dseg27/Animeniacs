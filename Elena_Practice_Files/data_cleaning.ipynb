{
 "cells": [
  {
   "cell_type": "code",
   "execution_count": 1,
   "source": [
    "# Import dependencies\n",
    "import pandas as pd"
   ],
   "outputs": [],
   "metadata": {}
  },
  {
   "cell_type": "code",
   "execution_count": 13,
   "source": [
    "# Load anime data\n",
    "file_anime = 'data/animes.csv'\n",
    "anime_df = pd.read_csv(file_anime)"
   ],
   "outputs": [],
   "metadata": {}
  },
  {
   "cell_type": "code",
   "execution_count": 14,
   "source": [
    "# Drop rows that are missing a synoposis\n",
    "anime_df = anime_df.dropna(axis=0, how='any', subset=['synopsis'])"
   ],
   "outputs": [],
   "metadata": {}
  },
  {
   "cell_type": "code",
   "execution_count": 15,
   "source": [
    "#Drop genres we are not interested in\n",
    "anime_df = anime_df[anime_df['genre'].str.contains(\"Hentai\") == False]\n",
    "anime_df['genre'].value_counts()"
   ],
   "outputs": [
    {
     "output_type": "execute_result",
     "data": {
      "text/plain": [
       "['Music']                                                                 708\n",
       "['Comedy']                                                                598\n",
       "['Kids']                                                                  364\n",
       "['Dementia']                                                              191\n",
       "['Music', 'Kids']                                                         184\n",
       "                                                                         ... \n",
       "['Super Power', 'Martial Arts']                                             1\n",
       "['Action', 'Horror', 'School', 'Shounen', 'Supernatural']                   1\n",
       "['Adventure', 'Comedy', 'Horror', 'Supernatural', 'School', 'Shounen']      1\n",
       "['Fantasy', 'Comedy', 'Shoujo']                                             1\n",
       "['Music', 'Romance', 'Super Power', 'Supernatural']                         1\n",
       "Name: genre, Length: 4611, dtype: int64"
      ]
     },
     "metadata": {},
     "execution_count": 15
    }
   ],
   "metadata": {}
  },
  {
   "cell_type": "code",
   "execution_count": 16,
   "source": [
    "# Remove columns we won't need\n",
    "anime_df = anime_df[['uid', 'title', 'synopsis', 'members', 'popularity', 'ranked', 'score']]\n",
    "anime_df.head()"
   ],
   "outputs": [
    {
     "output_type": "execute_result",
     "data": {
      "text/html": [
       "<div>\n",
       "<style scoped>\n",
       "    .dataframe tbody tr th:only-of-type {\n",
       "        vertical-align: middle;\n",
       "    }\n",
       "\n",
       "    .dataframe tbody tr th {\n",
       "        vertical-align: top;\n",
       "    }\n",
       "\n",
       "    .dataframe thead th {\n",
       "        text-align: right;\n",
       "    }\n",
       "</style>\n",
       "<table border=\"1\" class=\"dataframe\">\n",
       "  <thead>\n",
       "    <tr style=\"text-align: right;\">\n",
       "      <th></th>\n",
       "      <th>uid</th>\n",
       "      <th>title</th>\n",
       "      <th>synopsis</th>\n",
       "      <th>members</th>\n",
       "      <th>popularity</th>\n",
       "      <th>ranked</th>\n",
       "      <th>score</th>\n",
       "    </tr>\n",
       "  </thead>\n",
       "  <tbody>\n",
       "    <tr>\n",
       "      <th>0</th>\n",
       "      <td>28891</td>\n",
       "      <td>Haikyuu!! Second Season</td>\n",
       "      <td>Following their participation at the Inter-Hig...</td>\n",
       "      <td>489888</td>\n",
       "      <td>141</td>\n",
       "      <td>25.0</td>\n",
       "      <td>8.82</td>\n",
       "    </tr>\n",
       "    <tr>\n",
       "      <th>1</th>\n",
       "      <td>23273</td>\n",
       "      <td>Shigatsu wa Kimi no Uso</td>\n",
       "      <td>Music accompanies the path of the human metron...</td>\n",
       "      <td>995473</td>\n",
       "      <td>28</td>\n",
       "      <td>24.0</td>\n",
       "      <td>8.83</td>\n",
       "    </tr>\n",
       "    <tr>\n",
       "      <th>2</th>\n",
       "      <td>34599</td>\n",
       "      <td>Made in Abyss</td>\n",
       "      <td>The Abyss—a gaping chasm stretching down into ...</td>\n",
       "      <td>581663</td>\n",
       "      <td>98</td>\n",
       "      <td>23.0</td>\n",
       "      <td>8.83</td>\n",
       "    </tr>\n",
       "    <tr>\n",
       "      <th>3</th>\n",
       "      <td>5114</td>\n",
       "      <td>Fullmetal Alchemist: Brotherhood</td>\n",
       "      <td>\"In order for something to be obtained, someth...</td>\n",
       "      <td>1615084</td>\n",
       "      <td>4</td>\n",
       "      <td>1.0</td>\n",
       "      <td>9.23</td>\n",
       "    </tr>\n",
       "    <tr>\n",
       "      <th>4</th>\n",
       "      <td>31758</td>\n",
       "      <td>Kizumonogatari III: Reiketsu-hen</td>\n",
       "      <td>After helping revive the legendary vampire Kis...</td>\n",
       "      <td>214621</td>\n",
       "      <td>502</td>\n",
       "      <td>22.0</td>\n",
       "      <td>8.83</td>\n",
       "    </tr>\n",
       "  </tbody>\n",
       "</table>\n",
       "</div>"
      ],
      "text/plain": [
       "     uid                             title  \\\n",
       "0  28891           Haikyuu!! Second Season   \n",
       "1  23273           Shigatsu wa Kimi no Uso   \n",
       "2  34599                     Made in Abyss   \n",
       "3   5114  Fullmetal Alchemist: Brotherhood   \n",
       "4  31758  Kizumonogatari III: Reiketsu-hen   \n",
       "\n",
       "                                            synopsis  members  popularity  \\\n",
       "0  Following their participation at the Inter-Hig...   489888         141   \n",
       "1  Music accompanies the path of the human metron...   995473          28   \n",
       "2  The Abyss—a gaping chasm stretching down into ...   581663          98   \n",
       "3  \"In order for something to be obtained, someth...  1615084           4   \n",
       "4  After helping revive the legendary vampire Kis...   214621         502   \n",
       "\n",
       "   ranked  score  \n",
       "0    25.0   8.82  \n",
       "1    24.0   8.83  \n",
       "2    23.0   8.83  \n",
       "3     1.0   9.23  \n",
       "4    22.0   8.83  "
      ]
     },
     "metadata": {},
     "execution_count": 16
    }
   ],
   "metadata": {}
  },
  {
   "cell_type": "code",
   "execution_count": 20,
   "source": [
    "anime_df.dtypes"
   ],
   "outputs": [
    {
     "output_type": "execute_result",
     "data": {
      "text/plain": [
       "uid             int64\n",
       "title          object\n",
       "synopsis       object\n",
       "members         int64\n",
       "popularity      int64\n",
       "ranked        float64\n",
       "score         float64\n",
       "dtype: object"
      ]
     },
     "metadata": {},
     "execution_count": 20
    }
   ],
   "metadata": {}
  },
  {
   "cell_type": "code",
   "execution_count": 21,
   "source": [
    "# Remove animes with user scores less than 7; don't want to reccomend bad shows!\n",
    "# also gets rid of 13778 rows in anime_df :)\n",
    "anime_df = anime_df[anime_df['score'] > 6.99]\n",
    "anime_df.shape"
   ],
   "outputs": [
    {
     "output_type": "execute_result",
     "data": {
      "text/plain": [
       "(5111, 7)"
      ]
     },
     "metadata": {},
     "execution_count": 21
    }
   ],
   "metadata": {}
  },
  {
   "cell_type": "code",
   "execution_count": 22,
   "source": [
    "# Check for missing values\n",
    "anime_df.isna().sum()"
   ],
   "outputs": [
    {
     "output_type": "execute_result",
     "data": {
      "text/plain": [
       "uid            0\n",
       "title          0\n",
       "synopsis       0\n",
       "members        0\n",
       "popularity     0\n",
       "ranked        14\n",
       "score          0\n",
       "dtype: int64"
      ]
     },
     "metadata": {},
     "execution_count": 22
    }
   ],
   "metadata": {}
  },
  {
   "cell_type": "code",
   "execution_count": 23,
   "source": [
    "# Make sure rows are dropped (ex: 29 and 31 should be missing)\n",
    "anime_df[27:32]"
   ],
   "outputs": [
    {
     "output_type": "execute_result",
     "data": {
      "text/html": [
       "<div>\n",
       "<style scoped>\n",
       "    .dataframe tbody tr th:only-of-type {\n",
       "        vertical-align: middle;\n",
       "    }\n",
       "\n",
       "    .dataframe tbody tr th {\n",
       "        vertical-align: top;\n",
       "    }\n",
       "\n",
       "    .dataframe thead th {\n",
       "        text-align: right;\n",
       "    }\n",
       "</style>\n",
       "<table border=\"1\" class=\"dataframe\">\n",
       "  <thead>\n",
       "    <tr style=\"text-align: right;\">\n",
       "      <th></th>\n",
       "      <th>uid</th>\n",
       "      <th>title</th>\n",
       "      <th>synopsis</th>\n",
       "      <th>members</th>\n",
       "      <th>popularity</th>\n",
       "      <th>ranked</th>\n",
       "      <th>score</th>\n",
       "    </tr>\n",
       "  </thead>\n",
       "  <tbody>\n",
       "    <tr>\n",
       "      <th>27</th>\n",
       "      <td>5680</td>\n",
       "      <td>K-On!</td>\n",
       "      <td>Hirasawa Yui, a young, carefree girl entering ...</td>\n",
       "      <td>610222</td>\n",
       "      <td>90</td>\n",
       "      <td>792.0</td>\n",
       "      <td>7.86</td>\n",
       "    </tr>\n",
       "    <tr>\n",
       "      <th>28</th>\n",
       "      <td>451</td>\n",
       "      <td>InuYasha Movie 3: Tenka Hadou no Ken</td>\n",
       "      <td>Izayoi and Inu no Taishou, Inuyasha's parents,...</td>\n",
       "      <td>68407</td>\n",
       "      <td>1527</td>\n",
       "      <td>791.0</td>\n",
       "      <td>7.86</td>\n",
       "    </tr>\n",
       "    <tr>\n",
       "      <th>30</th>\n",
       "      <td>30364</td>\n",
       "      <td>Haikyuu!! Movie 2: Shousha to Haisha</td>\n",
       "      <td>Second  Haikyuu!!  recap movie.</td>\n",
       "      <td>27734</td>\n",
       "      <td>2698</td>\n",
       "      <td>789.0</td>\n",
       "      <td>7.86</td>\n",
       "    </tr>\n",
       "    <tr>\n",
       "      <th>32</th>\n",
       "      <td>36369</td>\n",
       "      <td>Ginga Eiyuu Densetsu: Die Neue These - Seiran 1</td>\n",
       "      <td>The Free Planets Alliance's invasion of the Ga...</td>\n",
       "      <td>11817</td>\n",
       "      <td>4041</td>\n",
       "      <td>787.0</td>\n",
       "      <td>7.86</td>\n",
       "    </tr>\n",
       "    <tr>\n",
       "      <th>33</th>\n",
       "      <td>27633</td>\n",
       "      <td>Gekkan Shoujo Nozaki-kun Specials</td>\n",
       "      <td>Specials bundled with the Blu-ray/DVDs.</td>\n",
       "      <td>87789</td>\n",
       "      <td>1233</td>\n",
       "      <td>786.0</td>\n",
       "      <td>7.86</td>\n",
       "    </tr>\n",
       "  </tbody>\n",
       "</table>\n",
       "</div>"
      ],
      "text/plain": [
       "      uid                                            title  \\\n",
       "27   5680                                            K-On!   \n",
       "28    451             InuYasha Movie 3: Tenka Hadou no Ken   \n",
       "30  30364             Haikyuu!! Movie 2: Shousha to Haisha   \n",
       "32  36369  Ginga Eiyuu Densetsu: Die Neue These - Seiran 1   \n",
       "33  27633                Gekkan Shoujo Nozaki-kun Specials   \n",
       "\n",
       "                                             synopsis  members  popularity  \\\n",
       "27  Hirasawa Yui, a young, carefree girl entering ...   610222          90   \n",
       "28  Izayoi and Inu no Taishou, Inuyasha's parents,...    68407        1527   \n",
       "30                    Second  Haikyuu!!  recap movie.    27734        2698   \n",
       "32  The Free Planets Alliance's invasion of the Ga...    11817        4041   \n",
       "33            Specials bundled with the Blu-ray/DVDs.    87789        1233   \n",
       "\n",
       "    ranked  score  \n",
       "27   792.0   7.86  \n",
       "28   791.0   7.86  \n",
       "30   789.0   7.86  \n",
       "32   787.0   7.86  \n",
       "33   786.0   7.86  "
      ]
     },
     "metadata": {},
     "execution_count": 23
    }
   ],
   "metadata": {}
  },
  {
   "cell_type": "code",
   "execution_count": 24,
   "source": [
    "# Load other show data from CSVs\n",
    "file_amazon = 'data/amazon_prime_titles.csv'\n",
    "file_hulu = 'data/hulu_titles.csv'\n",
    "file_disney = 'data/disney_plus_titles.csv'\n",
    "file_netflix = 'data/netflix_titles.csv'"
   ],
   "outputs": [],
   "metadata": {}
  },
  {
   "cell_type": "code",
   "execution_count": 25,
   "source": [
    "# Create df for each one\n",
    "amazon_df = pd.read_csv(file_amazon)\n",
    "hulu_df = pd.read_csv(file_hulu)\n",
    "disney_df = pd.read_csv(file_disney)\n",
    "netflix_df = pd.read_csv(file_netflix)"
   ],
   "outputs": [],
   "metadata": {}
  },
  {
   "cell_type": "code",
   "execution_count": 26,
   "source": [
    "# Pare down columns\n",
    "netflix_df = netflix_df[['show_id', 'title', 'description']]\n",
    "disney_df = disney_df[['show_id', 'title', 'description']]\n",
    "amazon_df = amazon_df[['show_id', 'title', 'description']]\n",
    "hulu_df = hulu_df[['show_id', 'title', 'description']]"
   ],
   "outputs": [],
   "metadata": {}
  },
  {
   "cell_type": "code",
   "execution_count": 27,
   "source": [
    "netflix_df.head()"
   ],
   "outputs": [
    {
     "output_type": "execute_result",
     "data": {
      "text/html": [
       "<div>\n",
       "<style scoped>\n",
       "    .dataframe tbody tr th:only-of-type {\n",
       "        vertical-align: middle;\n",
       "    }\n",
       "\n",
       "    .dataframe tbody tr th {\n",
       "        vertical-align: top;\n",
       "    }\n",
       "\n",
       "    .dataframe thead th {\n",
       "        text-align: right;\n",
       "    }\n",
       "</style>\n",
       "<table border=\"1\" class=\"dataframe\">\n",
       "  <thead>\n",
       "    <tr style=\"text-align: right;\">\n",
       "      <th></th>\n",
       "      <th>show_id</th>\n",
       "      <th>title</th>\n",
       "      <th>description</th>\n",
       "    </tr>\n",
       "  </thead>\n",
       "  <tbody>\n",
       "    <tr>\n",
       "      <th>0</th>\n",
       "      <td>s1</td>\n",
       "      <td>Dick Johnson Is Dead</td>\n",
       "      <td>As her father nears the end of his life, filmm...</td>\n",
       "    </tr>\n",
       "    <tr>\n",
       "      <th>1</th>\n",
       "      <td>s2</td>\n",
       "      <td>Blood &amp; Water</td>\n",
       "      <td>After crossing paths at a party, a Cape Town t...</td>\n",
       "    </tr>\n",
       "    <tr>\n",
       "      <th>2</th>\n",
       "      <td>s3</td>\n",
       "      <td>Ganglands</td>\n",
       "      <td>To protect his family from a powerful drug lor...</td>\n",
       "    </tr>\n",
       "    <tr>\n",
       "      <th>3</th>\n",
       "      <td>s4</td>\n",
       "      <td>Jailbirds New Orleans</td>\n",
       "      <td>Feuds, flirtations and toilet talk go down amo...</td>\n",
       "    </tr>\n",
       "    <tr>\n",
       "      <th>4</th>\n",
       "      <td>s5</td>\n",
       "      <td>Kota Factory</td>\n",
       "      <td>In a city of coaching centers known to train I...</td>\n",
       "    </tr>\n",
       "  </tbody>\n",
       "</table>\n",
       "</div>"
      ],
      "text/plain": [
       "  show_id                  title  \\\n",
       "0      s1   Dick Johnson Is Dead   \n",
       "1      s2          Blood & Water   \n",
       "2      s3              Ganglands   \n",
       "3      s4  Jailbirds New Orleans   \n",
       "4      s5           Kota Factory   \n",
       "\n",
       "                                         description  \n",
       "0  As her father nears the end of his life, filmm...  \n",
       "1  After crossing paths at a party, a Cape Town t...  \n",
       "2  To protect his family from a powerful drug lor...  \n",
       "3  Feuds, flirtations and toilet talk go down amo...  \n",
       "4  In a city of coaching centers known to train I...  "
      ]
     },
     "metadata": {},
     "execution_count": 27
    }
   ],
   "metadata": {}
  },
  {
   "cell_type": "code",
   "execution_count": 28,
   "source": [
    "# Add source flag to show ids (will be combining all of these into one df)\n",
    "netflix_df['show_id'] = 'n-' + netflix_df['show_id']\n",
    "disney_df['show_id'] = 'd-' + disney_df['show_id']\n",
    "hulu_df['show_id'] = 'h-' + hulu_df['show_id']\n",
    "amazon_df['show_id'] = 'a-' + amazon_df['show_id']"
   ],
   "outputs": [],
   "metadata": {}
  },
  {
   "cell_type": "code",
   "execution_count": 29,
   "source": [
    "amazon_df.head()"
   ],
   "outputs": [
    {
     "output_type": "execute_result",
     "data": {
      "text/html": [
       "<div>\n",
       "<style scoped>\n",
       "    .dataframe tbody tr th:only-of-type {\n",
       "        vertical-align: middle;\n",
       "    }\n",
       "\n",
       "    .dataframe tbody tr th {\n",
       "        vertical-align: top;\n",
       "    }\n",
       "\n",
       "    .dataframe thead th {\n",
       "        text-align: right;\n",
       "    }\n",
       "</style>\n",
       "<table border=\"1\" class=\"dataframe\">\n",
       "  <thead>\n",
       "    <tr style=\"text-align: right;\">\n",
       "      <th></th>\n",
       "      <th>show_id</th>\n",
       "      <th>title</th>\n",
       "      <th>description</th>\n",
       "    </tr>\n",
       "  </thead>\n",
       "  <tbody>\n",
       "    <tr>\n",
       "      <th>0</th>\n",
       "      <td>a-s1</td>\n",
       "      <td>The Grand Seduction</td>\n",
       "      <td>A small fishing village must procure a local d...</td>\n",
       "    </tr>\n",
       "    <tr>\n",
       "      <th>1</th>\n",
       "      <td>a-s2</td>\n",
       "      <td>Take Care Good Night</td>\n",
       "      <td>A Metro Family decides to fight a Cyber Crimin...</td>\n",
       "    </tr>\n",
       "    <tr>\n",
       "      <th>2</th>\n",
       "      <td>a-s3</td>\n",
       "      <td>Secrets of Deception</td>\n",
       "      <td>After a man discovers his wife is cheating on ...</td>\n",
       "    </tr>\n",
       "    <tr>\n",
       "      <th>3</th>\n",
       "      <td>a-s4</td>\n",
       "      <td>Pink: Staying True</td>\n",
       "      <td>Pink breaks the mold once again, bringing her ...</td>\n",
       "    </tr>\n",
       "    <tr>\n",
       "      <th>4</th>\n",
       "      <td>a-s5</td>\n",
       "      <td>Monster Maker</td>\n",
       "      <td>Teenage Matt Banting wants to work with a famo...</td>\n",
       "    </tr>\n",
       "  </tbody>\n",
       "</table>\n",
       "</div>"
      ],
      "text/plain": [
       "  show_id                 title  \\\n",
       "0    a-s1   The Grand Seduction   \n",
       "1    a-s2  Take Care Good Night   \n",
       "2    a-s3  Secrets of Deception   \n",
       "3    a-s4    Pink: Staying True   \n",
       "4    a-s5         Monster Maker   \n",
       "\n",
       "                                         description  \n",
       "0  A small fishing village must procure a local d...  \n",
       "1  A Metro Family decides to fight a Cyber Crimin...  \n",
       "2  After a man discovers his wife is cheating on ...  \n",
       "3  Pink breaks the mold once again, bringing her ...  \n",
       "4  Teenage Matt Banting wants to work with a famo...  "
      ]
     },
     "metadata": {},
     "execution_count": 29
    }
   ],
   "metadata": {}
  },
  {
   "cell_type": "code",
   "execution_count": 30,
   "source": [
    "# Add source column \n",
    "netflix_df['source'] = 'Netflix'\n",
    "disney_df['source'] = 'Disney'\n",
    "hulu_df['source'] = 'Hulu'\n",
    "amazon_df['source'] = 'Amazon'"
   ],
   "outputs": [],
   "metadata": {}
  },
  {
   "cell_type": "code",
   "execution_count": 31,
   "source": [
    "hulu_df.head()"
   ],
   "outputs": [
    {
     "output_type": "execute_result",
     "data": {
      "text/html": [
       "<div>\n",
       "<style scoped>\n",
       "    .dataframe tbody tr th:only-of-type {\n",
       "        vertical-align: middle;\n",
       "    }\n",
       "\n",
       "    .dataframe tbody tr th {\n",
       "        vertical-align: top;\n",
       "    }\n",
       "\n",
       "    .dataframe thead th {\n",
       "        text-align: right;\n",
       "    }\n",
       "</style>\n",
       "<table border=\"1\" class=\"dataframe\">\n",
       "  <thead>\n",
       "    <tr style=\"text-align: right;\">\n",
       "      <th></th>\n",
       "      <th>show_id</th>\n",
       "      <th>title</th>\n",
       "      <th>description</th>\n",
       "      <th>source</th>\n",
       "    </tr>\n",
       "  </thead>\n",
       "  <tbody>\n",
       "    <tr>\n",
       "      <th>0</th>\n",
       "      <td>h-s1</td>\n",
       "      <td>Ricky Velez: Here's Everything</td>\n",
       "      <td>​Comedian Ricky Velez bares it all with his ho...</td>\n",
       "      <td>Hulu</td>\n",
       "    </tr>\n",
       "    <tr>\n",
       "      <th>1</th>\n",
       "      <td>h-s2</td>\n",
       "      <td>Silent Night</td>\n",
       "      <td>Mark, a low end South London hitman recently r...</td>\n",
       "      <td>Hulu</td>\n",
       "    </tr>\n",
       "    <tr>\n",
       "      <th>2</th>\n",
       "      <td>h-s3</td>\n",
       "      <td>The Marksman</td>\n",
       "      <td>A hardened Arizona rancher tries to protect an...</td>\n",
       "      <td>Hulu</td>\n",
       "    </tr>\n",
       "    <tr>\n",
       "      <th>3</th>\n",
       "      <td>h-s4</td>\n",
       "      <td>Gaia</td>\n",
       "      <td>A forest ranger and two survivalists with a cu...</td>\n",
       "      <td>Hulu</td>\n",
       "    </tr>\n",
       "    <tr>\n",
       "      <th>4</th>\n",
       "      <td>h-s5</td>\n",
       "      <td>Settlers</td>\n",
       "      <td>Mankind's earliest settlers on the Martian fro...</td>\n",
       "      <td>Hulu</td>\n",
       "    </tr>\n",
       "  </tbody>\n",
       "</table>\n",
       "</div>"
      ],
      "text/plain": [
       "  show_id                           title  \\\n",
       "0    h-s1  Ricky Velez: Here's Everything   \n",
       "1    h-s2                    Silent Night   \n",
       "2    h-s3                    The Marksman   \n",
       "3    h-s4                            Gaia   \n",
       "4    h-s5                        Settlers   \n",
       "\n",
       "                                         description source  \n",
       "0  ​Comedian Ricky Velez bares it all with his ho...   Hulu  \n",
       "1  Mark, a low end South London hitman recently r...   Hulu  \n",
       "2  A hardened Arizona rancher tries to protect an...   Hulu  \n",
       "3  A forest ranger and two survivalists with a cu...   Hulu  \n",
       "4  Mankind's earliest settlers on the Martian fro...   Hulu  "
      ]
     },
     "metadata": {},
     "execution_count": 31
    }
   ],
   "metadata": {}
  },
  {
   "cell_type": "code",
   "execution_count": 35,
   "source": [
    "dfs = [netflix_df, hulu_df, disney_df,amazon_df]"
   ],
   "outputs": [],
   "metadata": {}
  },
  {
   "cell_type": "code",
   "execution_count": 36,
   "source": [
    "live_action_df = pd.concat(dfs)"
   ],
   "outputs": [],
   "metadata": {}
  },
  {
   "cell_type": "code",
   "execution_count": 37,
   "source": [
    "len(live_action_df)"
   ],
   "outputs": [
    {
     "output_type": "execute_result",
     "data": {
      "text/plain": [
       "22998"
      ]
     },
     "metadata": {},
     "execution_count": 37
    }
   ],
   "metadata": {}
  },
  {
   "cell_type": "code",
   "execution_count": 38,
   "source": [
    "live_action_df"
   ],
   "outputs": [
    {
     "output_type": "execute_result",
     "data": {
      "text/html": [
       "<div>\n",
       "<style scoped>\n",
       "    .dataframe tbody tr th:only-of-type {\n",
       "        vertical-align: middle;\n",
       "    }\n",
       "\n",
       "    .dataframe tbody tr th {\n",
       "        vertical-align: top;\n",
       "    }\n",
       "\n",
       "    .dataframe thead th {\n",
       "        text-align: right;\n",
       "    }\n",
       "</style>\n",
       "<table border=\"1\" class=\"dataframe\">\n",
       "  <thead>\n",
       "    <tr style=\"text-align: right;\">\n",
       "      <th></th>\n",
       "      <th>show_id</th>\n",
       "      <th>title</th>\n",
       "      <th>description</th>\n",
       "      <th>source</th>\n",
       "    </tr>\n",
       "  </thead>\n",
       "  <tbody>\n",
       "    <tr>\n",
       "      <th>0</th>\n",
       "      <td>n-s1</td>\n",
       "      <td>Dick Johnson Is Dead</td>\n",
       "      <td>As her father nears the end of his life, filmm...</td>\n",
       "      <td>Netflix</td>\n",
       "    </tr>\n",
       "    <tr>\n",
       "      <th>1</th>\n",
       "      <td>n-s2</td>\n",
       "      <td>Blood &amp; Water</td>\n",
       "      <td>After crossing paths at a party, a Cape Town t...</td>\n",
       "      <td>Netflix</td>\n",
       "    </tr>\n",
       "    <tr>\n",
       "      <th>2</th>\n",
       "      <td>n-s3</td>\n",
       "      <td>Ganglands</td>\n",
       "      <td>To protect his family from a powerful drug lor...</td>\n",
       "      <td>Netflix</td>\n",
       "    </tr>\n",
       "    <tr>\n",
       "      <th>3</th>\n",
       "      <td>n-s4</td>\n",
       "      <td>Jailbirds New Orleans</td>\n",
       "      <td>Feuds, flirtations and toilet talk go down amo...</td>\n",
       "      <td>Netflix</td>\n",
       "    </tr>\n",
       "    <tr>\n",
       "      <th>4</th>\n",
       "      <td>n-s5</td>\n",
       "      <td>Kota Factory</td>\n",
       "      <td>In a city of coaching centers known to train I...</td>\n",
       "      <td>Netflix</td>\n",
       "    </tr>\n",
       "    <tr>\n",
       "      <th>...</th>\n",
       "      <td>...</td>\n",
       "      <td>...</td>\n",
       "      <td>...</td>\n",
       "      <td>...</td>\n",
       "    </tr>\n",
       "    <tr>\n",
       "      <th>9663</th>\n",
       "      <td>a-s9664</td>\n",
       "      <td>Pride Of The Bowery</td>\n",
       "      <td>New York City street principles get an East Si...</td>\n",
       "      <td>Amazon</td>\n",
       "    </tr>\n",
       "    <tr>\n",
       "      <th>9664</th>\n",
       "      <td>a-s9665</td>\n",
       "      <td>Planet Patrol</td>\n",
       "      <td>This is Earth, 2100AD - and these are the adve...</td>\n",
       "      <td>Amazon</td>\n",
       "    </tr>\n",
       "    <tr>\n",
       "      <th>9665</th>\n",
       "      <td>a-s9666</td>\n",
       "      <td>Outpost</td>\n",
       "      <td>In war-torn Eastern Europe, a world-weary grou...</td>\n",
       "      <td>Amazon</td>\n",
       "    </tr>\n",
       "    <tr>\n",
       "      <th>9666</th>\n",
       "      <td>a-s9667</td>\n",
       "      <td>Maradona: Blessed Dream</td>\n",
       "      <td>The series tells the story of Diego Maradona, ...</td>\n",
       "      <td>Amazon</td>\n",
       "    </tr>\n",
       "    <tr>\n",
       "      <th>9667</th>\n",
       "      <td>a-s9668</td>\n",
       "      <td>Harry Brown</td>\n",
       "      <td>Harry Brown, starring two-time Academy Award w...</td>\n",
       "      <td>Amazon</td>\n",
       "    </tr>\n",
       "  </tbody>\n",
       "</table>\n",
       "<p>22998 rows × 4 columns</p>\n",
       "</div>"
      ],
      "text/plain": [
       "      show_id                    title  \\\n",
       "0        n-s1     Dick Johnson Is Dead   \n",
       "1        n-s2            Blood & Water   \n",
       "2        n-s3                Ganglands   \n",
       "3        n-s4    Jailbirds New Orleans   \n",
       "4        n-s5             Kota Factory   \n",
       "...       ...                      ...   \n",
       "9663  a-s9664      Pride Of The Bowery   \n",
       "9664  a-s9665            Planet Patrol   \n",
       "9665  a-s9666                  Outpost   \n",
       "9666  a-s9667  Maradona: Blessed Dream   \n",
       "9667  a-s9668              Harry Brown   \n",
       "\n",
       "                                            description   source  \n",
       "0     As her father nears the end of his life, filmm...  Netflix  \n",
       "1     After crossing paths at a party, a Cape Town t...  Netflix  \n",
       "2     To protect his family from a powerful drug lor...  Netflix  \n",
       "3     Feuds, flirtations and toilet talk go down amo...  Netflix  \n",
       "4     In a city of coaching centers known to train I...  Netflix  \n",
       "...                                                 ...      ...  \n",
       "9663  New York City street principles get an East Si...   Amazon  \n",
       "9664  This is Earth, 2100AD - and these are the adve...   Amazon  \n",
       "9665  In war-torn Eastern Europe, a world-weary grou...   Amazon  \n",
       "9666  The series tells the story of Diego Maradona, ...   Amazon  \n",
       "9667  Harry Brown, starring two-time Academy Award w...   Amazon  \n",
       "\n",
       "[22998 rows x 4 columns]"
      ]
     },
     "metadata": {},
     "execution_count": 38
    }
   ],
   "metadata": {}
  },
  {
   "cell_type": "code",
   "execution_count": 39,
   "source": [
    "# Count the number of shows from each source\n",
    "live_action_df.groupby('source').count()"
   ],
   "outputs": [
    {
     "output_type": "execute_result",
     "data": {
      "text/html": [
       "<div>\n",
       "<style scoped>\n",
       "    .dataframe tbody tr th:only-of-type {\n",
       "        vertical-align: middle;\n",
       "    }\n",
       "\n",
       "    .dataframe tbody tr th {\n",
       "        vertical-align: top;\n",
       "    }\n",
       "\n",
       "    .dataframe thead th {\n",
       "        text-align: right;\n",
       "    }\n",
       "</style>\n",
       "<table border=\"1\" class=\"dataframe\">\n",
       "  <thead>\n",
       "    <tr style=\"text-align: right;\">\n",
       "      <th></th>\n",
       "      <th>show_id</th>\n",
       "      <th>title</th>\n",
       "      <th>description</th>\n",
       "    </tr>\n",
       "    <tr>\n",
       "      <th>source</th>\n",
       "      <th></th>\n",
       "      <th></th>\n",
       "      <th></th>\n",
       "    </tr>\n",
       "  </thead>\n",
       "  <tbody>\n",
       "    <tr>\n",
       "      <th>Amazon</th>\n",
       "      <td>9668</td>\n",
       "      <td>9668</td>\n",
       "      <td>9668</td>\n",
       "    </tr>\n",
       "    <tr>\n",
       "      <th>Disney</th>\n",
       "      <td>1450</td>\n",
       "      <td>1450</td>\n",
       "      <td>1450</td>\n",
       "    </tr>\n",
       "    <tr>\n",
       "      <th>Hulu</th>\n",
       "      <td>3073</td>\n",
       "      <td>3073</td>\n",
       "      <td>3069</td>\n",
       "    </tr>\n",
       "    <tr>\n",
       "      <th>Netflix</th>\n",
       "      <td>8807</td>\n",
       "      <td>8807</td>\n",
       "      <td>8807</td>\n",
       "    </tr>\n",
       "  </tbody>\n",
       "</table>\n",
       "</div>"
      ],
      "text/plain": [
       "         show_id  title  description\n",
       "source                              \n",
       "Amazon      9668   9668         9668\n",
       "Disney      1450   1450         1450\n",
       "Hulu        3073   3073         3069\n",
       "Netflix     8807   8807         8807"
      ]
     },
     "metadata": {},
     "execution_count": 39
    }
   ],
   "metadata": {}
  },
  {
   "cell_type": "code",
   "execution_count": 40,
   "source": [
    "# Check to see if there are any nulls\n",
    "live_action_df.isna().sum()"
   ],
   "outputs": [
    {
     "output_type": "execute_result",
     "data": {
      "text/plain": [
       "show_id        0\n",
       "title          0\n",
       "description    4\n",
       "source         0\n",
       "dtype: int64"
      ]
     },
     "metadata": {},
     "execution_count": 40
    }
   ],
   "metadata": {}
  },
  {
   "cell_type": "code",
   "execution_count": 41,
   "source": [
    "# Drop shows without description\n",
    "live_action_df = live_action_df.dropna()"
   ],
   "outputs": [],
   "metadata": {}
  },
  {
   "cell_type": "code",
   "execution_count": 42,
   "source": [
    "live_action_df.shape"
   ],
   "outputs": [
    {
     "output_type": "execute_result",
     "data": {
      "text/plain": [
       "(22994, 4)"
      ]
     },
     "metadata": {},
     "execution_count": 42
    }
   ],
   "metadata": {}
  },
  {
   "cell_type": "code",
   "execution_count": 43,
   "source": [
    "live_action_df.isna().sum()"
   ],
   "outputs": [
    {
     "output_type": "execute_result",
     "data": {
      "text/plain": [
       "show_id        0\n",
       "title          0\n",
       "description    0\n",
       "source         0\n",
       "dtype: int64"
      ]
     },
     "metadata": {},
     "execution_count": 43
    }
   ],
   "metadata": {}
  },
  {
   "cell_type": "code",
   "execution_count": 44,
   "source": [
    "# Create clean CSVs\n",
    "anime_df.to_csv('data/cleaned_anime.csv')\n",
    "live_action_df.to_csv('data/cleaned_live_actions.csv')"
   ],
   "outputs": [],
   "metadata": {}
  },
  {
   "cell_type": "code",
   "execution_count": null,
   "source": [],
   "outputs": [],
   "metadata": {}
  }
 ],
 "metadata": {
  "kernelspec": {
   "name": "python3",
   "display_name": "Python 3.7.11 64-bit ('mlenv': conda)"
  },
  "language_info": {
   "codemirror_mode": {
    "name": "ipython",
    "version": 3
   },
   "file_extension": ".py",
   "mimetype": "text/x-python",
   "name": "python",
   "nbconvert_exporter": "python",
   "pygments_lexer": "ipython3",
   "version": "3.7.11"
  },
  "interpreter": {
   "hash": "b9bb4423a1d3140def98ccfa0c8570d196bf2d194e50a79bd0acfe573e173e22"
  }
 },
 "nbformat": 4,
 "nbformat_minor": 5
}
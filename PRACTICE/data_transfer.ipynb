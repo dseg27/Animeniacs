{
 "cells": [
  {
   "cell_type": "code",
   "execution_count": 1,
   "id": "288cbade-b5ee-450c-9d78-7786bf52b3ff",
   "metadata": {},
   "outputs": [],
   "source": [
    "#Import pandas \n",
    "import pandas as pd\n"
   ]
  },
  {
   "cell_type": "code",
   "execution_count": null,
   "id": "7053d497-cadb-4066-89e7-808f58d80ffb",
   "metadata": {},
   "outputs": [],
   "source": [
    "# Read in CSVs \n",
    "\n",
    "clean_anime = pd.read_csv()"
   ]
  }
 ],
 "metadata": {
  "kernelspec": {
   "display_name": "mlenv",
   "language": "python",
   "name": "mlenv"
  },
  "language_info": {
   "codemirror_mode": {
    "name": "ipython",
    "version": 3
   },
   "file_extension": ".py",
   "mimetype": "text/x-python",
   "name": "python",
   "nbconvert_exporter": "python",
   "pygments_lexer": "ipython3",
   "version": "3.7.11"
  }
 },
 "nbformat": 4,
 "nbformat_minor": 5
}

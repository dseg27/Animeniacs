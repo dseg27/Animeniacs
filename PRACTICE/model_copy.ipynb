{
 "cells": [
  {
   "cell_type": "code",
   "execution_count": 1,
   "metadata": {},
   "outputs": [],
   "source": [
    "# Install and import packages into mlenv enviroment \n",
    "from sentence_transformers import SentenceTransformer, util\n",
    "import pandas as pd"
   ]
  },
  {
   "cell_type": "code",
   "execution_count": 2,
   "metadata": {},
   "outputs": [],
   "source": [
    "# Define model from sentence_transformers\n",
    "model = SentenceTransformer('all-MiniLM-L6-v2')"
   ]
  },
  {
   "cell_type": "code",
   "execution_count": 3,
   "metadata": {},
   "outputs": [],
   "source": [
    "# Import cleaned data csvs\n",
    "file_anime = 'data/cleaned_anime.csv'\n",
    "file_la = 'data/cleaned_live_actions.csv'"
   ]
  },
  {
   "cell_type": "code",
   "execution_count": 4,
   "metadata": {},
   "outputs": [],
   "source": [
    "# Create dfs\n",
    "anime_df = pd.read_csv(file_anime, index_col=0) # add index_col=0 so that there aren't 2 index columns!\n",
    "la_df = pd.read_csv(file_la, index_col=0)"
   ]
  },
  {
   "cell_type": "code",
   "execution_count": 5,
   "metadata": {},
   "outputs": [],
   "source": [
    "# Make a list of anime descriptions from df\n",
    "anime_desc = anime_df['synopsis'].tolist()"
   ]
  },
  {
   "cell_type": "code",
   "execution_count": 6,
   "metadata": {},
   "outputs": [],
   "source": [
    "# Make a list of netflix, hulu, amazon prime, disney+ descriptions\n",
    "la_desc = la_df['description'].tolist()"
   ]
  },
  {
   "cell_type": "code",
   "execution_count": 7,
   "metadata": {},
   "outputs": [],
   "source": [
    "# Encode anime descriptions \n",
    "anime_embedding = model.encode(anime_desc) # Encoding the anime list"
   ]
  },
  {
   "cell_type": "code",
   "execution_count": 8,
   "metadata": {},
   "outputs": [],
   "source": [
    "# Encode live action descriptions \n",
    "la_embedding = model.encode(la_desc) # Encoding the netflix list"
   ]
  },
  {
   "cell_type": "code",
   "execution_count": 9,
   "metadata": {},
   "outputs": [],
   "source": [
    "# Compute cosine similarities\n",
    "cos_sim = util.cos_sim(la_embedding, anime_embedding)\n",
    "#cos_sim"
   ]
  },
  {
   "cell_type": "code",
   "execution_count": 11,
   "metadata": {},
   "outputs": [
    {
     "data": {
      "text/html": [
       "<div>\n",
       "<style scoped>\n",
       "    .dataframe tbody tr th:only-of-type {\n",
       "        vertical-align: middle;\n",
       "    }\n",
       "\n",
       "    .dataframe tbody tr th {\n",
       "        vertical-align: top;\n",
       "    }\n",
       "\n",
       "    .dataframe thead th {\n",
       "        text-align: right;\n",
       "    }\n",
       "</style>\n",
       "<table border=\"1\" class=\"dataframe\">\n",
       "  <thead>\n",
       "    <tr style=\"text-align: right;\">\n",
       "      <th></th>\n",
       "      <th>show_id</th>\n",
       "      <th>title</th>\n",
       "      <th>description</th>\n",
       "      <th>source</th>\n",
       "      <th>recommended animes</th>\n",
       "    </tr>\n",
       "  </thead>\n",
       "  <tbody>\n",
       "    <tr>\n",
       "      <th>0</th>\n",
       "      <td>n-s1</td>\n",
       "      <td>Dick Johnson Is Dead</td>\n",
       "      <td>As her father nears the end of his life, filmm...</td>\n",
       "      <td>Netflix</td>\n",
       "      <td>[Higashi no Eden, Mobile Suit Gundam Thunderbo...</td>\n",
       "    </tr>\n",
       "    <tr>\n",
       "      <th>1</th>\n",
       "      <td>n-s2</td>\n",
       "      <td>Blood &amp; Water</td>\n",
       "      <td>After crossing paths at a party, a Cape Town t...</td>\n",
       "      <td>Netflix</td>\n",
       "      <td>[Ranma ½ OVA, Stringendo+Accelerando Ultimatum...</td>\n",
       "    </tr>\n",
       "    <tr>\n",
       "      <th>2</th>\n",
       "      <td>n-s3</td>\n",
       "      <td>Ganglands</td>\n",
       "      <td>To protect his family from a powerful drug lor...</td>\n",
       "      <td>Netflix</td>\n",
       "      <td>[Azumanga Daioh, Halo Legends, Non Non Biyori,...</td>\n",
       "    </tr>\n",
       "    <tr>\n",
       "      <th>3</th>\n",
       "      <td>n-s4</td>\n",
       "      <td>Jailbirds New Orleans</td>\n",
       "      <td>Feuds, flirtations and toilet talk go down amo...</td>\n",
       "      <td>Netflix</td>\n",
       "      <td>[Shokugeki no Souma: Shin no Sara, Stand By Me...</td>\n",
       "    </tr>\n",
       "    <tr>\n",
       "      <th>4</th>\n",
       "      <td>n-s5</td>\n",
       "      <td>Kota Factory</td>\n",
       "      <td>In a city of coaching centers known to train I...</td>\n",
       "      <td>Netflix</td>\n",
       "      <td>[Genshiken, Tate no Yuusha no Nariagari, Saena...</td>\n",
       "    </tr>\n",
       "  </tbody>\n",
       "</table>\n",
       "</div>"
      ],
      "text/plain": [
       "  show_id                  title  \\\n",
       "0    n-s1   Dick Johnson Is Dead   \n",
       "1    n-s2          Blood & Water   \n",
       "2    n-s3              Ganglands   \n",
       "3    n-s4  Jailbirds New Orleans   \n",
       "4    n-s5           Kota Factory   \n",
       "\n",
       "                                         description   source  \\\n",
       "0  As her father nears the end of his life, filmm...  Netflix   \n",
       "1  After crossing paths at a party, a Cape Town t...  Netflix   \n",
       "2  To protect his family from a powerful drug lor...  Netflix   \n",
       "3  Feuds, flirtations and toilet talk go down amo...  Netflix   \n",
       "4  In a city of coaching centers known to train I...  Netflix   \n",
       "\n",
       "                                  recommended animes  \n",
       "0  [Higashi no Eden, Mobile Suit Gundam Thunderbo...  \n",
       "1  [Ranma ½ OVA, Stringendo+Accelerando Ultimatum...  \n",
       "2  [Azumanga Daioh, Halo Legends, Non Non Biyori,...  \n",
       "3  [Shokugeki no Souma: Shin no Sara, Stand By Me...  \n",
       "4  [Genshiken, Tate no Yuusha no Nariagari, Saena...  "
      ]
     },
     "execution_count": 11,
     "metadata": {},
     "output_type": "execute_result"
    }
   ],
   "source": [
    "# Build reccomendations column in la_df from cos_sim tensor\n",
    "\n",
    "recs = []\n",
    "# for each row in the cos_sim tensor\n",
    "for i in range(len(cos_sim)):\n",
    "    mydict={}\n",
    "\n",
    "    # for each col in the row\n",
    "    for x in range(len(cos_sim[i])):\n",
    "        #assign title to the column from anime_df[\"title\"][col#]\n",
    "        try:\n",
    "            mydict[anime_df[\"title\"][x]] = cos_sim[i][x]\n",
    "        except KeyError:\n",
    "            continue\n",
    "\n",
    "    # find the max value in all the columns\n",
    "    top2 = sorted(mydict, key=mydict.get, reverse=True)[:5]\n",
    "    recs.append(top2)\n",
    "\n",
    "la_df['recommended animes'] = recs\n",
    "\n",
    "la_df.head()"
   ]
  },
  {
   "cell_type": "code",
   "execution_count": 12,
   "metadata": {},
   "outputs": [],
   "source": [
    "# Export new csv\n",
    "la_df.to_csv('data/live_actions_with_anime_recs.csv')"
   ]
  },
  {
   "cell_type": "code",
   "execution_count": null,
   "metadata": {},
   "outputs": [],
   "source": []
  }
 ],
 "metadata": {
  "interpreter": {
   "hash": "b9bb4423a1d3140def98ccfa0c8570d196bf2d194e50a79bd0acfe573e173e22"
  },
  "kernelspec": {
   "display_name": "Python 3 (ipykernel)",
   "language": "python",
   "name": "python3"
  },
  "language_info": {
   "codemirror_mode": {
    "name": "ipython",
    "version": 3
   },
   "file_extension": ".py",
   "mimetype": "text/x-python",
   "name": "python",
   "nbconvert_exporter": "python",
   "pygments_lexer": "ipython3",
   "version": "3.7.11"
  }
 },
 "nbformat": 4,
 "nbformat_minor": 4
}

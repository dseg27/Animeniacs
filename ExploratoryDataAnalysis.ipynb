{
 "cells": [
  {
   "cell_type": "code",
   "execution_count": 1,
   "id": "8f4d72e4-320d-40b0-a30c-11aa7a23bd4c",
   "metadata": {},
   "outputs": [],
   "source": [
    "# Import dependencies \n",
    "import pandas as pd\n",
    "import plotly_express as px\n",
    "import json"
   ]
  },
  {
   "cell_type": "code",
   "execution_count": 2,
   "id": "ba0d3ce8-e7e0-4306-8975-7a51cc31e424",
   "metadata": {},
   "outputs": [],
   "source": [
    "# Read files into dataframes \n",
    "animes_df = pd.read_csv('Resources/animes.csv')\n",
    "amazon_df = pd.read_csv('Resources/amazon_prime_titles.csv')\n",
    "disney_df = pd.read_csv('Resources/disney_plus_titles.csv')\n",
    "hulu_df = pd.read_csv('Resources/hulu_titles.csv')\n",
    "netflix_df = pd.read_csv('Resources/netflix_titles.csv')\n"
   ]
  },
  {
   "cell_type": "code",
   "execution_count": 3,
   "id": "074bb1b8-99f4-4e90-8b28-adf88629d45f",
   "metadata": {},
   "outputs": [
    {
     "data": {
      "text/html": [
       "<div>\n",
       "<style scoped>\n",
       "    .dataframe tbody tr th:only-of-type {\n",
       "        vertical-align: middle;\n",
       "    }\n",
       "\n",
       "    .dataframe tbody tr th {\n",
       "        vertical-align: top;\n",
       "    }\n",
       "\n",
       "    .dataframe thead th {\n",
       "        text-align: right;\n",
       "    }\n",
       "</style>\n",
       "<table border=\"1\" class=\"dataframe\">\n",
       "  <thead>\n",
       "    <tr style=\"text-align: right;\">\n",
       "      <th></th>\n",
       "      <th>uid</th>\n",
       "      <th>title</th>\n",
       "      <th>synopsis</th>\n",
       "      <th>genre</th>\n",
       "      <th>aired</th>\n",
       "      <th>episodes</th>\n",
       "      <th>members</th>\n",
       "      <th>popularity</th>\n",
       "      <th>ranked</th>\n",
       "      <th>score</th>\n",
       "      <th>img_url</th>\n",
       "      <th>link</th>\n",
       "    </tr>\n",
       "  </thead>\n",
       "  <tbody>\n",
       "    <tr>\n",
       "      <th>0</th>\n",
       "      <td>28891</td>\n",
       "      <td>Haikyuu!! Second Season</td>\n",
       "      <td>Following their participation at the Inter-Hig...</td>\n",
       "      <td>['Comedy', 'Sports', 'Drama', 'School', 'Shoun...</td>\n",
       "      <td>Oct 4, 2015 to Mar 27, 2016</td>\n",
       "      <td>25.0</td>\n",
       "      <td>489888</td>\n",
       "      <td>141</td>\n",
       "      <td>25.0</td>\n",
       "      <td>8.82</td>\n",
       "      <td>https://cdn.myanimelist.net/images/anime/9/766...</td>\n",
       "      <td>https://myanimelist.net/anime/28891/Haikyuu_Se...</td>\n",
       "    </tr>\n",
       "    <tr>\n",
       "      <th>1</th>\n",
       "      <td>23273</td>\n",
       "      <td>Shigatsu wa Kimi no Uso</td>\n",
       "      <td>Music accompanies the path of the human metron...</td>\n",
       "      <td>['Drama', 'Music', 'Romance', 'School', 'Shoun...</td>\n",
       "      <td>Oct 10, 2014 to Mar 20, 2015</td>\n",
       "      <td>22.0</td>\n",
       "      <td>995473</td>\n",
       "      <td>28</td>\n",
       "      <td>24.0</td>\n",
       "      <td>8.83</td>\n",
       "      <td>https://cdn.myanimelist.net/images/anime/3/671...</td>\n",
       "      <td>https://myanimelist.net/anime/23273/Shigatsu_w...</td>\n",
       "    </tr>\n",
       "    <tr>\n",
       "      <th>2</th>\n",
       "      <td>34599</td>\n",
       "      <td>Made in Abyss</td>\n",
       "      <td>The Abyss—a gaping chasm stretching down into ...</td>\n",
       "      <td>['Sci-Fi', 'Adventure', 'Mystery', 'Drama', 'F...</td>\n",
       "      <td>Jul 7, 2017 to Sep 29, 2017</td>\n",
       "      <td>13.0</td>\n",
       "      <td>581663</td>\n",
       "      <td>98</td>\n",
       "      <td>23.0</td>\n",
       "      <td>8.83</td>\n",
       "      <td>https://cdn.myanimelist.net/images/anime/6/867...</td>\n",
       "      <td>https://myanimelist.net/anime/34599/Made_in_Abyss</td>\n",
       "    </tr>\n",
       "    <tr>\n",
       "      <th>3</th>\n",
       "      <td>5114</td>\n",
       "      <td>Fullmetal Alchemist: Brotherhood</td>\n",
       "      <td>\"In order for something to be obtained, someth...</td>\n",
       "      <td>['Action', 'Military', 'Adventure', 'Comedy', ...</td>\n",
       "      <td>Apr 5, 2009 to Jul 4, 2010</td>\n",
       "      <td>64.0</td>\n",
       "      <td>1615084</td>\n",
       "      <td>4</td>\n",
       "      <td>1.0</td>\n",
       "      <td>9.23</td>\n",
       "      <td>https://cdn.myanimelist.net/images/anime/1223/...</td>\n",
       "      <td>https://myanimelist.net/anime/5114/Fullmetal_A...</td>\n",
       "    </tr>\n",
       "    <tr>\n",
       "      <th>4</th>\n",
       "      <td>31758</td>\n",
       "      <td>Kizumonogatari III: Reiketsu-hen</td>\n",
       "      <td>After helping revive the legendary vampire Kis...</td>\n",
       "      <td>['Action', 'Mystery', 'Supernatural', 'Vampire']</td>\n",
       "      <td>Jan 6, 2017</td>\n",
       "      <td>1.0</td>\n",
       "      <td>214621</td>\n",
       "      <td>502</td>\n",
       "      <td>22.0</td>\n",
       "      <td>8.83</td>\n",
       "      <td>https://cdn.myanimelist.net/images/anime/3/815...</td>\n",
       "      <td>https://myanimelist.net/anime/31758/Kizumonoga...</td>\n",
       "    </tr>\n",
       "  </tbody>\n",
       "</table>\n",
       "</div>"
      ],
      "text/plain": [
       "     uid                             title  \\\n",
       "0  28891           Haikyuu!! Second Season   \n",
       "1  23273           Shigatsu wa Kimi no Uso   \n",
       "2  34599                     Made in Abyss   \n",
       "3   5114  Fullmetal Alchemist: Brotherhood   \n",
       "4  31758  Kizumonogatari III: Reiketsu-hen   \n",
       "\n",
       "                                            synopsis  \\\n",
       "0  Following their participation at the Inter-Hig...   \n",
       "1  Music accompanies the path of the human metron...   \n",
       "2  The Abyss—a gaping chasm stretching down into ...   \n",
       "3  \"In order for something to be obtained, someth...   \n",
       "4  After helping revive the legendary vampire Kis...   \n",
       "\n",
       "                                               genre  \\\n",
       "0  ['Comedy', 'Sports', 'Drama', 'School', 'Shoun...   \n",
       "1  ['Drama', 'Music', 'Romance', 'School', 'Shoun...   \n",
       "2  ['Sci-Fi', 'Adventure', 'Mystery', 'Drama', 'F...   \n",
       "3  ['Action', 'Military', 'Adventure', 'Comedy', ...   \n",
       "4   ['Action', 'Mystery', 'Supernatural', 'Vampire']   \n",
       "\n",
       "                          aired  episodes  members  popularity  ranked  score  \\\n",
       "0   Oct 4, 2015 to Mar 27, 2016      25.0   489888         141    25.0   8.82   \n",
       "1  Oct 10, 2014 to Mar 20, 2015      22.0   995473          28    24.0   8.83   \n",
       "2   Jul 7, 2017 to Sep 29, 2017      13.0   581663          98    23.0   8.83   \n",
       "3    Apr 5, 2009 to Jul 4, 2010      64.0  1615084           4     1.0   9.23   \n",
       "4                   Jan 6, 2017       1.0   214621         502    22.0   8.83   \n",
       "\n",
       "                                             img_url  \\\n",
       "0  https://cdn.myanimelist.net/images/anime/9/766...   \n",
       "1  https://cdn.myanimelist.net/images/anime/3/671...   \n",
       "2  https://cdn.myanimelist.net/images/anime/6/867...   \n",
       "3  https://cdn.myanimelist.net/images/anime/1223/...   \n",
       "4  https://cdn.myanimelist.net/images/anime/3/815...   \n",
       "\n",
       "                                                link  \n",
       "0  https://myanimelist.net/anime/28891/Haikyuu_Se...  \n",
       "1  https://myanimelist.net/anime/23273/Shigatsu_w...  \n",
       "2  https://myanimelist.net/anime/34599/Made_in_Abyss  \n",
       "3  https://myanimelist.net/anime/5114/Fullmetal_A...  \n",
       "4  https://myanimelist.net/anime/31758/Kizumonoga...  "
      ]
     },
     "execution_count": 3,
     "metadata": {},
     "output_type": "execute_result"
    }
   ],
   "source": [
    "# View dataframes \n",
    "\n",
    "amazon_df.head(5)\n",
    "disney_df.head(5)\n",
    "hulu_df.head(5)\n",
    "netflix_df.head(5)\n",
    "animes_df.head(5)"
   ]
  },
  {
   "cell_type": "code",
   "execution_count": 4,
   "id": "1140cf93-d775-4e89-899c-ab8feaf70af0",
   "metadata": {},
   "outputs": [
    {
     "data": {
      "text/plain": [
       "Index(['show_id', 'type', 'title', 'director', 'cast', 'country', 'date_added',\n",
       "       'release_year', 'rating', 'duration', 'listed_in', 'description'],\n",
       "      dtype='object')"
      ]
     },
     "execution_count": 4,
     "metadata": {},
     "output_type": "execute_result"
    }
   ],
   "source": [
    "amazon_df.columns"
   ]
  },
  {
   "cell_type": "code",
   "execution_count": 5,
   "id": "fcb66749-ca8b-41e8-a7e6-a92f5b748cf2",
   "metadata": {},
   "outputs": [
    {
     "data": {
      "text/plain": [
       "Index(['show_id', 'type', 'title', 'director', 'cast', 'country', 'date_added',\n",
       "       'release_year', 'rating', 'duration', 'listed_in', 'description'],\n",
       "      dtype='object')"
      ]
     },
     "execution_count": 5,
     "metadata": {},
     "output_type": "execute_result"
    }
   ],
   "source": [
    "disney_df.columns"
   ]
  },
  {
   "cell_type": "code",
   "execution_count": 6,
   "id": "3ac56532-4903-4f77-a49b-4d36f828053f",
   "metadata": {},
   "outputs": [
    {
     "data": {
      "text/plain": [
       "Index(['show_id', 'type', 'title', 'director', 'cast', 'country', 'date_added',\n",
       "       'release_year', 'rating', 'duration', 'listed_in', 'description'],\n",
       "      dtype='object')"
      ]
     },
     "execution_count": 6,
     "metadata": {},
     "output_type": "execute_result"
    }
   ],
   "source": [
    "hulu_df.columns"
   ]
  },
  {
   "cell_type": "code",
   "execution_count": 7,
   "id": "a5b19516-8892-4691-af5c-20fccd3ef030",
   "metadata": {},
   "outputs": [
    {
     "data": {
      "text/plain": [
       "Index(['show_id', 'type', 'title', 'director', 'cast', 'country', 'date_added',\n",
       "       'release_year', 'rating', 'duration', 'listed_in', 'description'],\n",
       "      dtype='object')"
      ]
     },
     "execution_count": 7,
     "metadata": {},
     "output_type": "execute_result"
    }
   ],
   "source": [
    "netflix_df.columns"
   ]
  },
  {
   "cell_type": "code",
   "execution_count": 8,
   "id": "f0696217-da3a-48fd-8968-ae839f7c8da9",
   "metadata": {},
   "outputs": [
    {
     "data": {
      "text/plain": [
       "Index(['uid', 'title', 'synopsis', 'genre', 'aired', 'episodes', 'members',\n",
       "       'popularity', 'ranked', 'score', 'img_url', 'link'],\n",
       "      dtype='object')"
      ]
     },
     "execution_count": 8,
     "metadata": {},
     "output_type": "execute_result"
    }
   ],
   "source": [
    "animes_df.columns"
   ]
  },
  {
   "cell_type": "code",
   "execution_count": 9,
   "id": "b3ae8eaa-f417-4615-b9da-c5def7c56f7d",
   "metadata": {},
   "outputs": [
    {
     "data": {
      "text/html": [
       "<div>\n",
       "<style scoped>\n",
       "    .dataframe tbody tr th:only-of-type {\n",
       "        vertical-align: middle;\n",
       "    }\n",
       "\n",
       "    .dataframe tbody tr th {\n",
       "        vertical-align: top;\n",
       "    }\n",
       "\n",
       "    .dataframe thead th {\n",
       "        text-align: right;\n",
       "    }\n",
       "</style>\n",
       "<table border=\"1\" class=\"dataframe\">\n",
       "  <thead>\n",
       "    <tr style=\"text-align: right;\">\n",
       "      <th></th>\n",
       "      <th>uid</th>\n",
       "      <th>title</th>\n",
       "      <th>synopsis</th>\n",
       "      <th>genre</th>\n",
       "      <th>aired</th>\n",
       "      <th>episodes</th>\n",
       "      <th>members</th>\n",
       "      <th>popularity</th>\n",
       "      <th>ranked</th>\n",
       "      <th>score</th>\n",
       "      <th>img_url</th>\n",
       "      <th>link</th>\n",
       "    </tr>\n",
       "  </thead>\n",
       "  <tbody>\n",
       "    <tr>\n",
       "      <th>0</th>\n",
       "      <td>28891</td>\n",
       "      <td>Haikyuu!! Second Season</td>\n",
       "      <td>Following their participation at the Inter-Hig...</td>\n",
       "      <td>['Comedy', 'Sports', 'Drama', 'School', 'Shoun...</td>\n",
       "      <td>Oct 4, 2015 to Mar 27, 2016</td>\n",
       "      <td>25.0</td>\n",
       "      <td>489888</td>\n",
       "      <td>141</td>\n",
       "      <td>25.0</td>\n",
       "      <td>8.82</td>\n",
       "      <td>https://cdn.myanimelist.net/images/anime/9/766...</td>\n",
       "      <td>https://myanimelist.net/anime/28891/Haikyuu_Se...</td>\n",
       "    </tr>\n",
       "    <tr>\n",
       "      <th>1</th>\n",
       "      <td>23273</td>\n",
       "      <td>Shigatsu wa Kimi no Uso</td>\n",
       "      <td>Music accompanies the path of the human metron...</td>\n",
       "      <td>['Drama', 'Music', 'Romance', 'School', 'Shoun...</td>\n",
       "      <td>Oct 10, 2014 to Mar 20, 2015</td>\n",
       "      <td>22.0</td>\n",
       "      <td>995473</td>\n",
       "      <td>28</td>\n",
       "      <td>24.0</td>\n",
       "      <td>8.83</td>\n",
       "      <td>https://cdn.myanimelist.net/images/anime/3/671...</td>\n",
       "      <td>https://myanimelist.net/anime/23273/Shigatsu_w...</td>\n",
       "    </tr>\n",
       "    <tr>\n",
       "      <th>2</th>\n",
       "      <td>34599</td>\n",
       "      <td>Made in Abyss</td>\n",
       "      <td>The Abyss—a gaping chasm stretching down into ...</td>\n",
       "      <td>['Sci-Fi', 'Adventure', 'Mystery', 'Drama', 'F...</td>\n",
       "      <td>Jul 7, 2017 to Sep 29, 2017</td>\n",
       "      <td>13.0</td>\n",
       "      <td>581663</td>\n",
       "      <td>98</td>\n",
       "      <td>23.0</td>\n",
       "      <td>8.83</td>\n",
       "      <td>https://cdn.myanimelist.net/images/anime/6/867...</td>\n",
       "      <td>https://myanimelist.net/anime/34599/Made_in_Abyss</td>\n",
       "    </tr>\n",
       "    <tr>\n",
       "      <th>3</th>\n",
       "      <td>5114</td>\n",
       "      <td>Fullmetal Alchemist: Brotherhood</td>\n",
       "      <td>\"In order for something to be obtained, someth...</td>\n",
       "      <td>['Action', 'Military', 'Adventure', 'Comedy', ...</td>\n",
       "      <td>Apr 5, 2009 to Jul 4, 2010</td>\n",
       "      <td>64.0</td>\n",
       "      <td>1615084</td>\n",
       "      <td>4</td>\n",
       "      <td>1.0</td>\n",
       "      <td>9.23</td>\n",
       "      <td>https://cdn.myanimelist.net/images/anime/1223/...</td>\n",
       "      <td>https://myanimelist.net/anime/5114/Fullmetal_A...</td>\n",
       "    </tr>\n",
       "    <tr>\n",
       "      <th>4</th>\n",
       "      <td>31758</td>\n",
       "      <td>Kizumonogatari III: Reiketsu-hen</td>\n",
       "      <td>After helping revive the legendary vampire Kis...</td>\n",
       "      <td>['Action', 'Mystery', 'Supernatural', 'Vampire']</td>\n",
       "      <td>Jan 6, 2017</td>\n",
       "      <td>1.0</td>\n",
       "      <td>214621</td>\n",
       "      <td>502</td>\n",
       "      <td>22.0</td>\n",
       "      <td>8.83</td>\n",
       "      <td>https://cdn.myanimelist.net/images/anime/3/815...</td>\n",
       "      <td>https://myanimelist.net/anime/31758/Kizumonoga...</td>\n",
       "    </tr>\n",
       "  </tbody>\n",
       "</table>\n",
       "</div>"
      ],
      "text/plain": [
       "     uid                             title  \\\n",
       "0  28891           Haikyuu!! Second Season   \n",
       "1  23273           Shigatsu wa Kimi no Uso   \n",
       "2  34599                     Made in Abyss   \n",
       "3   5114  Fullmetal Alchemist: Brotherhood   \n",
       "4  31758  Kizumonogatari III: Reiketsu-hen   \n",
       "\n",
       "                                            synopsis  \\\n",
       "0  Following their participation at the Inter-Hig...   \n",
       "1  Music accompanies the path of the human metron...   \n",
       "2  The Abyss—a gaping chasm stretching down into ...   \n",
       "3  \"In order for something to be obtained, someth...   \n",
       "4  After helping revive the legendary vampire Kis...   \n",
       "\n",
       "                                               genre  \\\n",
       "0  ['Comedy', 'Sports', 'Drama', 'School', 'Shoun...   \n",
       "1  ['Drama', 'Music', 'Romance', 'School', 'Shoun...   \n",
       "2  ['Sci-Fi', 'Adventure', 'Mystery', 'Drama', 'F...   \n",
       "3  ['Action', 'Military', 'Adventure', 'Comedy', ...   \n",
       "4   ['Action', 'Mystery', 'Supernatural', 'Vampire']   \n",
       "\n",
       "                          aired  episodes  members  popularity  ranked  score  \\\n",
       "0   Oct 4, 2015 to Mar 27, 2016      25.0   489888         141    25.0   8.82   \n",
       "1  Oct 10, 2014 to Mar 20, 2015      22.0   995473          28    24.0   8.83   \n",
       "2   Jul 7, 2017 to Sep 29, 2017      13.0   581663          98    23.0   8.83   \n",
       "3    Apr 5, 2009 to Jul 4, 2010      64.0  1615084           4     1.0   9.23   \n",
       "4                   Jan 6, 2017       1.0   214621         502    22.0   8.83   \n",
       "\n",
       "                                             img_url  \\\n",
       "0  https://cdn.myanimelist.net/images/anime/9/766...   \n",
       "1  https://cdn.myanimelist.net/images/anime/3/671...   \n",
       "2  https://cdn.myanimelist.net/images/anime/6/867...   \n",
       "3  https://cdn.myanimelist.net/images/anime/1223/...   \n",
       "4  https://cdn.myanimelist.net/images/anime/3/815...   \n",
       "\n",
       "                                                link  \n",
       "0  https://myanimelist.net/anime/28891/Haikyuu_Se...  \n",
       "1  https://myanimelist.net/anime/23273/Shigatsu_w...  \n",
       "2  https://myanimelist.net/anime/34599/Made_in_Abyss  \n",
       "3  https://myanimelist.net/anime/5114/Fullmetal_A...  \n",
       "4  https://myanimelist.net/anime/31758/Kizumonoga...  "
      ]
     },
     "execution_count": 9,
     "metadata": {},
     "output_type": "execute_result"
    }
   ],
   "source": [
    "new_anime_df = animes_df.copy()\n",
    "new_anime_df.head()"
   ]
  },
  {
   "cell_type": "code",
   "execution_count": 10,
   "id": "a4dd1b64-a5b1-440a-b1fe-37fedaf920c7",
   "metadata": {},
   "outputs": [],
   "source": [
    "new_anime_df.drop(['aired', 'episodes', 'members', 'popularity', 'score'], axis=1, inplace=True)"
   ]
  },
  {
   "cell_type": "code",
   "execution_count": 11,
   "id": "9468638e-c08f-41bd-b53a-2ed783e9d799",
   "metadata": {},
   "outputs": [
    {
     "data": {
      "text/plain": [
       "19311"
      ]
     },
     "execution_count": 11,
     "metadata": {},
     "output_type": "execute_result"
    }
   ],
   "source": [
    "len(new_anime_df)"
   ]
  },
  {
   "cell_type": "code",
   "execution_count": 12,
   "id": "437fb7e7-d4ed-4bee-a1d7-8b7ff231d083",
   "metadata": {},
   "outputs": [
    {
     "data": {
      "text/plain": [
       "dtype('float64')"
      ]
     },
     "execution_count": 12,
     "metadata": {},
     "output_type": "execute_result"
    }
   ],
   "source": [
    "animes_df['ranked'].dtype"
   ]
  },
  {
   "cell_type": "code",
   "execution_count": 13,
   "id": "1da1c4ab-0483-4476-bb00-c3193387a4c5",
   "metadata": {},
   "outputs": [
    {
     "data": {
      "text/plain": [
       "uid            0\n",
       "title          0\n",
       "synopsis     975\n",
       "genre          0\n",
       "ranked      3212\n",
       "img_url      180\n",
       "link           0\n",
       "dtype: int64"
      ]
     },
     "execution_count": 13,
     "metadata": {},
     "output_type": "execute_result"
    }
   ],
   "source": [
    "new_anime_df.isna().sum()"
   ]
  },
  {
   "cell_type": "code",
   "execution_count": 14,
   "id": "5ba32a75-ba91-4949-b559-740129d85e27",
   "metadata": {},
   "outputs": [],
   "source": [
    "new_anime_df = new_anime_df.dropna()"
   ]
  },
  {
   "cell_type": "code",
   "execution_count": 15,
   "id": "4788a428-ef46-4f2a-bca8-853a7cc4a88e",
   "metadata": {},
   "outputs": [
    {
     "data": {
      "text/plain": [
       "uid         0\n",
       "title       0\n",
       "synopsis    0\n",
       "genre       0\n",
       "ranked      0\n",
       "img_url     0\n",
       "link        0\n",
       "dtype: int64"
      ]
     },
     "execution_count": 15,
     "metadata": {},
     "output_type": "execute_result"
    }
   ],
   "source": [
    "new_anime_df.isnull().sum()"
   ]
  },
  {
   "cell_type": "code",
   "execution_count": 16,
   "id": "6b08af05-859b-4527-bf2d-f61304bbe5ff",
   "metadata": {},
   "outputs": [
    {
     "data": {
      "text/plain": [
       "15386"
      ]
     },
     "execution_count": 16,
     "metadata": {},
     "output_type": "execute_result"
    }
   ],
   "source": [
    "len(new_anime_df)"
   ]
  },
  {
   "cell_type": "code",
   "execution_count": 17,
   "id": "e34e08fb-d601-478d-9d97-944b60172368",
   "metadata": {},
   "outputs": [],
   "source": [
    "# # Establish connection with mongoDb\n",
    "\n",
    "# try:\n",
    "#     conn = MongoClient('localhost',27017)\n",
    "#     print(\"Connected!\")\n",
    "# except: \n",
    "#     print(\"Failed\")\n",
    "    \n",
    "# db = conn.animedb \n",
    "# collection = db.animedata"
   ]
  },
  {
   "cell_type": "code",
   "execution_count": 18,
   "id": "c83d2c17-0b32-4b62-910c-a149e73572ab",
   "metadata": {},
   "outputs": [],
   "source": [
    "# new_anime_df.reset_index(inplace=True)\n",
    "# anime_dict= new_anime_df.to_dict(\"records\")\n",
    "# # Insert collection\n",
    "# collection.insert_many(anime_dict)\n"
   ]
  },
  {
   "cell_type": "code",
   "execution_count": 19,
   "id": "b3e60dca-8072-4b1f-a821-0fe5df812327",
   "metadata": {},
   "outputs": [
    {
     "data": {
      "text/plain": [
       "['Hentai']                                                                 1837\n",
       "['Music']                                                                   728\n",
       "['Comedy']                                                                  642\n",
       "['Kids']                                                                    412\n",
       "['Dementia']                                                                202\n",
       "                                                                           ... \n",
       "['Drama', 'Fantasy', 'Mystery', 'Romance', 'School']                          1\n",
       "['Action', 'Comedy', 'Magic', 'Shounen', 'Super Power', 'Supernatural']       1\n",
       "['Parody', 'Mecha', 'Sci-Fi']                                                 1\n",
       "['Action', 'Adventure', 'Fantasy', 'Comedy', 'Super Power', 'Shounen']        1\n",
       "['Music', 'Romance', 'Super Power', 'Supernatural']                           1\n",
       "Name: genre, Length: 4851, dtype: int64"
      ]
     },
     "execution_count": 19,
     "metadata": {},
     "output_type": "execute_result"
    }
   ],
   "source": [
    "# FILTERING ANIME DATASET TO TEST WITH WEBSITE AND EXPLORE IT MORE \n",
    "\n",
    "animes_df[\"genre\"].value_counts()"
   ]
  },
  {
   "cell_type": "code",
   "execution_count": 20,
   "id": "fbb18cbf-f6af-4b85-82e0-11d7c9109be1",
   "metadata": {},
   "outputs": [
    {
     "data": {
      "text/plain": [
       "['Music']                                                                  728\n",
       "['Comedy']                                                                 642\n",
       "['Kids']                                                                   412\n",
       "['Dementia']                                                               202\n",
       "['Slice of Life']                                                          195\n",
       "                                                                          ... \n",
       "['Drama', 'Fantasy', 'Mystery', 'Romance', 'School']                         1\n",
       "['Action', 'Comedy', 'Magic', 'Shounen', 'Super Power', 'Supernatural']      1\n",
       "['Parody', 'Mecha', 'Sci-Fi']                                                1\n",
       "['Action', 'Adventure', 'Fantasy', 'Comedy', 'Super Power', 'Shounen']       1\n",
       "['Music', 'Romance', 'Super Power', 'Supernatural']                          1\n",
       "Name: genre, Length: 4850, dtype: int64"
      ]
     },
     "execution_count": 20,
     "metadata": {},
     "output_type": "execute_result"
    }
   ],
   "source": [
    "# Drop innapropriate stuff lol! \n",
    "to_drop = animes_df[animes_df['genre']==\"['Hentai']\"].index\n",
    "animes_df.drop(to_drop, inplace = True)\n",
    "animes_df[\"genre\"].value_counts()"
   ]
  },
  {
   "cell_type": "code",
   "execution_count": 58,
   "id": "da25fd52-3aaa-4b9d-93c1-c23199da1b79",
   "metadata": {},
   "outputs": [],
   "source": [
    "# Test small data set \n",
    "\n",
    "small_data = animes_df[animes_df['ranked'] < 26.0]\n",
    "small_data = small_data.sort_values(by='ranked')"
   ]
  },
  {
   "cell_type": "code",
   "execution_count": 62,
   "id": "1c1c891a-be39-4bd0-847e-d12b55109584",
   "metadata": {},
   "outputs": [],
   "source": [
    "new_small_data = small_data.copy()"
   ]
  },
  {
   "cell_type": "code",
   "execution_count": 93,
   "id": "92164aab-1a47-47ad-b77d-d7cfd9f98c8a",
   "metadata": {},
   "outputs": [
    {
     "data": {
      "text/html": [
       "<div>\n",
       "<style scoped>\n",
       "    .dataframe tbody tr th:only-of-type {\n",
       "        vertical-align: middle;\n",
       "    }\n",
       "\n",
       "    .dataframe tbody tr th {\n",
       "        vertical-align: top;\n",
       "    }\n",
       "\n",
       "    .dataframe thead th {\n",
       "        text-align: right;\n",
       "    }\n",
       "</style>\n",
       "<table border=\"1\" class=\"dataframe\">\n",
       "  <thead>\n",
       "    <tr style=\"text-align: right;\">\n",
       "      <th></th>\n",
       "      <th>uid</th>\n",
       "      <th>title</th>\n",
       "      <th>synopsis</th>\n",
       "      <th>genre</th>\n",
       "      <th>ranked</th>\n",
       "      <th>img_url</th>\n",
       "      <th>link</th>\n",
       "    </tr>\n",
       "  </thead>\n",
       "  <tbody>\n",
       "    <tr>\n",
       "      <th>3080</th>\n",
       "      <td>5114</td>\n",
       "      <td>Fullmetal Alchemist: Brotherhood</td>\n",
       "      <td>\"In order for something to be obtained, someth...</td>\n",
       "      <td>['Action', 'Military', 'Adventure', 'Comedy', ...</td>\n",
       "      <td>1.0</td>\n",
       "      <td>https://cdn.myanimelist.net/images/anime/1223/...</td>\n",
       "      <td>https://myanimelist.net/anime/5114/Fullmetal_A...</td>\n",
       "    </tr>\n",
       "    <tr>\n",
       "      <th>773</th>\n",
       "      <td>9253</td>\n",
       "      <td>Steins;Gate</td>\n",
       "      <td>The self-proclaimed mad scientist Rintarou Oka...</td>\n",
       "      <td>['Thriller', 'Sci-Fi']</td>\n",
       "      <td>2.0</td>\n",
       "      <td>https://cdn.myanimelist.net/images/anime/5/731...</td>\n",
       "      <td>https://myanimelist.net/anime/9253/Steins_Gate</td>\n",
       "    </tr>\n",
       "    <tr>\n",
       "      <th>18280</th>\n",
       "      <td>11061</td>\n",
       "      <td>Hunter x Hunter (2011)</td>\n",
       "      <td>Hunter x Hunter  is set in a world where Hunte...</td>\n",
       "      <td>['Action', 'Adventure', 'Fantasy', 'Shounen', ...</td>\n",
       "      <td>3.0</td>\n",
       "      <td>https://cdn.myanimelist.net/images/anime/11/33...</td>\n",
       "      <td>https://myanimelist.net/anime/11061/Hunter_x_H...</td>\n",
       "    </tr>\n",
       "    <tr>\n",
       "      <th>18278</th>\n",
       "      <td>32281</td>\n",
       "      <td>Kimi no Na wa.</td>\n",
       "      <td>Mitsuha Miyamizu, a high school girl, yearns t...</td>\n",
       "      <td>['Romance', 'Supernatural', 'School', 'Drama']</td>\n",
       "      <td>4.0</td>\n",
       "      <td>https://cdn.myanimelist.net/images/anime/5/870...</td>\n",
       "      <td>https://myanimelist.net/anime/32281/Kimi_no_Na_wa</td>\n",
       "    </tr>\n",
       "    <tr>\n",
       "      <th>18276</th>\n",
       "      <td>38524</td>\n",
       "      <td>Shingeki no Kyojin Season 3 Part 2</td>\n",
       "      <td>Seeking to restore humanity’s diminishing hope...</td>\n",
       "      <td>['Action', 'Drama', 'Fantasy', 'Military', 'My...</td>\n",
       "      <td>5.0</td>\n",
       "      <td>https://cdn.myanimelist.net/images/anime/1517/...</td>\n",
       "      <td>https://myanimelist.net/anime/38524/Shingeki_n...</td>\n",
       "    </tr>\n",
       "    <tr>\n",
       "      <th>769</th>\n",
       "      <td>28977</td>\n",
       "      <td>Gintama°</td>\n",
       "      <td>Gintoki, Shinpachi, and Kagura return as the f...</td>\n",
       "      <td>['Action', 'Comedy', 'Historical', 'Parody', '...</td>\n",
       "      <td>6.0</td>\n",
       "      <td>https://cdn.myanimelist.net/images/anime/3/720...</td>\n",
       "      <td>https://myanimelist.net/anime/28977/Gintama%C2%B0</td>\n",
       "    </tr>\n",
       "    <tr>\n",
       "      <th>768</th>\n",
       "      <td>9969</td>\n",
       "      <td>Gintama'</td>\n",
       "      <td>After a one-year hiatus, Shinpachi Shimura ret...</td>\n",
       "      <td>['Action', 'Sci-Fi', 'Comedy', 'Historical', '...</td>\n",
       "      <td>7.0</td>\n",
       "      <td>https://cdn.myanimelist.net/images/anime/4/503...</td>\n",
       "      <td>https://myanimelist.net/anime/9969/Gintama</td>\n",
       "    </tr>\n",
       "    <tr>\n",
       "      <th>767</th>\n",
       "      <td>820</td>\n",
       "      <td>Ginga Eiyuu Densetsu</td>\n",
       "      <td>The 150-year-long stalemate between the two in...</td>\n",
       "      <td>['Military', 'Sci-Fi', 'Space', 'Drama']</td>\n",
       "      <td>8.0</td>\n",
       "      <td>https://cdn.myanimelist.net/images/anime/13/13...</td>\n",
       "      <td>https://myanimelist.net/anime/820/Ginga_Eiyuu_...</td>\n",
       "    </tr>\n",
       "    <tr>\n",
       "      <th>766</th>\n",
       "      <td>35180</td>\n",
       "      <td>3-gatsu no Lion 2nd Season</td>\n",
       "      <td>Now in his second year of high school, Rei Kir...</td>\n",
       "      <td>['Drama', 'Game', 'Seinen', 'Slice of Life']</td>\n",
       "      <td>9.0</td>\n",
       "      <td>https://cdn.myanimelist.net/images/anime/3/884...</td>\n",
       "      <td>https://myanimelist.net/anime/35180/3-gatsu_no...</td>\n",
       "    </tr>\n",
       "    <tr>\n",
       "      <th>765</th>\n",
       "      <td>28851</td>\n",
       "      <td>Koe no Katachi</td>\n",
       "      <td>As a wild youth, elementary school student Sho...</td>\n",
       "      <td>['Drama', 'School', 'Shounen']</td>\n",
       "      <td>10.0</td>\n",
       "      <td>https://cdn.myanimelist.net/images/anime/1122/...</td>\n",
       "      <td>https://myanimelist.net/anime/28851/Koe_no_Kat...</td>\n",
       "    </tr>\n",
       "    <tr>\n",
       "      <th>15</th>\n",
       "      <td>15417</td>\n",
       "      <td>Gintama': Enchousen</td>\n",
       "      <td>While Gintoki Sakata was away, the Yorozuya fo...</td>\n",
       "      <td>['Action', 'Comedy', 'Historical', 'Parody', '...</td>\n",
       "      <td>11.0</td>\n",
       "      <td>https://cdn.myanimelist.net/images/anime/6/751...</td>\n",
       "      <td>https://myanimelist.net/anime/15417/Gintama__E...</td>\n",
       "    </tr>\n",
       "    <tr>\n",
       "      <th>3091</th>\n",
       "      <td>4181</td>\n",
       "      <td>Clannad: After Story</td>\n",
       "      <td>Clannad: After Story , the sequel to the criti...</td>\n",
       "      <td>['Slice of Life', 'Comedy', 'Supernatural', 'D...</td>\n",
       "      <td>12.0</td>\n",
       "      <td>https://cdn.myanimelist.net/images/anime/13/24...</td>\n",
       "      <td>https://myanimelist.net/anime/4181/Clannad__Af...</td>\n",
       "    </tr>\n",
       "    <tr>\n",
       "      <th>13</th>\n",
       "      <td>918</td>\n",
       "      <td>Gintama</td>\n",
       "      <td>The Amanto, aliens from outer space, have inva...</td>\n",
       "      <td>['Action', 'Comedy', 'Historical', 'Parody', '...</td>\n",
       "      <td>13.0</td>\n",
       "      <td>https://cdn.myanimelist.net/images/anime/10/73...</td>\n",
       "      <td>https://myanimelist.net/anime/918/Gintama</td>\n",
       "    </tr>\n",
       "    <tr>\n",
       "      <th>3089</th>\n",
       "      <td>15335</td>\n",
       "      <td>Gintama Movie 2: Kanketsu-hen - Yorozuya yo Ei...</td>\n",
       "      <td>When Gintoki apprehends a movie pirate at a pr...</td>\n",
       "      <td>['Action', 'Sci-Fi', 'Comedy', 'Historical', '...</td>\n",
       "      <td>14.0</td>\n",
       "      <td>https://cdn.myanimelist.net/images/anime/10/51...</td>\n",
       "      <td>https://myanimelist.net/anime/15335/Gintama_Mo...</td>\n",
       "    </tr>\n",
       "    <tr>\n",
       "      <th>11</th>\n",
       "      <td>34096</td>\n",
       "      <td>Gintama.</td>\n",
       "      <td>After joining the resistance against the bakuf...</td>\n",
       "      <td>['Action', 'Comedy', 'Historical', 'Parody', '...</td>\n",
       "      <td>15.0</td>\n",
       "      <td>https://cdn.myanimelist.net/images/anime/3/835...</td>\n",
       "      <td>https://myanimelist.net/anime/34096/Gintama</td>\n",
       "    </tr>\n",
       "    <tr>\n",
       "      <th>3087</th>\n",
       "      <td>32935</td>\n",
       "      <td>Haikyuu!!: Karasuno Koukou vs. Shiratorizawa G...</td>\n",
       "      <td>After the victory against Aoba Jousai High, Ka...</td>\n",
       "      <td>['Comedy', 'Sports', 'Drama', 'School', 'Shoun...</td>\n",
       "      <td>16.0</td>\n",
       "      <td>https://cdn.myanimelist.net/images/anime/7/819...</td>\n",
       "      <td>https://myanimelist.net/anime/32935/Haikyuu__K...</td>\n",
       "    </tr>\n",
       "    <tr>\n",
       "      <th>9</th>\n",
       "      <td>2904</td>\n",
       "      <td>Code Geass: Hangyaku no Lelouch R2</td>\n",
       "      <td>One year has passed since the Black Rebellion,...</td>\n",
       "      <td>['Action', 'Military', 'Sci-Fi', 'Super Power'...</td>\n",
       "      <td>17.0</td>\n",
       "      <td>https://cdn.myanimelist.net/images/anime/4/939...</td>\n",
       "      <td>https://myanimelist.net/anime/2904/Code_Geass_...</td>\n",
       "    </tr>\n",
       "    <tr>\n",
       "      <th>8</th>\n",
       "      <td>35247</td>\n",
       "      <td>Owarimonogatari 2nd Season</td>\n",
       "      <td>Following an encounter with oddity specialist ...</td>\n",
       "      <td>['Mystery', 'Comedy', 'Supernatural', 'Vampire']</td>\n",
       "      <td>18.0</td>\n",
       "      <td>https://cdn.myanimelist.net/images/anime/6/873...</td>\n",
       "      <td>https://myanimelist.net/anime/35247/Owarimonog...</td>\n",
       "    </tr>\n",
       "    <tr>\n",
       "      <th>3084</th>\n",
       "      <td>38000</td>\n",
       "      <td>Kimetsu no Yaiba</td>\n",
       "      <td>Ever since the death of his father, the burden...</td>\n",
       "      <td>['Action', 'Demons', 'Historical', 'Shounen', ...</td>\n",
       "      <td>19.0</td>\n",
       "      <td>https://cdn.myanimelist.net/images/anime/1286/...</td>\n",
       "      <td>https://myanimelist.net/anime/38000/Kimetsu_no...</td>\n",
       "    </tr>\n",
       "    <tr>\n",
       "      <th>6</th>\n",
       "      <td>199</td>\n",
       "      <td>Sen to Chihiro no Kamikakushi</td>\n",
       "      <td>Stubborn, spoiled, and naïve, 10-year-old Chih...</td>\n",
       "      <td>['Adventure', 'Supernatural', 'Drama']</td>\n",
       "      <td>20.0</td>\n",
       "      <td>https://cdn.myanimelist.net/images/anime/6/795...</td>\n",
       "      <td>https://myanimelist.net/anime/199/Sen_to_Chihi...</td>\n",
       "    </tr>\n",
       "    <tr>\n",
       "      <th>5</th>\n",
       "      <td>37510</td>\n",
       "      <td>Mob Psycho 100 II</td>\n",
       "      <td>Shigeo \"Mob\" Kageyama is now maturing and unde...</td>\n",
       "      <td>['Action', 'Slice of Life', 'Comedy', 'Superna...</td>\n",
       "      <td>21.0</td>\n",
       "      <td>https://cdn.myanimelist.net/images/anime/1918/...</td>\n",
       "      <td>https://myanimelist.net/anime/37510/Mob_Psycho...</td>\n",
       "    </tr>\n",
       "    <tr>\n",
       "      <th>3081</th>\n",
       "      <td>31758</td>\n",
       "      <td>Kizumonogatari III: Reiketsu-hen</td>\n",
       "      <td>After helping revive the legendary vampire Kis...</td>\n",
       "      <td>['Action', 'Mystery', 'Supernatural', 'Vampire']</td>\n",
       "      <td>22.0</td>\n",
       "      <td>https://cdn.myanimelist.net/images/anime/3/815...</td>\n",
       "      <td>https://myanimelist.net/anime/31758/Kizumonoga...</td>\n",
       "    </tr>\n",
       "    <tr>\n",
       "      <th>3079</th>\n",
       "      <td>34599</td>\n",
       "      <td>Made in Abyss</td>\n",
       "      <td>The Abyss—a gaping chasm stretching down into ...</td>\n",
       "      <td>['Sci-Fi', 'Adventure', 'Mystery', 'Drama', 'F...</td>\n",
       "      <td>23.0</td>\n",
       "      <td>https://cdn.myanimelist.net/images/anime/6/867...</td>\n",
       "      <td>https://myanimelist.net/anime/34599/Made_in_Abyss</td>\n",
       "    </tr>\n",
       "    <tr>\n",
       "      <th>3078</th>\n",
       "      <td>23273</td>\n",
       "      <td>Shigatsu wa Kimi no Uso</td>\n",
       "      <td>Music accompanies the path of the human metron...</td>\n",
       "      <td>['Drama', 'Music', 'Romance', 'School', 'Shoun...</td>\n",
       "      <td>24.0</td>\n",
       "      <td>https://cdn.myanimelist.net/images/anime/3/671...</td>\n",
       "      <td>https://myanimelist.net/anime/23273/Shigatsu_w...</td>\n",
       "    </tr>\n",
       "    <tr>\n",
       "      <th>3077</th>\n",
       "      <td>28891</td>\n",
       "      <td>Haikyuu!! Second Season</td>\n",
       "      <td>Following their participation at the Inter-Hig...</td>\n",
       "      <td>['Comedy', 'Sports', 'Drama', 'School', 'Shoun...</td>\n",
       "      <td>25.0</td>\n",
       "      <td>https://cdn.myanimelist.net/images/anime/9/766...</td>\n",
       "      <td>https://myanimelist.net/anime/28891/Haikyuu_Se...</td>\n",
       "    </tr>\n",
       "  </tbody>\n",
       "</table>\n",
       "</div>"
      ],
      "text/plain": [
       "         uid                                              title  \\\n",
       "3080    5114                   Fullmetal Alchemist: Brotherhood   \n",
       "773     9253                                        Steins;Gate   \n",
       "18280  11061                             Hunter x Hunter (2011)   \n",
       "18278  32281                                     Kimi no Na wa.   \n",
       "18276  38524                 Shingeki no Kyojin Season 3 Part 2   \n",
       "769    28977                                           Gintama°   \n",
       "768     9969                                           Gintama'   \n",
       "767      820                               Ginga Eiyuu Densetsu   \n",
       "766    35180                         3-gatsu no Lion 2nd Season   \n",
       "765    28851                                     Koe no Katachi   \n",
       "15     15417                                Gintama': Enchousen   \n",
       "3091    4181                               Clannad: After Story   \n",
       "13       918                                            Gintama   \n",
       "3089   15335  Gintama Movie 2: Kanketsu-hen - Yorozuya yo Ei...   \n",
       "11     34096                                           Gintama.   \n",
       "3087   32935  Haikyuu!!: Karasuno Koukou vs. Shiratorizawa G...   \n",
       "9       2904                 Code Geass: Hangyaku no Lelouch R2   \n",
       "8      35247                         Owarimonogatari 2nd Season   \n",
       "3084   38000                                   Kimetsu no Yaiba   \n",
       "6        199                      Sen to Chihiro no Kamikakushi   \n",
       "5      37510                                  Mob Psycho 100 II   \n",
       "3081   31758                   Kizumonogatari III: Reiketsu-hen   \n",
       "3079   34599                                      Made in Abyss   \n",
       "3078   23273                            Shigatsu wa Kimi no Uso   \n",
       "3077   28891                            Haikyuu!! Second Season   \n",
       "\n",
       "                                                synopsis  \\\n",
       "3080   \"In order for something to be obtained, someth...   \n",
       "773    The self-proclaimed mad scientist Rintarou Oka...   \n",
       "18280  Hunter x Hunter  is set in a world where Hunte...   \n",
       "18278  Mitsuha Miyamizu, a high school girl, yearns t...   \n",
       "18276  Seeking to restore humanity’s diminishing hope...   \n",
       "769    Gintoki, Shinpachi, and Kagura return as the f...   \n",
       "768    After a one-year hiatus, Shinpachi Shimura ret...   \n",
       "767    The 150-year-long stalemate between the two in...   \n",
       "766    Now in his second year of high school, Rei Kir...   \n",
       "765    As a wild youth, elementary school student Sho...   \n",
       "15     While Gintoki Sakata was away, the Yorozuya fo...   \n",
       "3091   Clannad: After Story , the sequel to the criti...   \n",
       "13     The Amanto, aliens from outer space, have inva...   \n",
       "3089   When Gintoki apprehends a movie pirate at a pr...   \n",
       "11     After joining the resistance against the bakuf...   \n",
       "3087   After the victory against Aoba Jousai High, Ka...   \n",
       "9      One year has passed since the Black Rebellion,...   \n",
       "8      Following an encounter with oddity specialist ...   \n",
       "3084   Ever since the death of his father, the burden...   \n",
       "6      Stubborn, spoiled, and naïve, 10-year-old Chih...   \n",
       "5      Shigeo \"Mob\" Kageyama is now maturing and unde...   \n",
       "3081   After helping revive the legendary vampire Kis...   \n",
       "3079   The Abyss—a gaping chasm stretching down into ...   \n",
       "3078   Music accompanies the path of the human metron...   \n",
       "3077   Following their participation at the Inter-Hig...   \n",
       "\n",
       "                                                   genre  ranked  \\\n",
       "3080   ['Action', 'Military', 'Adventure', 'Comedy', ...     1.0   \n",
       "773                               ['Thriller', 'Sci-Fi']     2.0   \n",
       "18280  ['Action', 'Adventure', 'Fantasy', 'Shounen', ...     3.0   \n",
       "18278     ['Romance', 'Supernatural', 'School', 'Drama']     4.0   \n",
       "18276  ['Action', 'Drama', 'Fantasy', 'Military', 'My...     5.0   \n",
       "769    ['Action', 'Comedy', 'Historical', 'Parody', '...     6.0   \n",
       "768    ['Action', 'Sci-Fi', 'Comedy', 'Historical', '...     7.0   \n",
       "767             ['Military', 'Sci-Fi', 'Space', 'Drama']     8.0   \n",
       "766         ['Drama', 'Game', 'Seinen', 'Slice of Life']     9.0   \n",
       "765                       ['Drama', 'School', 'Shounen']    10.0   \n",
       "15     ['Action', 'Comedy', 'Historical', 'Parody', '...    11.0   \n",
       "3091   ['Slice of Life', 'Comedy', 'Supernatural', 'D...    12.0   \n",
       "13     ['Action', 'Comedy', 'Historical', 'Parody', '...    13.0   \n",
       "3089   ['Action', 'Sci-Fi', 'Comedy', 'Historical', '...    14.0   \n",
       "11     ['Action', 'Comedy', 'Historical', 'Parody', '...    15.0   \n",
       "3087   ['Comedy', 'Sports', 'Drama', 'School', 'Shoun...    16.0   \n",
       "9      ['Action', 'Military', 'Sci-Fi', 'Super Power'...    17.0   \n",
       "8       ['Mystery', 'Comedy', 'Supernatural', 'Vampire']    18.0   \n",
       "3084   ['Action', 'Demons', 'Historical', 'Shounen', ...    19.0   \n",
       "6                 ['Adventure', 'Supernatural', 'Drama']    20.0   \n",
       "5      ['Action', 'Slice of Life', 'Comedy', 'Superna...    21.0   \n",
       "3081    ['Action', 'Mystery', 'Supernatural', 'Vampire']    22.0   \n",
       "3079   ['Sci-Fi', 'Adventure', 'Mystery', 'Drama', 'F...    23.0   \n",
       "3078   ['Drama', 'Music', 'Romance', 'School', 'Shoun...    24.0   \n",
       "3077   ['Comedy', 'Sports', 'Drama', 'School', 'Shoun...    25.0   \n",
       "\n",
       "                                                 img_url  \\\n",
       "3080   https://cdn.myanimelist.net/images/anime/1223/...   \n",
       "773    https://cdn.myanimelist.net/images/anime/5/731...   \n",
       "18280  https://cdn.myanimelist.net/images/anime/11/33...   \n",
       "18278  https://cdn.myanimelist.net/images/anime/5/870...   \n",
       "18276  https://cdn.myanimelist.net/images/anime/1517/...   \n",
       "769    https://cdn.myanimelist.net/images/anime/3/720...   \n",
       "768    https://cdn.myanimelist.net/images/anime/4/503...   \n",
       "767    https://cdn.myanimelist.net/images/anime/13/13...   \n",
       "766    https://cdn.myanimelist.net/images/anime/3/884...   \n",
       "765    https://cdn.myanimelist.net/images/anime/1122/...   \n",
       "15     https://cdn.myanimelist.net/images/anime/6/751...   \n",
       "3091   https://cdn.myanimelist.net/images/anime/13/24...   \n",
       "13     https://cdn.myanimelist.net/images/anime/10/73...   \n",
       "3089   https://cdn.myanimelist.net/images/anime/10/51...   \n",
       "11     https://cdn.myanimelist.net/images/anime/3/835...   \n",
       "3087   https://cdn.myanimelist.net/images/anime/7/819...   \n",
       "9      https://cdn.myanimelist.net/images/anime/4/939...   \n",
       "8      https://cdn.myanimelist.net/images/anime/6/873...   \n",
       "3084   https://cdn.myanimelist.net/images/anime/1286/...   \n",
       "6      https://cdn.myanimelist.net/images/anime/6/795...   \n",
       "5      https://cdn.myanimelist.net/images/anime/1918/...   \n",
       "3081   https://cdn.myanimelist.net/images/anime/3/815...   \n",
       "3079   https://cdn.myanimelist.net/images/anime/6/867...   \n",
       "3078   https://cdn.myanimelist.net/images/anime/3/671...   \n",
       "3077   https://cdn.myanimelist.net/images/anime/9/766...   \n",
       "\n",
       "                                                    link  \n",
       "3080   https://myanimelist.net/anime/5114/Fullmetal_A...  \n",
       "773       https://myanimelist.net/anime/9253/Steins_Gate  \n",
       "18280  https://myanimelist.net/anime/11061/Hunter_x_H...  \n",
       "18278  https://myanimelist.net/anime/32281/Kimi_no_Na_wa  \n",
       "18276  https://myanimelist.net/anime/38524/Shingeki_n...  \n",
       "769    https://myanimelist.net/anime/28977/Gintama%C2%B0  \n",
       "768           https://myanimelist.net/anime/9969/Gintama  \n",
       "767    https://myanimelist.net/anime/820/Ginga_Eiyuu_...  \n",
       "766    https://myanimelist.net/anime/35180/3-gatsu_no...  \n",
       "765    https://myanimelist.net/anime/28851/Koe_no_Kat...  \n",
       "15     https://myanimelist.net/anime/15417/Gintama__E...  \n",
       "3091   https://myanimelist.net/anime/4181/Clannad__Af...  \n",
       "13             https://myanimelist.net/anime/918/Gintama  \n",
       "3089   https://myanimelist.net/anime/15335/Gintama_Mo...  \n",
       "11           https://myanimelist.net/anime/34096/Gintama  \n",
       "3087   https://myanimelist.net/anime/32935/Haikyuu__K...  \n",
       "9      https://myanimelist.net/anime/2904/Code_Geass_...  \n",
       "8      https://myanimelist.net/anime/35247/Owarimonog...  \n",
       "3084   https://myanimelist.net/anime/38000/Kimetsu_no...  \n",
       "6      https://myanimelist.net/anime/199/Sen_to_Chihi...  \n",
       "5      https://myanimelist.net/anime/37510/Mob_Psycho...  \n",
       "3081   https://myanimelist.net/anime/31758/Kizumonoga...  \n",
       "3079   https://myanimelist.net/anime/34599/Made_in_Abyss  \n",
       "3078   https://myanimelist.net/anime/23273/Shigatsu_w...  \n",
       "3077   https://myanimelist.net/anime/28891/Haikyuu_Se...  "
      ]
     },
     "execution_count": 93,
     "metadata": {},
     "output_type": "execute_result"
    }
   ],
   "source": [
    "# new_small_data = new_small_data.drop_duplicates()\n",
    "# new_small_data = new_small_data.drop(['episodes'],axis=1)\n",
    "new_small_data"
   ]
  },
  {
   "cell_type": "code",
   "execution_count": 94,
   "id": "88573d83-41e3-493c-a222-216d1172bd29",
   "metadata": {},
   "outputs": [
    {
     "data": {
      "application/vnd.plotly.v1+json": {
       "config": {
        "plotlyServerURL": "https://plot.ly"
       },
       "data": [
        {
         "alignmentgroup": "True",
         "hovertemplate": "<b>%{hovertext}</b><br><br>genre=%{x}<br>ranked=%{y}<extra></extra>",
         "hovertext": [
          "Fullmetal Alchemist: Brotherhood",
          "Steins;Gate",
          "Hunter x Hunter (2011)",
          "Kimi no Na wa.",
          "Shingeki no Kyojin Season 3 Part 2",
          "Gintama°",
          "Gintama'",
          "Ginga Eiyuu Densetsu",
          "3-gatsu no Lion 2nd Season",
          "Koe no Katachi",
          "Gintama': Enchousen",
          "Clannad: After Story",
          "Gintama",
          "Gintama Movie 2: Kanketsu-hen - Yorozuya yo Eien Nare",
          "Gintama.",
          "Haikyuu!!: Karasuno Koukou vs. Shiratorizawa Gakuen Koukou",
          "Code Geass: Hangyaku no Lelouch R2",
          "Owarimonogatari 2nd Season",
          "Kimetsu no Yaiba",
          "Sen to Chihiro no Kamikakushi",
          "Mob Psycho 100 II",
          "Kizumonogatari III: Reiketsu-hen",
          "Made in Abyss",
          "Shigatsu wa Kimi no Uso",
          "Haikyuu!! Second Season"
         ],
         "legendgroup": "",
         "marker": {
          "color": "#636efa",
          "pattern": {
           "shape": ""
          }
         },
         "name": "",
         "offsetgroup": "",
         "orientation": "v",
         "showlegend": false,
         "textposition": "auto",
         "type": "bar",
         "x": [
          "['Action', 'Military', 'Adventure', 'Comedy', 'Drama', 'Magic', 'Fantasy', 'Shounen']",
          "['Thriller', 'Sci-Fi']",
          "['Action', 'Adventure', 'Fantasy', 'Shounen', 'Super Power']",
          "['Romance', 'Supernatural', 'School', 'Drama']",
          "['Action', 'Drama', 'Fantasy', 'Military', 'Mystery', 'Shounen', 'Super Power']",
          "['Action', 'Comedy', 'Historical', 'Parody', 'Samurai', 'Sci-Fi', 'Shounen']",
          "['Action', 'Sci-Fi', 'Comedy', 'Historical', 'Parody', 'Samurai', 'Shounen']",
          "['Military', 'Sci-Fi', 'Space', 'Drama']",
          "['Drama', 'Game', 'Seinen', 'Slice of Life']",
          "['Drama', 'School', 'Shounen']",
          "['Action', 'Comedy', 'Historical', 'Parody', 'Samurai', 'Sci-Fi', 'Shounen']",
          "['Slice of Life', 'Comedy', 'Supernatural', 'Drama', 'Romance']",
          "['Action', 'Comedy', 'Historical', 'Parody', 'Samurai', 'Sci-Fi', 'Shounen']",
          "['Action', 'Sci-Fi', 'Comedy', 'Historical', 'Parody', 'Samurai', 'Shounen']",
          "['Action', 'Comedy', 'Historical', 'Parody', 'Samurai', 'Sci-Fi', 'Shounen']",
          "['Comedy', 'Sports', 'Drama', 'School', 'Shounen']",
          "['Action', 'Military', 'Sci-Fi', 'Super Power', 'Drama', 'Mecha']",
          "['Mystery', 'Comedy', 'Supernatural', 'Vampire']",
          "['Action', 'Demons', 'Historical', 'Shounen', 'Supernatural']",
          "['Adventure', 'Supernatural', 'Drama']",
          "['Action', 'Slice of Life', 'Comedy', 'Supernatural']",
          "['Action', 'Mystery', 'Supernatural', 'Vampire']",
          "['Sci-Fi', 'Adventure', 'Mystery', 'Drama', 'Fantasy']",
          "['Drama', 'Music', 'Romance', 'School', 'Shounen']",
          "['Comedy', 'Sports', 'Drama', 'School', 'Shounen']"
         ],
         "xaxis": "x",
         "y": [
          1,
          2,
          3,
          4,
          5,
          6,
          7,
          8,
          9,
          10,
          11,
          12,
          13,
          14,
          15,
          16,
          17,
          18,
          19,
          20,
          21,
          22,
          23,
          24,
          25
         ],
         "yaxis": "y"
        }
       ],
       "layout": {
        "autosize": true,
        "barmode": "relative",
        "legend": {
         "tracegroupgap": 0
        },
        "margin": {
         "t": 60
        },
        "template": {
         "data": {
          "bar": [
           {
            "error_x": {
             "color": "#2a3f5f"
            },
            "error_y": {
             "color": "#2a3f5f"
            },
            "marker": {
             "line": {
              "color": "#E5ECF6",
              "width": 0.5
             },
             "pattern": {
              "fillmode": "overlay",
              "size": 10,
              "solidity": 0.2
             }
            },
            "type": "bar"
           }
          ],
          "barpolar": [
           {
            "marker": {
             "line": {
              "color": "#E5ECF6",
              "width": 0.5
             },
             "pattern": {
              "fillmode": "overlay",
              "size": 10,
              "solidity": 0.2
             }
            },
            "type": "barpolar"
           }
          ],
          "carpet": [
           {
            "aaxis": {
             "endlinecolor": "#2a3f5f",
             "gridcolor": "white",
             "linecolor": "white",
             "minorgridcolor": "white",
             "startlinecolor": "#2a3f5f"
            },
            "baxis": {
             "endlinecolor": "#2a3f5f",
             "gridcolor": "white",
             "linecolor": "white",
             "minorgridcolor": "white",
             "startlinecolor": "#2a3f5f"
            },
            "type": "carpet"
           }
          ],
          "choropleth": [
           {
            "colorbar": {
             "outlinewidth": 0,
             "ticks": ""
            },
            "type": "choropleth"
           }
          ],
          "contour": [
           {
            "colorbar": {
             "outlinewidth": 0,
             "ticks": ""
            },
            "colorscale": [
             [
              0,
              "#0d0887"
             ],
             [
              0.1111111111111111,
              "#46039f"
             ],
             [
              0.2222222222222222,
              "#7201a8"
             ],
             [
              0.3333333333333333,
              "#9c179e"
             ],
             [
              0.4444444444444444,
              "#bd3786"
             ],
             [
              0.5555555555555556,
              "#d8576b"
             ],
             [
              0.6666666666666666,
              "#ed7953"
             ],
             [
              0.7777777777777778,
              "#fb9f3a"
             ],
             [
              0.8888888888888888,
              "#fdca26"
             ],
             [
              1,
              "#f0f921"
             ]
            ],
            "type": "contour"
           }
          ],
          "contourcarpet": [
           {
            "colorbar": {
             "outlinewidth": 0,
             "ticks": ""
            },
            "type": "contourcarpet"
           }
          ],
          "heatmap": [
           {
            "colorbar": {
             "outlinewidth": 0,
             "ticks": ""
            },
            "colorscale": [
             [
              0,
              "#0d0887"
             ],
             [
              0.1111111111111111,
              "#46039f"
             ],
             [
              0.2222222222222222,
              "#7201a8"
             ],
             [
              0.3333333333333333,
              "#9c179e"
             ],
             [
              0.4444444444444444,
              "#bd3786"
             ],
             [
              0.5555555555555556,
              "#d8576b"
             ],
             [
              0.6666666666666666,
              "#ed7953"
             ],
             [
              0.7777777777777778,
              "#fb9f3a"
             ],
             [
              0.8888888888888888,
              "#fdca26"
             ],
             [
              1,
              "#f0f921"
             ]
            ],
            "type": "heatmap"
           }
          ],
          "heatmapgl": [
           {
            "colorbar": {
             "outlinewidth": 0,
             "ticks": ""
            },
            "colorscale": [
             [
              0,
              "#0d0887"
             ],
             [
              0.1111111111111111,
              "#46039f"
             ],
             [
              0.2222222222222222,
              "#7201a8"
             ],
             [
              0.3333333333333333,
              "#9c179e"
             ],
             [
              0.4444444444444444,
              "#bd3786"
             ],
             [
              0.5555555555555556,
              "#d8576b"
             ],
             [
              0.6666666666666666,
              "#ed7953"
             ],
             [
              0.7777777777777778,
              "#fb9f3a"
             ],
             [
              0.8888888888888888,
              "#fdca26"
             ],
             [
              1,
              "#f0f921"
             ]
            ],
            "type": "heatmapgl"
           }
          ],
          "histogram": [
           {
            "marker": {
             "pattern": {
              "fillmode": "overlay",
              "size": 10,
              "solidity": 0.2
             }
            },
            "type": "histogram"
           }
          ],
          "histogram2d": [
           {
            "colorbar": {
             "outlinewidth": 0,
             "ticks": ""
            },
            "colorscale": [
             [
              0,
              "#0d0887"
             ],
             [
              0.1111111111111111,
              "#46039f"
             ],
             [
              0.2222222222222222,
              "#7201a8"
             ],
             [
              0.3333333333333333,
              "#9c179e"
             ],
             [
              0.4444444444444444,
              "#bd3786"
             ],
             [
              0.5555555555555556,
              "#d8576b"
             ],
             [
              0.6666666666666666,
              "#ed7953"
             ],
             [
              0.7777777777777778,
              "#fb9f3a"
             ],
             [
              0.8888888888888888,
              "#fdca26"
             ],
             [
              1,
              "#f0f921"
             ]
            ],
            "type": "histogram2d"
           }
          ],
          "histogram2dcontour": [
           {
            "colorbar": {
             "outlinewidth": 0,
             "ticks": ""
            },
            "colorscale": [
             [
              0,
              "#0d0887"
             ],
             [
              0.1111111111111111,
              "#46039f"
             ],
             [
              0.2222222222222222,
              "#7201a8"
             ],
             [
              0.3333333333333333,
              "#9c179e"
             ],
             [
              0.4444444444444444,
              "#bd3786"
             ],
             [
              0.5555555555555556,
              "#d8576b"
             ],
             [
              0.6666666666666666,
              "#ed7953"
             ],
             [
              0.7777777777777778,
              "#fb9f3a"
             ],
             [
              0.8888888888888888,
              "#fdca26"
             ],
             [
              1,
              "#f0f921"
             ]
            ],
            "type": "histogram2dcontour"
           }
          ],
          "mesh3d": [
           {
            "colorbar": {
             "outlinewidth": 0,
             "ticks": ""
            },
            "type": "mesh3d"
           }
          ],
          "parcoords": [
           {
            "line": {
             "colorbar": {
              "outlinewidth": 0,
              "ticks": ""
             }
            },
            "type": "parcoords"
           }
          ],
          "pie": [
           {
            "automargin": true,
            "type": "pie"
           }
          ],
          "scatter": [
           {
            "marker": {
             "colorbar": {
              "outlinewidth": 0,
              "ticks": ""
             }
            },
            "type": "scatter"
           }
          ],
          "scatter3d": [
           {
            "line": {
             "colorbar": {
              "outlinewidth": 0,
              "ticks": ""
             }
            },
            "marker": {
             "colorbar": {
              "outlinewidth": 0,
              "ticks": ""
             }
            },
            "type": "scatter3d"
           }
          ],
          "scattercarpet": [
           {
            "marker": {
             "colorbar": {
              "outlinewidth": 0,
              "ticks": ""
             }
            },
            "type": "scattercarpet"
           }
          ],
          "scattergeo": [
           {
            "marker": {
             "colorbar": {
              "outlinewidth": 0,
              "ticks": ""
             }
            },
            "type": "scattergeo"
           }
          ],
          "scattergl": [
           {
            "marker": {
             "colorbar": {
              "outlinewidth": 0,
              "ticks": ""
             }
            },
            "type": "scattergl"
           }
          ],
          "scattermapbox": [
           {
            "marker": {
             "colorbar": {
              "outlinewidth": 0,
              "ticks": ""
             }
            },
            "type": "scattermapbox"
           }
          ],
          "scatterpolar": [
           {
            "marker": {
             "colorbar": {
              "outlinewidth": 0,
              "ticks": ""
             }
            },
            "type": "scatterpolar"
           }
          ],
          "scatterpolargl": [
           {
            "marker": {
             "colorbar": {
              "outlinewidth": 0,
              "ticks": ""
             }
            },
            "type": "scatterpolargl"
           }
          ],
          "scatterternary": [
           {
            "marker": {
             "colorbar": {
              "outlinewidth": 0,
              "ticks": ""
             }
            },
            "type": "scatterternary"
           }
          ],
          "surface": [
           {
            "colorbar": {
             "outlinewidth": 0,
             "ticks": ""
            },
            "colorscale": [
             [
              0,
              "#0d0887"
             ],
             [
              0.1111111111111111,
              "#46039f"
             ],
             [
              0.2222222222222222,
              "#7201a8"
             ],
             [
              0.3333333333333333,
              "#9c179e"
             ],
             [
              0.4444444444444444,
              "#bd3786"
             ],
             [
              0.5555555555555556,
              "#d8576b"
             ],
             [
              0.6666666666666666,
              "#ed7953"
             ],
             [
              0.7777777777777778,
              "#fb9f3a"
             ],
             [
              0.8888888888888888,
              "#fdca26"
             ],
             [
              1,
              "#f0f921"
             ]
            ],
            "type": "surface"
           }
          ],
          "table": [
           {
            "cells": {
             "fill": {
              "color": "#EBF0F8"
             },
             "line": {
              "color": "white"
             }
            },
            "header": {
             "fill": {
              "color": "#C8D4E3"
             },
             "line": {
              "color": "white"
             }
            },
            "type": "table"
           }
          ]
         },
         "layout": {
          "annotationdefaults": {
           "arrowcolor": "#2a3f5f",
           "arrowhead": 0,
           "arrowwidth": 1
          },
          "autotypenumbers": "strict",
          "coloraxis": {
           "colorbar": {
            "outlinewidth": 0,
            "ticks": ""
           }
          },
          "colorscale": {
           "diverging": [
            [
             0,
             "#8e0152"
            ],
            [
             0.1,
             "#c51b7d"
            ],
            [
             0.2,
             "#de77ae"
            ],
            [
             0.3,
             "#f1b6da"
            ],
            [
             0.4,
             "#fde0ef"
            ],
            [
             0.5,
             "#f7f7f7"
            ],
            [
             0.6,
             "#e6f5d0"
            ],
            [
             0.7,
             "#b8e186"
            ],
            [
             0.8,
             "#7fbc41"
            ],
            [
             0.9,
             "#4d9221"
            ],
            [
             1,
             "#276419"
            ]
           ],
           "sequential": [
            [
             0,
             "#0d0887"
            ],
            [
             0.1111111111111111,
             "#46039f"
            ],
            [
             0.2222222222222222,
             "#7201a8"
            ],
            [
             0.3333333333333333,
             "#9c179e"
            ],
            [
             0.4444444444444444,
             "#bd3786"
            ],
            [
             0.5555555555555556,
             "#d8576b"
            ],
            [
             0.6666666666666666,
             "#ed7953"
            ],
            [
             0.7777777777777778,
             "#fb9f3a"
            ],
            [
             0.8888888888888888,
             "#fdca26"
            ],
            [
             1,
             "#f0f921"
            ]
           ],
           "sequentialminus": [
            [
             0,
             "#0d0887"
            ],
            [
             0.1111111111111111,
             "#46039f"
            ],
            [
             0.2222222222222222,
             "#7201a8"
            ],
            [
             0.3333333333333333,
             "#9c179e"
            ],
            [
             0.4444444444444444,
             "#bd3786"
            ],
            [
             0.5555555555555556,
             "#d8576b"
            ],
            [
             0.6666666666666666,
             "#ed7953"
            ],
            [
             0.7777777777777778,
             "#fb9f3a"
            ],
            [
             0.8888888888888888,
             "#fdca26"
            ],
            [
             1,
             "#f0f921"
            ]
           ]
          },
          "colorway": [
           "#636efa",
           "#EF553B",
           "#00cc96",
           "#ab63fa",
           "#FFA15A",
           "#19d3f3",
           "#FF6692",
           "#B6E880",
           "#FF97FF",
           "#FECB52"
          ],
          "font": {
           "color": "#2a3f5f"
          },
          "geo": {
           "bgcolor": "white",
           "lakecolor": "white",
           "landcolor": "#E5ECF6",
           "showlakes": true,
           "showland": true,
           "subunitcolor": "white"
          },
          "hoverlabel": {
           "align": "left"
          },
          "hovermode": "closest",
          "mapbox": {
           "style": "light"
          },
          "paper_bgcolor": "white",
          "plot_bgcolor": "#E5ECF6",
          "polar": {
           "angularaxis": {
            "gridcolor": "white",
            "linecolor": "white",
            "ticks": ""
           },
           "bgcolor": "#E5ECF6",
           "radialaxis": {
            "gridcolor": "white",
            "linecolor": "white",
            "ticks": ""
           }
          },
          "scene": {
           "xaxis": {
            "backgroundcolor": "#E5ECF6",
            "gridcolor": "white",
            "gridwidth": 2,
            "linecolor": "white",
            "showbackground": true,
            "ticks": "",
            "zerolinecolor": "white"
           },
           "yaxis": {
            "backgroundcolor": "#E5ECF6",
            "gridcolor": "white",
            "gridwidth": 2,
            "linecolor": "white",
            "showbackground": true,
            "ticks": "",
            "zerolinecolor": "white"
           },
           "zaxis": {
            "backgroundcolor": "#E5ECF6",
            "gridcolor": "white",
            "gridwidth": 2,
            "linecolor": "white",
            "showbackground": true,
            "ticks": "",
            "zerolinecolor": "white"
           }
          },
          "shapedefaults": {
           "line": {
            "color": "#2a3f5f"
           }
          },
          "ternary": {
           "aaxis": {
            "gridcolor": "white",
            "linecolor": "white",
            "ticks": ""
           },
           "baxis": {
            "gridcolor": "white",
            "linecolor": "white",
            "ticks": ""
           },
           "bgcolor": "#E5ECF6",
           "caxis": {
            "gridcolor": "white",
            "linecolor": "white",
            "ticks": ""
           }
          },
          "title": {
           "x": 0.05
          },
          "xaxis": {
           "automargin": true,
           "gridcolor": "white",
           "linecolor": "white",
           "ticks": "",
           "title": {
            "standoff": 15
           },
           "zerolinecolor": "white",
           "zerolinewidth": 2
          },
          "yaxis": {
           "automargin": true,
           "gridcolor": "white",
           "linecolor": "white",
           "ticks": "",
           "title": {
            "standoff": 15
           },
           "zerolinecolor": "white",
           "zerolinewidth": 2
          }
         }
        },
        "xaxis": {
         "anchor": "y",
         "autorange": true,
         "domain": [
          0,
          1
         ],
         "range": [
          -0.5,
          19.5
         ],
         "title": {
          "text": "genre"
         },
         "type": "category"
        },
        "yaxis": {
         "anchor": "x",
         "autorange": true,
         "domain": [
          0,
          1
         ],
         "range": [
          0,
          47.36842105263158
         ],
         "title": {
          "text": "ranked"
         },
         "type": "linear"
        }
       }
      },
      "image/png": "[encoded data removed]",
      "text/html": [
       "<div>                            <div id=\"fd68ea6c-102e-4b3e-8674-560af863ee3b\" class=\"plotly-graph-div\" style=\"height:525px; width:100%;\"></div>            <script type=\"text/javascript\">                require([\"plotly\"], function(Plotly) {                    window.PLOTLYENV=window.PLOTLYENV || {};                                    if (document.getElementById(\"fd68ea6c-102e-4b3e-8674-560af863ee3b\")) {                    Plotly.newPlot(                        \"fd68ea6c-102e-4b3e-8674-560af863ee3b\",                        [{\"alignmentgroup\":\"True\",\"hovertemplate\":\"<b>%{hovertext}</b><br><br>genre=%{x}<br>ranked=%{y}<extra></extra>\",\"hovertext\":[\"Fullmetal Alchemist: Brotherhood\",\"Steins;Gate\",\"Hunter x Hunter (2011)\",\"Kimi no Na wa.\",\"Shingeki no Kyojin Season 3 Part 2\",\"Gintama\\u00b0\",\"Gintama'\",\"Ginga Eiyuu Densetsu\",\"3-gatsu no Lion 2nd Season\",\"Koe no Katachi\",\"Gintama': Enchousen\",\"Clannad: After Story\",\"Gintama\",\"Gintama Movie 2: Kanketsu-hen - Yorozuya yo Eien Nare\",\"Gintama.\",\"Haikyuu!!: Karasuno Koukou vs. Shiratorizawa Gakuen Koukou\",\"Code Geass: Hangyaku no Lelouch R2\",\"Owarimonogatari 2nd Season\",\"Kimetsu no Yaiba\",\"Sen to Chihiro no Kamikakushi\",\"Mob Psycho 100 II\",\"Kizumonogatari III: Reiketsu-hen\",\"Made in Abyss\",\"Shigatsu wa Kimi no Uso\",\"Haikyuu!! Second Season\"],\"legendgroup\":\"\",\"marker\":{\"color\":\"#636efa\",\"pattern\":{\"shape\":\"\"}},\"name\":\"\",\"offsetgroup\":\"\",\"orientation\":\"v\",\"showlegend\":false,\"textposition\":\"auto\",\"x\":[\"['Action', 'Military', 'Adventure', 'Comedy', 'Drama', 'Magic', 'Fantasy', 'Shounen']\",\"['Thriller', 'Sci-Fi']\",\"['Action', 'Adventure', 'Fantasy', 'Shounen', 'Super Power']\",\"['Romance', 'Supernatural', 'School', 'Drama']\",\"['Action', 'Drama', 'Fantasy', 'Military', 'Mystery', 'Shounen', 'Super Power']\",\"['Action', 'Comedy', 'Historical', 'Parody', 'Samurai', 'Sci-Fi', 'Shounen']\",\"['Action', 'Sci-Fi', 'Comedy', 'Historical', 'Parody', 'Samurai', 'Shounen']\",\"['Military', 'Sci-Fi', 'Space', 'Drama']\",\"['Drama', 'Game', 'Seinen', 'Slice of Life']\",\"['Drama', 'School', 'Shounen']\",\"['Action', 'Comedy', 'Historical', 'Parody', 'Samurai', 'Sci-Fi', 'Shounen']\",\"['Slice of Life', 'Comedy', 'Supernatural', 'Drama', 'Romance']\",\"['Action', 'Comedy', 'Historical', 'Parody', 'Samurai', 'Sci-Fi', 'Shounen']\",\"['Action', 'Sci-Fi', 'Comedy', 'Historical', 'Parody', 'Samurai', 'Shounen']\",\"['Action', 'Comedy', 'Historical', 'Parody', 'Samurai', 'Sci-Fi', 'Shounen']\",\"['Comedy', 'Sports', 'Drama', 'School', 'Shounen']\",\"['Action', 'Military', 'Sci-Fi', 'Super Power', 'Drama', 'Mecha']\",\"['Mystery', 'Comedy', 'Supernatural', 'Vampire']\",\"['Action', 'Demons', 'Historical', 'Shounen', 'Supernatural']\",\"['Adventure', 'Supernatural', 'Drama']\",\"['Action', 'Slice of Life', 'Comedy', 'Supernatural']\",\"['Action', 'Mystery', 'Supernatural', 'Vampire']\",\"['Sci-Fi', 'Adventure', 'Mystery', 'Drama', 'Fantasy']\",\"['Drama', 'Music', 'Romance', 'School', 'Shounen']\",\"['Comedy', 'Sports', 'Drama', 'School', 'Shounen']\"],\"xaxis\":\"x\",\"y\":[1.0,2.0,3.0,4.0,5.0,6.0,7.0,8.0,9.0,10.0,11.0,12.0,13.0,14.0,15.0,16.0,17.0,18.0,19.0,20.0,21.0,22.0,23.0,24.0,25.0],\"yaxis\":\"y\",\"type\":\"bar\"}],                        {\"template\":{\"data\":{\"bar\":[{\"error_x\":{\"color\":\"#2a3f5f\"},\"error_y\":{\"color\":\"#2a3f5f\"},\"marker\":{\"line\":{\"color\":\"#E5ECF6\",\"width\":0.5},\"pattern\":{\"fillmode\":\"overlay\",\"size\":10,\"solidity\":0.2}},\"type\":\"bar\"}],\"barpolar\":[{\"marker\":{\"line\":{\"color\":\"#E5ECF6\",\"width\":0.5},\"pattern\":{\"fillmode\":\"overlay\",\"size\":10,\"solidity\":0.2}},\"type\":\"barpolar\"}],\"carpet\":[{\"aaxis\":{\"endlinecolor\":\"#2a3f5f\",\"gridcolor\":\"white\",\"linecolor\":\"white\",\"minorgridcolor\":\"white\",\"startlinecolor\":\"#2a3f5f\"},\"baxis\":{\"endlinecolor\":\"#2a3f5f\",\"gridcolor\":\"white\",\"linecolor\":\"white\",\"minorgridcolor\":\"white\",\"startlinecolor\":\"#2a3f5f\"},\"type\":\"carpet\"}],\"choropleth\":[{\"colorbar\":{\"outlinewidth\":0,\"ticks\":\"\"},\"type\":\"choropleth\"}],\"contour\":[{\"colorbar\":{\"outlinewidth\":0,\"ticks\":\"\"},\"colorscale\":[[0.0,\"#0d0887\"],[0.1111111111111111,\"#46039f\"],[0.2222222222222222,\"#7201a8\"],[0.3333333333333333,\"#9c179e\"],[0.4444444444444444,\"#bd3786\"],[0.5555555555555556,\"#d8576b\"],[0.6666666666666666,\"#ed7953\"],[0.7777777777777778,\"#fb9f3a\"],[0.8888888888888888,\"#fdca26\"],[1.0,\"#f0f921\"]],\"type\":\"contour\"}],\"contourcarpet\":[{\"colorbar\":{\"outlinewidth\":0,\"ticks\":\"\"},\"type\":\"contourcarpet\"}],\"heatmap\":[{\"colorbar\":{\"outlinewidth\":0,\"ticks\":\"\"},\"colorscale\":[[0.0,\"#0d0887\"],[0.1111111111111111,\"#46039f\"],[0.2222222222222222,\"#7201a8\"],[0.3333333333333333,\"#9c179e\"],[0.4444444444444444,\"#bd3786\"],[0.5555555555555556,\"#d8576b\"],[0.6666666666666666,\"#ed7953\"],[0.7777777777777778,\"#fb9f3a\"],[0.8888888888888888,\"#fdca26\"],[1.0,\"#f0f921\"]],\"type\":\"heatmap\"}],\"heatmapgl\":[{\"colorbar\":{\"outlinewidth\":0,\"ticks\":\"\"},\"colorscale\":[[0.0,\"#0d0887\"],[0.1111111111111111,\"#46039f\"],[0.2222222222222222,\"#7201a8\"],[0.3333333333333333,\"#9c179e\"],[0.4444444444444444,\"#bd3786\"],[0.5555555555555556,\"#d8576b\"],[0.6666666666666666,\"#ed7953\"],[0.7777777777777778,\"#fb9f3a\"],[0.8888888888888888,\"#fdca26\"],[1.0,\"#f0f921\"]],\"type\":\"heatmapgl\"}],\"histogram\":[{\"marker\":{\"pattern\":{\"fillmode\":\"overlay\",\"size\":10,\"solidity\":0.2}},\"type\":\"histogram\"}],\"histogram2d\":[{\"colorbar\":{\"outlinewidth\":0,\"ticks\":\"\"},\"colorscale\":[[0.0,\"#0d0887\"],[0.1111111111111111,\"#46039f\"],[0.2222222222222222,\"#7201a8\"],[0.3333333333333333,\"#9c179e\"],[0.4444444444444444,\"#bd3786\"],[0.5555555555555556,\"#d8576b\"],[0.6666666666666666,\"#ed7953\"],[0.7777777777777778,\"#fb9f3a\"],[0.8888888888888888,\"#fdca26\"],[1.0,\"#f0f921\"]],\"type\":\"histogram2d\"}],\"histogram2dcontour\":[{\"colorbar\":{\"outlinewidth\":0,\"ticks\":\"\"},\"colorscale\":[[0.0,\"#0d0887\"],[0.1111111111111111,\"#46039f\"],[0.2222222222222222,\"#7201a8\"],[0.3333333333333333,\"#9c179e\"],[0.4444444444444444,\"#bd3786\"],[0.5555555555555556,\"#d8576b\"],[0.6666666666666666,\"#ed7953\"],[0.7777777777777778,\"#fb9f3a\"],[0.8888888888888888,\"#fdca26\"],[1.0,\"#f0f921\"]],\"type\":\"histogram2dcontour\"}],\"mesh3d\":[{\"colorbar\":{\"outlinewidth\":0,\"ticks\":\"\"},\"type\":\"mesh3d\"}],\"parcoords\":[{\"line\":{\"colorbar\":{\"outlinewidth\":0,\"ticks\":\"\"}},\"type\":\"parcoords\"}],\"pie\":[{\"automargin\":true,\"type\":\"pie\"}],\"scatter\":[{\"marker\":{\"colorbar\":{\"outlinewidth\":0,\"ticks\":\"\"}},\"type\":\"scatter\"}],\"scatter3d\":[{\"line\":{\"colorbar\":{\"outlinewidth\":0,\"ticks\":\"\"}},\"marker\":{\"colorbar\":{\"outlinewidth\":0,\"ticks\":\"\"}},\"type\":\"scatter3d\"}],\"scattercarpet\":[{\"marker\":{\"colorbar\":{\"outlinewidth\":0,\"ticks\":\"\"}},\"type\":\"scattercarpet\"}],\"scattergeo\":[{\"marker\":{\"colorbar\":{\"outlinewidth\":0,\"ticks\":\"\"}},\"type\":\"scattergeo\"}],\"scattergl\":[{\"marker\":{\"colorbar\":{\"outlinewidth\":0,\"ticks\":\"\"}},\"type\":\"scattergl\"}],\"scattermapbox\":[{\"marker\":{\"colorbar\":{\"outlinewidth\":0,\"ticks\":\"\"}},\"type\":\"scattermapbox\"}],\"scatterpolar\":[{\"marker\":{\"colorbar\":{\"outlinewidth\":0,\"ticks\":\"\"}},\"type\":\"scatterpolar\"}],\"scatterpolargl\":[{\"marker\":{\"colorbar\":{\"outlinewidth\":0,\"ticks\":\"\"}},\"type\":\"scatterpolargl\"}],\"scatterternary\":[{\"marker\":{\"colorbar\":{\"outlinewidth\":0,\"ticks\":\"\"}},\"type\":\"scatterternary\"}],\"surface\":[{\"colorbar\":{\"outlinewidth\":0,\"ticks\":\"\"},\"colorscale\":[[0.0,\"#0d0887\"],[0.1111111111111111,\"#46039f\"],[0.2222222222222222,\"#7201a8\"],[0.3333333333333333,\"#9c179e\"],[0.4444444444444444,\"#bd3786\"],[0.5555555555555556,\"#d8576b\"],[0.6666666666666666,\"#ed7953\"],[0.7777777777777778,\"#fb9f3a\"],[0.8888888888888888,\"#fdca26\"],[1.0,\"#f0f921\"]],\"type\":\"surface\"}],\"table\":[{\"cells\":{\"fill\":{\"color\":\"#EBF0F8\"},\"line\":{\"color\":\"white\"}},\"header\":{\"fill\":{\"color\":\"#C8D4E3\"},\"line\":{\"color\":\"white\"}},\"type\":\"table\"}]},\"layout\":{\"annotationdefaults\":{\"arrowcolor\":\"#2a3f5f\",\"arrowhead\":0,\"arrowwidth\":1},\"autotypenumbers\":\"strict\",\"coloraxis\":{\"colorbar\":{\"outlinewidth\":0,\"ticks\":\"\"}},\"colorscale\":{\"diverging\":[[0,\"#8e0152\"],[0.1,\"#c51b7d\"],[0.2,\"#de77ae\"],[0.3,\"#f1b6da\"],[0.4,\"#fde0ef\"],[0.5,\"#f7f7f7\"],[0.6,\"#e6f5d0\"],[0.7,\"#b8e186\"],[0.8,\"#7fbc41\"],[0.9,\"#4d9221\"],[1,\"#276419\"]],\"sequential\":[[0.0,\"#0d0887\"],[0.1111111111111111,\"#46039f\"],[0.2222222222222222,\"#7201a8\"],[0.3333333333333333,\"#9c179e\"],[0.4444444444444444,\"#bd3786\"],[0.5555555555555556,\"#d8576b\"],[0.6666666666666666,\"#ed7953\"],[0.7777777777777778,\"#fb9f3a\"],[0.8888888888888888,\"#fdca26\"],[1.0,\"#f0f921\"]],\"sequentialminus\":[[0.0,\"#0d0887\"],[0.1111111111111111,\"#46039f\"],[0.2222222222222222,\"#7201a8\"],[0.3333333333333333,\"#9c179e\"],[0.4444444444444444,\"#bd3786\"],[0.5555555555555556,\"#d8576b\"],[0.6666666666666666,\"#ed7953\"],[0.7777777777777778,\"#fb9f3a\"],[0.8888888888888888,\"#fdca26\"],[1.0,\"#f0f921\"]]},\"colorway\":[\"#636efa\",\"#EF553B\",\"#00cc96\",\"#ab63fa\",\"#FFA15A\",\"#19d3f3\",\"#FF6692\",\"#B6E880\",\"#FF97FF\",\"#FECB52\"],\"font\":{\"color\":\"#2a3f5f\"},\"geo\":{\"bgcolor\":\"white\",\"lakecolor\":\"white\",\"landcolor\":\"#E5ECF6\",\"showlakes\":true,\"showland\":true,\"subunitcolor\":\"white\"},\"hoverlabel\":{\"align\":\"left\"},\"hovermode\":\"closest\",\"mapbox\":{\"style\":\"light\"},\"paper_bgcolor\":\"white\",\"plot_bgcolor\":\"#E5ECF6\",\"polar\":{\"angularaxis\":{\"gridcolor\":\"white\",\"linecolor\":\"white\",\"ticks\":\"\"},\"bgcolor\":\"#E5ECF6\",\"radialaxis\":{\"gridcolor\":\"white\",\"linecolor\":\"white\",\"ticks\":\"\"}},\"scene\":{\"xaxis\":{\"backgroundcolor\":\"#E5ECF6\",\"gridcolor\":\"white\",\"gridwidth\":2,\"linecolor\":\"white\",\"showbackground\":true,\"ticks\":\"\",\"zerolinecolor\":\"white\"},\"yaxis\":{\"backgroundcolor\":\"#E5ECF6\",\"gridcolor\":\"white\",\"gridwidth\":2,\"linecolor\":\"white\",\"showbackground\":true,\"ticks\":\"\",\"zerolinecolor\":\"white\"},\"zaxis\":{\"backgroundcolor\":\"#E5ECF6\",\"gridcolor\":\"white\",\"gridwidth\":2,\"linecolor\":\"white\",\"showbackground\":true,\"ticks\":\"\",\"zerolinecolor\":\"white\"}},\"shapedefaults\":{\"line\":{\"color\":\"#2a3f5f\"}},\"ternary\":{\"aaxis\":{\"gridcolor\":\"white\",\"linecolor\":\"white\",\"ticks\":\"\"},\"baxis\":{\"gridcolor\":\"white\",\"linecolor\":\"white\",\"ticks\":\"\"},\"bgcolor\":\"#E5ECF6\",\"caxis\":{\"gridcolor\":\"white\",\"linecolor\":\"white\",\"ticks\":\"\"}},\"title\":{\"x\":0.05},\"xaxis\":{\"automargin\":true,\"gridcolor\":\"white\",\"linecolor\":\"white\",\"ticks\":\"\",\"title\":{\"standoff\":15},\"zerolinecolor\":\"white\",\"zerolinewidth\":2},\"yaxis\":{\"automargin\":true,\"gridcolor\":\"white\",\"linecolor\":\"white\",\"ticks\":\"\",\"title\":{\"standoff\":15},\"zerolinecolor\":\"white\",\"zerolinewidth\":2}}},\"xaxis\":{\"anchor\":\"y\",\"domain\":[0.0,1.0],\"title\":{\"text\":\"genre\"}},\"yaxis\":{\"anchor\":\"x\",\"domain\":[0.0,1.0],\"title\":{\"text\":\"ranked\"}},\"legend\":{\"tracegroupgap\":0},\"margin\":{\"t\":60},\"barmode\":\"relative\"},                        {\"responsive\": true}                    ).then(function(){\n",
       "                            \n",
       "var gd = document.getElementById('fd68ea6c-102e-4b3e-8674-560af863ee3b');\n",
       "var x = new MutationObserver(function (mutations, observer) {{\n",
       "        var display = window.getComputedStyle(gd).display;\n",
       "        if (!display || display === 'none') {{\n",
       "            console.log([gd, 'removed!']);\n",
       "            Plotly.purge(gd);\n",
       "            observer.disconnect();\n",
       "        }}\n",
       "}});\n",
       "\n",
       "// Listen for the removal of the full notebook cells\n",
       "var notebookContainer = gd.closest('#notebook-container');\n",
       "if (notebookContainer) {{\n",
       "    x.observe(notebookContainer, {childList: true});\n",
       "}}\n",
       "\n",
       "// Listen for the clearing of the current output cell\n",
       "var outputEl = gd.closest('.output');\n",
       "if (outputEl) {{\n",
       "    x.observe(outputEl, {childList: true});\n",
       "}}\n",
       "\n",
       "                        })                };                });            </script>        </div>"
      ]
     },
     "metadata": {},
     "output_type": "display_data"
    }
   ],
   "source": [
    "# Graph genres \n",
    "\n",
    "fig = px.bar(new_small_data, x='genre', y='ranked', hover_name='title')\n",
    "fig.show()"
   ]
  },
  {
   "cell_type": "code",
   "execution_count": 95,
   "id": "8f715690-45e1-4823-933c-44b729926277",
   "metadata": {},
   "outputs": [],
   "source": [
    "# Converting small_data df to a JSON object. This dataframe has the top 25 animes according to myanimelist.net\n",
    "\n",
    "small_data_json = new_small_data.to_json('Resources/small_data.json', orient='table')"
   ]
  },
  {
   "cell_type": "code",
   "execution_count": 96,
   "id": "7778101b-0f57-42cc-9aad-673c90098650",
   "metadata": {},
   "outputs": [
    {
     "name": "stdout",
     "output_type": "stream",
     "text": [
      "('{\"3080\":{\"uid\":5114,\"title\":\"Fullmetal Alchemist: '\n",
      " 'Brotherhood\",\"synopsis\":\"\\\\\"In order for something to be obtained, something '\n",
      " 'of equal value must be lost.\\\\\" \\\\r\\\\n \\\\r\\\\nAlchemy is bound by this Law of '\n",
      " 'Equivalent Exchange\\\\u2014something the young brothers Edward and Alphonse '\n",
      " 'Elric only realize after attempting human transmutation: the one forbidden '\n",
      " 'act of alchemy. They pay a terrible price for their '\n",
      " 'transgression\\\\u2014Edward loses his left leg, Alphonse his physical body. '\n",
      " \"It is only by the desperate sacrifice of Edward's right arm that he is able \"\n",
      " \"to affix Alphonse's soul to a suit of armor. Devastated and alone, it is the \"\n",
      " 'hope that they would both eventually return to their original bodies that '\n",
      " 'gives Edward the inspiration to obtain metal limbs called \\\\\"automail\\\\\" and '\n",
      " 'become a state alchemist, the Fullmetal Alchemist. \\\\r\\\\n \\\\r\\\\nThree years '\n",
      " \"of searching later, the brothers seek the Philosopher's Stone, a mythical \"\n",
      " 'relic that allows an alchemist to overcome the Law of Equivalent Exchange. '\n",
      " 'Even with military allies Colonel Roy Mustang, Lieutenant Riza Hawkeye, and '\n",
      " 'Lieutenant Colonel Maes Hughes on their side, the brothers find themselves '\n",
      " 'caught up in a nationwide conspiracy that leads them not only to the true '\n",
      " \"nature of the elusive Philosopher's Stone, but their country's murky history \"\n",
      " 'as well. In between finding a serial killer and racing against time, Edward '\n",
      " 'and Alphonse must ask themselves if what they are doing will make them human '\n",
      " 'again... or take away their humanity. \\\\r\\\\n \\\\r\\\\n[Written by MAL '\n",
      " 'Rewrite]\",\"genre\":\"[\\'Action\\', \\'Military\\', \\'Adventure\\', \\'Comedy\\', '\n",
      " \"'Drama', 'Magic', 'Fantasy', \"\n",
      " '\\'Shounen\\']\",\"ranked\":1.0,\"img_url\":\"https:\\\\/\\\\/cdn.myanimelist.net\\\\/images\\\\/anime\\\\/1223\\\\/96541.jpg\",\"link\":\"https:\\\\/\\\\/myanimelist.net\\\\/anime\\\\/5114\\\\/Fullmetal_Alchemist__Brotherhood\"},\"773\":{\"uid\":9253,\"title\":\"Steins;Gate\",\"synopsis\":\"The '\n",
      " 'self-proclaimed mad scientist Rintarou Okabe rents out a room in a rickety '\n",
      " 'old building in Akihabara, where he indulges himself in his hobby of '\n",
      " 'inventing prospective \\\\\"future gadgets\\\\\" with fellow lab members: Mayuri '\n",
      " 'Shiina, his air-headed childhood friend, and Hashida Itaru, a perverted '\n",
      " 'hacker nicknamed \\\\\"Daru.\\\\\" The three pass the time by tinkering with their '\n",
      " 'most promising contraption yet, a machine dubbed the \\\\\"Phone Microwave,\\\\\" '\n",
      " 'which performs the strange function of morphing bananas into piles of green '\n",
      " \"gel. \\\\r\\\\n \\\\r\\\\nThough miraculous in itself, the phenomenon doesn't \"\n",
      " \"provide anything concrete in Okabe's search for a scientific breakthrough; \"\n",
      " 'that is, until the lab members are spurred into action by a string of '\n",
      " 'mysterious happenings before stumbling upon an unexpected success\\\\u2014the '\n",
      " 'Phone Microwave can send emails to the past, altering the flow of history. '\n",
      " '\\\\r\\\\n \\\\r\\\\nAdapted from the critically acclaimed visual novel by 5pb. and '\n",
      " 'Nitroplus,  Steins;Gate  takes Okabe through the depths of scientific theory '\n",
      " 'and practicality. Forced across the diverging threads of past and present, '\n",
      " 'Okabe must shoulder the burdens that come with holding the key to the realm '\n",
      " 'of time. \\\\r\\\\n \\\\r\\\\n[Written by MAL Rewrite]\",\"genre\":\"[\\'Thriller\\', '\n",
      " '\\'Sci-Fi\\']\",\"ranked\":2.0,\"img_url\":\"https:\\\\/\\\\/cdn.myanimelist.net\\\\/images\\\\/anime\\\\/5\\\\/73199.jpg\",\"link\":\"https:\\\\/\\\\/myanimelist.net\\\\/anime\\\\/9253\\\\/Steins_Gate\"},\"18280\":{\"uid\":11061,\"title\":\"Hunter '\n",
      " 'x Hunter (2011)\",\"synopsis\":\"Hunter x Hunter  is set in a world where '\n",
      " 'Hunters exist to perform all manner of dangerous tasks like capturing '\n",
      " 'criminals and bravely searching for lost treasures in uncharted territories. '\n",
      " 'Twelve-year-old Gon Freecss is determined to become the best Hunter possible '\n",
      " 'in hopes of finding his father, who was a Hunter himself and had long ago '\n",
      " 'abandoned his young son. However, Gon soon realizes the path to achieving '\n",
      " 'his goals is far more challenging than he could have ever imagined. \\\\r\\\\n '\n",
      " '\\\\r\\\\nAlong the way to becoming an official Hunter, Gon befriends the lively '\n",
      " 'doctor-in-training Leorio, vengeful Kurapika, and rebellious ex-assassin '\n",
      " 'Killua. To attain their own goals and desires, together the four of them '\n",
      " 'take the Hunter Exam, notorious for its low success rate and high '\n",
      " 'probability of death. Throughout their journey, Gon and his friends embark '\n",
      " 'on an adventure that puts them through many hardships and struggles. They '\n",
      " 'will meet a plethora of monsters, creatures, and characters\\\\u2014all while '\n",
      " 'learning what being a Hunter truly means. \\\\r\\\\n \\\\r\\\\n[Written by MAL '\n",
      " 'Rewrite]\",\"genre\":\"[\\'Action\\', \\'Adventure\\', \\'Fantasy\\', \\'Shounen\\', '\n",
      " \"'Super \"\n",
      " 'Power\\']\",\"ranked\":3.0,\"img_url\":\"https:\\\\/\\\\/cdn.myanimelist.net\\\\/images\\\\/anime\\\\/11\\\\/33657.jpg\",\"link\":\"https:\\\\/\\\\/myanimelist.net\\\\/anime\\\\/11061\\\\/Hunter_x_Hunter_2011\"},\"18278\":{\"uid\":32281,\"title\":\"Kimi '\n",
      " 'no Na wa.\",\"synopsis\":\"Mitsuha Miyamizu, a high school girl, yearns to live '\n",
      " 'the life of a boy in the bustling city of Tokyo\\\\u2014a dream that stands in '\n",
      " 'stark contrast to her present life in the countryside. Meanwhile in the '\n",
      " 'city, Taki Tachibana lives a busy life as a high school student while '\n",
      " 'juggling his part-time job and hopes for a future in architecture. \\\\r\\\\n '\n",
      " '\\\\r\\\\nOne day, Mitsuha awakens in a room that is not her own and suddenly '\n",
      " \"finds herself living the dream life in Tokyo\\\\u2014but in Taki's body! \"\n",
      " \"Elsewhere, Taki finds himself living Mitsuha's life in the humble \"\n",
      " 'countryside. In pursuit of an answer to this strange phenomenon, they begin '\n",
      " 'to search for one another. \\\\r\\\\n \\\\r\\\\n Kimi no Na wa.  revolves around '\n",
      " \"Mitsuha and Taki's actions, which begin to have a dramatic impact on each \"\n",
      " \"other's lives, weaving them into a fabric held together by fate and \"\n",
      " 'circumstance. \\\\r\\\\n \\\\r\\\\n[Written by MAL Rewrite]\",\"genre\":\"[\\'Romance\\', '\n",
      " \"'Supernatural', 'School', \"\n",
      " '\\'Drama\\']\",\"ranked\":4.0,\"img_url\":\"https:\\\\/\\\\/cdn.myanimelist.net\\\\/images\\\\/anime\\\\/5\\\\/87048.jpg\",\"link\":\"https:\\\\/\\\\/myanimelist.net\\\\/anime\\\\/32281\\\\/Kimi_no_Na_wa\"},\"18276\":{\"uid\":38524,\"title\":\"Shingeki '\n",
      " 'no Kyojin Season 3 Part 2\",\"synopsis\":\"Seeking to restore humanity\\\\u2019s '\n",
      " 'diminishing hope, the Survey Corps embark on a mission to retake Wall Maria, '\n",
      " 'where the battle against the merciless \\\\\"Titans\\\\\" takes the stage once '\n",
      " 'again.  \\\\r\\\\n \\\\r\\\\nReturning to the tattered Shiganshina District that was '\n",
      " 'once his home, Eren Yeager and the Corps find the town oddly unoccupied by '\n",
      " 'Titans. Even after the outer gate is plugged, they strangely encounter no '\n",
      " 'opposition. The mission progresses smoothly until Armin Arlert, highly '\n",
      " \"suspicious of the enemy's absence, discovers distressing signs of a \"\n",
      " 'potential scheme against them.  \\\\r\\\\n \\\\r\\\\n Shingeki no Kyojin Season 3 '\n",
      " 'Part 2  follows Eren as he vows to take back everything that was once his. '\n",
      " 'Alongside him, the Survey Corps strive\\\\u2014through countless '\n",
      " 'sacrifices\\\\u2014to carve a path towards victory and uncover the secrets '\n",
      " \"locked away in the Yeager family's basement. \\\\r\\\\n \\\\r\\\\n[Written by MAL \"\n",
      " 'Rewrite]\",\"genre\":\"[\\'Action\\', \\'Drama\\', \\'Fantasy\\', \\'Military\\', '\n",
      " \"'Mystery', 'Shounen', 'Super \"\n",
      " 'Power\\']\",\"ranked\":5.0,\"img_url\":\"https:\\\\/\\\\/cdn.myanimelist.net\\\\/images\\\\/anime\\\\/1517\\\\/100633.jpg\",\"link\":\"https:\\\\/\\\\/myanimelist.net\\\\/anime\\\\/38524\\\\/Shingeki_no_Kyojin_Season_3_Part_2\"},\"769\":{\"uid\":28977,\"title\":\"Gintama\\\\u00b0\",\"synopsis\":\"Gintoki, '\n",
      " 'Shinpachi, and Kagura return as the fun-loving but broke members of the '\n",
      " 'Yorozuya team! Living in an alternate-reality Edo, where swords are '\n",
      " 'prohibited and alien overlords have conquered Japan, they try to thrive on '\n",
      " 'doing whatever work they can get their hands on. However, Shinpachi and '\n",
      " \"Kagura still haven't been paid... Does Gin-chan really spend all that cash \"\n",
      " 'playing pachinko? \\\\r\\\\n \\\\r\\\\nMeanwhile, when Gintoki drunkenly staggers '\n",
      " 'home one night, an alien spaceship crashes nearby. A fatally injured crew '\n",
      " 'member emerges from the ship and gives Gintoki a strange, clock-shaped '\n",
      " 'device, warning him that it is incredibly powerful and must be safeguarded. '\n",
      " 'Mistaking it for his alarm clock, Gintoki proceeds to smash the device the '\n",
      " 'next morning and suddenly discovers that the world outside his apartment has '\n",
      " 'come to a standstill. With Kagura and Shinpachi at his side, he sets off to '\n",
      " 'get the device fixed; though, as usual, nothing is ever that simple for the '\n",
      " 'Yorozuya team. \\\\r\\\\n \\\\r\\\\nFilled with tongue-in-cheek humor and moments of '\n",
      " \"heartfelt emotion,  Gintama 's fourth season finds Gintoki and his friends \"\n",
      " 'facing both their most hilarious misadventures and most dangerous crises '\n",
      " 'yet. \\\\r\\\\n \\\\r\\\\n[Written by MAL Rewrite]\",\"genre\":\"[\\'Action\\', '\n",
      " \"'Comedy', 'Historical', 'Parody', 'Samurai', 'Sci-Fi', \"\n",
      " '\\'Shounen\\']\",\"ranked\":6.0,\"img_url\":\"https:\\\\/\\\\/cdn.myanimelist.net\\\\/images\\\\/anime\\\\/3\\\\/72078.jpg\",\"link\":\"https:\\\\/\\\\/myanimelist.net\\\\/anime\\\\/28977\\\\/Gintama%C2%B0\"},\"768\":{\"uid\":9969,\"title\":\"Gintama\\'\",\"synopsis\":\"After '\n",
      " 'a one-year hiatus, Shinpachi Shimura returns to Edo, only to stumble upon a '\n",
      " 'shocking surprise: Gintoki and Kagura, his fellow Yorozuya members, have '\n",
      " 'become completely different characters! Fleeing from the Yorozuya '\n",
      " 'headquarters in confusion, Shinpachi finds that all the denizens of Edo have '\n",
      " 'undergone impossibly extreme changes, in both appearance and personality. '\n",
      " 'Most unbelievably, his sister Otae has married the Shinsengumi chief and '\n",
      " 'shameless stalker Isao Kondou and is pregnant with their first child. \\\\r\\\\n '\n",
      " '\\\\r\\\\nBewildered, Shinpachi agrees to join the Shinsengumi at Otae and '\n",
      " \"Kondou's request and finds even more startling transformations afoot both in \"\n",
      " 'and out of the ranks of the the organization. However, discovering that Vice '\n",
      " 'Chief Toushirou Hijikata has remained unchanged, Shinpachi and his unlikely '\n",
      " 'Shinsengumi ally set out to return the city of Edo to how they remember it. '\n",
      " '\\\\r\\\\n \\\\r\\\\nWith even more dirty jokes, tongue-in-cheek parodies, and '\n",
      " \"shameless references,  Gintama'  follows the Yorozuya team through more of \"\n",
      " 'their misadventures in the vibrant, alien-filled world of Edo. \\\\r\\\\n '\n",
      " '\\\\r\\\\n[Written by MAL Rewrite] \\\\r\\\\n\",\"genre\":\"[\\'Action\\', \\'Sci-Fi\\', '\n",
      " \"'Comedy', 'Historical', 'Parody', 'Samurai', \"\n",
      " '\\'Shounen\\']\",\"ranked\":7.0,\"img_url\":\"https:\\\\/\\\\/cdn.myanimelist.net\\\\/images\\\\/anime\\\\/4\\\\/50361.jpg\",\"link\":\"https:\\\\/\\\\/myanimelist.net\\\\/anime\\\\/9969\\\\/Gintama\"},\"767\":{\"uid\":820,\"title\":\"Ginga '\n",
      " 'Eiyuu Densetsu\",\"synopsis\":\"The 150-year-long stalemate between the two '\n",
      " 'interstellar superpowers, the Galactic Empire and the Free Planets Alliance, '\n",
      " 'comes to an end when a new generation of leaders arises: the idealistic '\n",
      " \"military genius Reinhard von Lohengramm, and the FPA's reserved historian, \"\n",
      " 'Yang Wenli. \\\\r\\\\n \\\\r\\\\nWhile Reinhard climbs the ranks of the Empire with '\n",
      " 'the aid of his childhood friend, Siegfried Kircheis, he must fight not only '\n",
      " 'the war, but also the remnants of the crumbling Goldenbaum Dynasty in order '\n",
      " 'to free his sister from the Kaiser and unify humanity under one genuine '\n",
      " 'ruler. Meanwhile, on the other side of the galaxy, Yang\\\\u2014a strong '\n",
      " 'supporter of democratic ideals\\\\u2014has to stand firm in his beliefs, '\n",
      " 'despite the struggles of the FPA, and show his pupil, Julian Mintz, that '\n",
      " 'autocracy is not the solution. \\\\r\\\\n \\\\r\\\\nAs ideologies clash amidst the '\n",
      " \"war's many casualties, the two strategic masterminds must ask themselves \"\n",
      " 'what the real reason behind their battle is. \\\\r\\\\n \\\\r\\\\n[Written by MAL '\n",
      " 'Rewrite]\",\"genre\":\"[\\'Military\\', \\'Sci-Fi\\', \\'Space\\', '\n",
      " '\\'Drama\\']\",\"ranked\":8.0,\"img_url\":\"https:\\\\/\\\\/cdn.myanimelist.net\\\\/images\\\\/anime\\\\/13\\\\/13225.jpg\",\"link\":\"https:\\\\/\\\\/myanimelist.net\\\\/anime\\\\/820\\\\/Ginga_Eiyuu_Densetsu\"},\"766\":{\"uid\":35180,\"title\":\"3-gatsu '\n",
      " 'no Lion 2nd Season\",\"synopsis\":\"Now in his second year of high school, Rei '\n",
      " 'Kiriyama continues pushing through his struggles in the professional shogi '\n",
      " 'world as well as his personal life. Surrounded by vibrant personalities at '\n",
      " 'the shogi hall, the school club, and in the local community, his solitary '\n",
      " 'shell slowly begins to crack. Among them are the three Kawamoto '\n",
      " 'sisters\\\\u2014Akari, Hinata, and Momo\\\\u2014who forge an affectionate and '\n",
      " 'familial bond with Rei. Through these ties, he realizes that everyone is '\n",
      " 'burdened by their own emotional hardships and begins learning how to rely on '\n",
      " 'others while supporting them in return.  \\\\r\\\\n \\\\r\\\\nNonetheless, the life '\n",
      " 'of a professional is not easy. Between tournaments, championships, and title '\n",
      " 'matches, the pressure mounts as Rei advances through the ranks and '\n",
      " 'encounters incredibly skilled opponents. As he manages his relationships '\n",
      " 'with those who have grown close to him, the shogi player continues to search '\n",
      " 'for the reason he plays the game that defines his career. \\\\r\\\\n '\n",
      " '\\\\r\\\\n[Written by MAL Rewrite]\",\"genre\":\"[\\'Drama\\', \\'Game\\', \\'Seinen\\', '\n",
      " \"'Slice of \"\n",
      " 'Life\\']\",\"ranked\":9.0,\"img_url\":\"https:\\\\/\\\\/cdn.myanimelist.net\\\\/images\\\\/anime\\\\/3\\\\/88469.jpg\",\"link\":\"https:\\\\/\\\\/myanimelist.net\\\\/anime\\\\/35180\\\\/3-gatsu_no_Lion_2nd_Season\"},\"765\":{\"uid\":28851,\"title\":\"Koe '\n",
      " 'no Katachi\",\"synopsis\":\"As a wild youth, elementary school student Shouya '\n",
      " 'Ishida sought to beat boredom in the cruelest ways. When the deaf Shouko '\n",
      " 'Nishimiya transfers into his class, Shouya and the rest of his class '\n",
      " 'thoughtlessly bully her for fun. However, when her mother notifies the '\n",
      " 'school, he is singled out and blamed for everything done to her. With Shouko '\n",
      " 'transferring out of the school, Shouya is left at the mercy of his '\n",
      " 'classmates. He is heartlessly ostracized all throughout elementary and '\n",
      " 'middle school, while teachers turn a blind eye. \\\\r\\\\n \\\\r\\\\nNow in his '\n",
      " 'third year of high school, Shouya is still plagued by his wrongdoings as a '\n",
      " 'young boy. Sincerely regretting his past actions, he sets out on a journey '\n",
      " 'of redemption: to meet Shouko once more and make amends. \\\\r\\\\n \\\\r\\\\n Koe '\n",
      " \"no Katachi  tells the heartwarming tale of Shouya's reunion with Shouko and \"\n",
      " 'his honest attempts to redeem himself, all while being continually haunted '\n",
      " 'by the shadows of his past. \\\\r\\\\n  \\\\r\\\\n[Written by MAL '\n",
      " 'Rewrite]\",\"genre\":\"[\\'Drama\\', \\'School\\', '\n",
      " '\\'Shounen\\']\",\"ranked\":10.0,\"img_url\":\"https:\\\\/\\\\/cdn.myanimelist.net\\\\/images\\\\/anime\\\\/1122\\\\/96435.jpg\",\"link\":\"https:\\\\/\\\\/myanimelist.net\\\\/anime\\\\/28851\\\\/Koe_no_Katachi\"},\"15\":{\"uid\":15417,\"title\":\"Gintama\\': '\n",
      " 'Enchousen\",\"synopsis\":\"While Gintoki Sakata was away, the Yorozuya found '\n",
      " \"themselves a new leader: Kintoki, Gintoki's golden-haired doppelganger. In \"\n",
      " 'order to regain his former position, Gintoki will need the help of those '\n",
      " 'around him, a troubling feat when no one can remember him! Between Kintoki '\n",
      " 'and Gintoki, who will claim the throne as the main character? \\\\r\\\\n '\n",
      " '\\\\r\\\\nIn addition, Yorozuya make a trip back down to red-light district of '\n",
      " 'Yoshiwara to aid an elderly courtesan in her search for her long-lost lover. '\n",
      " \"Although the district is no longer in chains beneath the earth's surface, \"\n",
      " \"the trio soon learn of the tragic backstories of Yoshiwara's inhabitants \"\n",
      " 'that still haunt them. With flashback after flashback, this quest has '\n",
      " 'Yorozuya witnessing everlasting love and protecting it as best they can with '\n",
      " \"their hearts and souls. \\\\r\\\\n \\\\r\\\\n Gintama': Enchousen  includes moments \"\n",
      " 'of action-packed intensity along with their usual lighthearted, slapstick '\n",
      " 'humor for Gintoki and his friends. \\\\r\\\\n \\\\r\\\\n[Written by MAL '\n",
      " 'Rewrite]\",\"genre\":\"[\\'Action\\', \\'Comedy\\', \\'Historical\\', \\'Parody\\', '\n",
      " \"'Samurai', 'Sci-Fi', \"\n",
      " '\\'Shounen\\']\",\"ranked\":11.0,\"img_url\":\"https:\\\\/\\\\/cdn.myanimelist.net\\\\/images\\\\/anime\\\\/6\\\\/75172.jpg\",\"link\":\"https:\\\\/\\\\/myanimelist.net\\\\/anime\\\\/15417\\\\/Gintama__Enchousen\"},\"3091\":{\"uid\":4181,\"title\":\"Clannad: '\n",
      " 'After Story\",\"synopsis\":\"Clannad: After Story , the sequel to the critically '\n",
      " 'acclaimed slice-of-life series  Clannad , begins after Tomoya Okazaki and '\n",
      " 'Nagisa Furukawa graduate from high school. Together, they experience the '\n",
      " 'emotional rollercoaster of growing up. Unable to decide on a course for his '\n",
      " 'future, Tomoya learns the value of a strong work ethic and discovers the '\n",
      " \"strength of Nagisa's support. Through the couple's dedication and unity of \"\n",
      " 'purpose, they push forward to confront their personal problems, deepen their '\n",
      " 'old relationships, and create new bonds. \\\\r\\\\n \\\\r\\\\nTime also moves on in '\n",
      " 'the Illusionary World. As the plains grow cold with the approach of winter, '\n",
      " 'the Illusionary Girl and the Garbage Doll are presented with a difficult '\n",
      " \"situation that reveals the World's true purpose. \\\\r\\\\n \\\\r\\\\nBased on the \"\n",
      " 'visual novel by Key and produced by Kyoto Animation,  Clannad: After Story  '\n",
      " 'is an impactful drama highlighting the importance of family and the '\n",
      " 'struggles of adulthood. \\\\r\\\\n \\\\r\\\\n[Written by MAL '\n",
      " 'Rewrite]\",\"genre\":\"[\\'Slice of Life\\', \\'Comedy\\', \\'Supernatural\\', '\n",
      " \"'Drama', \"\n",
      " '\\'Romance\\']\",\"ranked\":12.0,\"img_url\":\"https:\\\\/\\\\/cdn.myanimelist.net\\\\/images\\\\/anime\\\\/13\\\\/24647.jpg\",\"link\":\"https:\\\\/\\\\/myanimelist.net\\\\/anime\\\\/4181\\\\/Clannad__After_Story\"},\"13\":{\"uid\":918,\"title\":\"Gintama\",\"synopsis\":\"The '\n",
      " 'Amanto, aliens from outer space, have invaded Earth and taken over feudal '\n",
      " 'Japan. As a result, a prohibition on swords has been established, and the '\n",
      " 'samurai of Japan are treated with disregard as a consequence. \\\\r\\\\n '\n",
      " '\\\\r\\\\nHowever one man, Gintoki Sakata, still possesses the heart of the '\n",
      " 'samurai, although from his love of sweets and work as a yorozuya, one might '\n",
      " 'not expect it. Accompanying him in his jack-of-all-trades line of work are '\n",
      " 'Shinpachi Shimura, a boy with glasses and a strong heart, Kagura with her '\n",
      " 'umbrella and seemingly bottomless stomach, as well as Sadaharu, their '\n",
      " 'oversized pet dog. Of course, these odd jobs are not always simple, as they '\n",
      " 'frequently have run-ins with the police, ragtag rebels, and assassins, '\n",
      " 'oftentimes leading to humorous but unfortunate consequences. \\\\r\\\\n '\n",
      " '\\\\r\\\\nWho said life as an errand boy was easy? \\\\r\\\\n \\\\r\\\\n[Written by MAL '\n",
      " 'Rewrite]\",\"genre\":\"[\\'Action\\', \\'Comedy\\', \\'Historical\\', \\'Parody\\', '\n",
      " \"'Samurai', 'Sci-Fi', \"\n",
      " '\\'Shounen\\']\",\"ranked\":13.0,\"img_url\":\"https:\\\\/\\\\/cdn.myanimelist.net\\\\/images\\\\/anime\\\\/10\\\\/73274.jpg\",\"link\":\"https:\\\\/\\\\/myanimelist.net\\\\/anime\\\\/918\\\\/Gintama\"},\"3089\":{\"uid\":15335,\"title\":\"Gintama '\n",
      " 'Movie 2: Kanketsu-hen - Yorozuya yo Eien Nare\",\"synopsis\":\"When Gintoki '\n",
      " \"apprehends a movie pirate at a premiere, he checks the camera's footage and \"\n",
      " 'finds himself transported to a bleak, post-apocalyptic version of Edo, where '\n",
      " 'a mysterious epidemic called the \\\\\"White Plague\\\\\" has ravished the '\n",
      " \"world's population. It turns out that the movie pirate wasn't a pirate after \"\n",
      " 'all\\\\u2014it was an android time machine, and Gintoki has been hurtled five '\n",
      " 'years into the future! Shinpachi and Kagura, his Yorozuya cohorts, have had '\n",
      " 'a falling out and are now battle-hardened solo vigilantes and he himself has '\n",
      " 'been missing for years, disappearing without a trace after scribbling a '\n",
      " 'strange message in his journal. \\\\r\\\\n \\\\r\\\\nSetting out in the disguise '\n",
      " 'given to him by the android time machine, Gintoki haphazardly reunites the '\n",
      " 'Yorozuya team to investigate the White Plague, and soon discovers that the '\n",
      " 'key to saving the future lies in the darkness of his own past. Determined to '\n",
      " 'confront a powerful foe, he makes an important discovery\\\\u2014with a ragtag '\n",
      " \"band of friends and allies at his side, he doesn't have to fight alone. \"\n",
      " '\\\\r\\\\n \\\\r\\\\n[Written by MAL Rewrite]\",\"genre\":\"[\\'Action\\', \\'Sci-Fi\\', '\n",
      " \"'Comedy', 'Historical', 'Parody', 'Samurai', \"\n",
      " '\\'Shounen\\']\",\"ranked\":14.0,\"img_url\":\"https:\\\\/\\\\/cdn.myanimelist.net\\\\/images\\\\/anime\\\\/10\\\\/51723.jpg\",\"link\":\"https:\\\\/\\\\/myanimelist.net\\\\/anime\\\\/15335\\\\/Gintama_Movie_2__Kanketsu-hen_-_Yorozuya_yo_Eien_Nare\"},\"11\":{\"uid\":34096,\"title\":\"Gintama.\",\"synopsis\":\"After '\n",
      " 'joining the resistance against the bakufu, Gintoki and the gang are in '\n",
      " 'hiding, along with Katsura and his Joui rebels. The Yorozuya is soon '\n",
      " 'approached by Nobume Imai and two members of the Kiheitai, who explain that '\n",
      " 'the Harusame pirates have turned against 7th Division Captain Kamui and '\n",
      " 'their former ally Takasugi. The Kiheitai present Gintoki with a job: find '\n",
      " 'Takasugi, who has been missing since his ship was ambushed in a Harusame '\n",
      " 'raid. Nobume also makes a stunning revelation regarding the Tendoushuu, a '\n",
      " 'secret organization pulling the strings of numerous factions, and their '\n",
      " \"leader Utsuro, the shadowy figure with an uncanny resemblance to Gintoki's \"\n",
      " \"former teacher. \\\\r\\\\n \\\\r\\\\nHitching a ride on Sakamoto's space ship, the \"\n",
      " \"Yorozuya and Katsura set out for Rakuyou, Kagura's home planet, where the \"\n",
      " 'various factions have gathered and tensions are brewing. Long-held grudges, '\n",
      " \"political infighting, and the Tendoushuu's sinister overarching plan finally \"\n",
      " 'culminate into a massive, decisive battle on Rakuyou. \\\\r\\\\n \\\\r\\\\n[Written '\n",
      " 'by MAL Rewrite]\",\"genre\":\"[\\'Action\\', \\'Comedy\\', \\'Historical\\', '\n",
      " \"'Parody', 'Samurai', 'Sci-Fi', \"\n",
      " '\\'Shounen\\']\",\"ranked\":15.0,\"img_url\":\"https:\\\\/\\\\/cdn.myanimelist.net\\\\/images\\\\/anime\\\\/3\\\\/83528.jpg\",\"link\":\"https:\\\\/\\\\/myanimelist.net\\\\/anime\\\\/34096\\\\/Gintama\"},\"3087\":{\"uid\":32935,\"title\":\"Haikyuu!!: '\n",
      " 'Karasuno Koukou vs. Shiratorizawa Gakuen Koukou\",\"synopsis\":\"After the '\n",
      " 'victory against Aoba Jousai High, Karasuno High School, once called \\\\u201ca '\n",
      " 'fallen powerhouse, a crow that can\\\\u2019t fly,\\\\u201d has finally reached '\n",
      " 'the climax of the heated Spring tournament. Now, to advance to nationals, '\n",
      " 'the Karasuno team has to defeat the powerhouse Shiratorizawa Academy. '\n",
      " 'Karasuno\\\\u2019s greatest hurdle is their adversary\\\\u2019s ace, Wakatoshi '\n",
      " 'Ushijima, the number one player in the Miyagi Prefecture, and one of the '\n",
      " 'country\\\\u2019s top three aces. \\\\r\\\\n \\\\r\\\\nOnly the strongest team will '\n",
      " 'make it to the national tournament. Since this match is the third-year '\n",
      " 'players\\\\u2019 last chance to qualify for nationals, Karasuno has to use '\n",
      " 'everything they learned during the training camp and prior matches to attain '\n",
      " 'victory. Filled with restlessness and excitement, both teams are determined '\n",
      " 'to come out on top in the third season of  Haikyuu!! . \\\\r\\\\n \\\\r\\\\n[Written '\n",
      " 'by MAL Rewrite] \",\"genre\":\"[\\'Comedy\\', \\'Sports\\', \\'Drama\\', \\'School\\', '\n",
      " '\\'Shounen\\']\",\"ranked\":16.0,\"img_url\":\"https:\\\\/\\\\/cdn.myanimelist.net\\\\/images\\\\/anime\\\\/7\\\\/81992.jpg\",\"link\":\"https:\\\\/\\\\/myanimelist.net\\\\/anime\\\\/32935\\\\/Haikyuu__Karasuno_Koukou_vs_Shiratorizawa_Gakuen_Koukou\"},\"9\":{\"uid\":2904,\"title\":\"Code '\n",
      " 'Geass: Hangyaku no Lelouch R2\",\"synopsis\":\"One year has passed since the '\n",
      " 'Black Rebellion, a failed uprising against the Holy Britannian Empire led by '\n",
      " 'the masked vigilante Zero, who is now missing. At a loss without their '\n",
      " \"revolutionary leader, Area 11's resistance group\\\\u2014the Black \"\n",
      " 'Knights\\\\u2014find themselves too powerless to combat the brutality '\n",
      " 'inflicted upon the Elevens by Britannia, which has increased significantly '\n",
      " 'in order to crush any hope of a future revolt.  \\\\r\\\\n \\\\r\\\\nLelouch '\n",
      " 'Lamperouge, having lost all memory of his double life, is living peacefully '\n",
      " 'alongside his friends as a high school student at Ashford Academy. His '\n",
      " 'former partner C.C., unable to accept this turn of events, takes it upon '\n",
      " 'herself to remind him of his past purpose, hoping that the mastermind Zero '\n",
      " 'will rise once again to finish what he started, in this thrilling conclusion '\n",
      " 'to the series. \\\\r\\\\n \\\\r\\\\n[Written by MAL Rewrite] '\n",
      " '\\\\r\\\\n\",\"genre\":\"[\\'Action\\', \\'Military\\', \\'Sci-Fi\\', \\'Super Power\\', '\n",
      " \"'Drama', \"\n",
      " '\\'Mecha\\']\",\"ranked\":17.0,\"img_url\":\"https:\\\\/\\\\/cdn.myanimelist.net\\\\/images\\\\/anime\\\\/4\\\\/9391.jpg\",\"link\":\"https:\\\\/\\\\/myanimelist.net\\\\/anime\\\\/2904\\\\/Code_Geass__Hangyaku_no_Lelouch_R2\"},\"8\":{\"uid\":35247,\"title\":\"Owarimonogatari '\n",
      " '2nd Season\",\"synopsis\":\"Following an encounter with oddity specialist Izuko '\n",
      " 'Gaen, third-year high school student Koyomi Araragi wakes up in a strange, '\n",
      " 'deserted void only to be greeted by a joyfully familiar face in an '\n",
      " 'alarmingly unfamiliar place.   \\\\r\\\\n \\\\r\\\\nAraragi, with the help of his '\n",
      " 'girlfriend Hitagi Senjougahara, maneuvers through the webs of his past and '\n",
      " 'the perplexities of the present in search of answers. However, fate once '\n",
      " 'again delivers him to the eccentric transfer student Ougi Oshino, who brings '\n",
      " 'forth an unexpected proposal that may unearth the very foundation to which '\n",
      " 'he is anchored. As Araragi peels back the layers of mystery surrounding an '\n",
      " 'apparition, he discovers a truth not meant to be revealed. \\\\r\\\\n '\n",
      " '\\\\r\\\\n[Written by MAL Rewrite]\",\"genre\":\"[\\'Mystery\\', \\'Comedy\\', '\n",
      " \"'Supernatural', \"\n",
      " '\\'Vampire\\']\",\"ranked\":18.0,\"img_url\":\"https:\\\\/\\\\/cdn.myanimelist.net\\\\/images\\\\/anime\\\\/6\\\\/87322.jpg\",\"link\":\"https:\\\\/\\\\/myanimelist.net\\\\/anime\\\\/35247\\\\/Owarimonogatari_2nd_Season\"},\"3084\":{\"uid\":38000,\"title\":\"Kimetsu '\n",
      " 'no Yaiba\",\"synopsis\":\"Ever since the death of his father, the burden of '\n",
      " \"supporting the family has fallen upon Tanjirou Kamado's shoulders. Though \"\n",
      " 'living impoverished on a remote mountain, the Kamado family are able to '\n",
      " 'enjoy a relatively peaceful and happy life. One day, Tanjirou decides to go '\n",
      " 'down to the local village to make a little money selling charcoal. On his '\n",
      " 'way back, night falls, forcing Tanjirou to take shelter in the house of a '\n",
      " 'strange man, who warns him of the existence of flesh-eating demons that lurk '\n",
      " 'in the woods at night. \\\\r\\\\n \\\\r\\\\nWhen he finally arrives back home the '\n",
      " 'next day, he is met with a horrifying sight\\\\u2014his whole family has been '\n",
      " 'slaughtered. Worse still, the sole survivor is his sister Nezuko, who has '\n",
      " 'been turned into a bloodthirsty demon. Consumed by rage and hatred, Tanjirou '\n",
      " 'swears to avenge his family and stay by his only remaining sibling. '\n",
      " 'Alongside the mysterious group calling themselves the Demon Slayer Corps, '\n",
      " 'Tanjirou will do whatever it takes to slay the demons and protect the '\n",
      " \"remnants of his beloved sister's humanity. \\\\r\\\\n \\\\r\\\\n[Written by MAL \"\n",
      " 'Rewrite]\",\"genre\":\"[\\'Action\\', \\'Demons\\', \\'Historical\\', \\'Shounen\\', '\n",
      " '\\'Supernatural\\']\",\"ranked\":19.0,\"img_url\":\"https:\\\\/\\\\/cdn.myanimelist.net\\\\/images\\\\/anime\\\\/1286\\\\/99889.jpg\",\"link\":\"https:\\\\/\\\\/myanimelist.net\\\\/anime\\\\/38000\\\\/Kimetsu_no_Yaiba\"},\"6\":{\"uid\":199,\"title\":\"Sen '\n",
      " 'to Chihiro no Kamikakushi\",\"synopsis\":\"Stubborn, spoiled, and na\\\\u00efve, '\n",
      " '10-year-old Chihiro Ogino is less than pleased when she and her parents '\n",
      " 'discover an abandoned amusement park on the way to their new house. '\n",
      " 'Cautiously venturing inside, she realizes that there is more to this place '\n",
      " 'than meets the eye, as strange things begin to happen once dusk falls. '\n",
      " 'Ghostly apparitions and food that turns her parents into pigs are just the '\n",
      " 'start\\\\u2014Chihiro has unwittingly crossed over into the spirit world. Now '\n",
      " 'trapped, she must summon the courage to live and work amongst spirits, with '\n",
      " 'the help of the enigmatic Haku and the cast of unique characters she meets '\n",
      " 'along the way. \\\\r\\\\n \\\\r\\\\nVivid and intriguing,  Sen to Chihiro no '\n",
      " \"Kamikakushi  tells the story of Chihiro's journey through an unfamiliar \"\n",
      " 'world as she strives to save her parents and return home. \\\\r\\\\n '\n",
      " '\\\\r\\\\n[Written by MAL Rewrite]\",\"genre\":\"[\\'Adventure\\', \\'Supernatural\\', '\n",
      " '\\'Drama\\']\",\"ranked\":20.0,\"img_url\":\"https:\\\\/\\\\/cdn.myanimelist.net\\\\/images\\\\/anime\\\\/6\\\\/79597.jpg\",\"link\":\"https:\\\\/\\\\/myanimelist.net\\\\/anime\\\\/199\\\\/Sen_to_Chihiro_no_Kamikakushi\"},\"5\":{\"uid\":37510,\"title\":\"Mob '\n",
      " 'Psycho 100 II\",\"synopsis\":\"Shigeo \\\\\"Mob\\\\\" Kageyama is now maturing and '\n",
      " 'understanding his role as a supernatural psychic that has the power to '\n",
      " 'drastically affect the livelihood of others. He and his mentor Reigen '\n",
      " 'Arataka continue to deal with supernatural requests from clients, whether it '\n",
      " 'be exorcizing evil spirits or tackling urban legends that haunt the '\n",
      " \"citizens. \\\\r\\\\n \\\\r\\\\nWhile the workflow remains the same, Mob isn't just \"\n",
      " 'blindly following Reigen around anymore. With all his experiences as a '\n",
      " \"ridiculously strong psychic, Mob's supernatural adventures now have more \"\n",
      " 'weight to them. Things take on a serious and darker tone as the dangers Mob '\n",
      " 'and Reigen face are much more tangible and unsettling than ever before. '\n",
      " '\\\\r\\\\n \\\\r\\\\n[Written by MAL Rewrite]\",\"genre\":\"[\\'Action\\', \\'Slice of '\n",
      " \"Life', 'Comedy', \"\n",
      " '\\'Supernatural\\']\",\"ranked\":21.0,\"img_url\":\"https:\\\\/\\\\/cdn.myanimelist.net\\\\/images\\\\/anime\\\\/1918\\\\/96303.jpg\",\"link\":\"https:\\\\/\\\\/myanimelist.net\\\\/anime\\\\/37510\\\\/Mob_Psycho_100_II\"},\"3081\":{\"uid\":31758,\"title\":\"Kizumonogatari '\n",
      " 'III: Reiketsu-hen\",\"synopsis\":\"After helping revive the legendary vampire '\n",
      " 'Kiss-shot Acerola-orion Heart-under-blade, Koyomi Araragi has become a '\n",
      " 'vampire himself and her servant. Kiss-shot is certain she can turn him back '\n",
      " 'into a human, but only once regaining her full power.  \\\\r\\\\n \\\\r\\\\nAraragi '\n",
      " 'has hunted down the three vampire hunters that defeated Kiss-shot and '\n",
      " 'retrieved her limbs to return her to full strength. However, now that '\n",
      " 'Araragi has almost accomplished what he\\\\u2019s been fighting for this whole '\n",
      " 'time, he has to consider if this is what he really wants. Once he revives '\n",
      " 'this powerful immortal vampire, there is no telling what she might do, and '\n",
      " 'there would be no way of stopping her. \\\\r\\\\n \\\\r\\\\nBut there is more to the '\n",
      " 'story that Araragi doesn\\\\u2019t understand. If a newborn vampire like him '\n",
      " 'could defeat the hunters, how did they overpower Kiss-shot? Can he trust her '\n",
      " 'to turn him back to a human? And how is that even possible in the first '\n",
      " 'place? \\\\r\\\\n \\\\r\\\\nAraragi is at his limit but he must come to a decision, '\n",
      " 'and it may not be possible to resolve this situation without doing something '\n",
      " 'he\\\\u2019ll regret\\\\u2026 \\\\r\\\\n \\\\r\\\\n[Written by MAL '\n",
      " 'Rewrite]\",\"genre\":\"[\\'Action\\', \\'Mystery\\', \\'Supernatural\\', '\n",
      " '\\'Vampire\\']\",\"ranked\":22.0,\"img_url\":\"https:\\\\/\\\\/cdn.myanimelist.net\\\\/images\\\\/anime\\\\/3\\\\/81576.jpg\",\"link\":\"https:\\\\/\\\\/myanimelist.net\\\\/anime\\\\/31758\\\\/Kizumonogatari_III__Reiketsu-hen\"},\"3079\":{\"uid\":34599,\"title\":\"Made '\n",
      " 'in Abyss\",\"synopsis\":\"The Abyss\\\\u2014a gaping chasm stretching down into '\n",
      " 'the depths of the earth, filled with mysterious creatures and relics from a '\n",
      " 'time long past. How did it come to be? What lies at the bottom? Countless '\n",
      " 'brave individuals, known as Divers, have sought to solve these mysteries of '\n",
      " 'the Abyss, fearlessly descending into its darkest realms. The best and '\n",
      " 'bravest of the Divers, the White Whistles, are hailed as legends by those '\n",
      " 'who remain on the surface. \\\\r\\\\n \\\\r\\\\nRiko, daughter of the missing White '\n",
      " 'Whistle Lyza the Annihilator, aspires to become like her mother and explore '\n",
      " 'the furthest reaches of the Abyss. However, just a novice Red Whistle '\n",
      " 'herself, she is only permitted to roam its most upper layer. Even so, Riko '\n",
      " 'has a chance encounter with a mysterious robot with the appearance of an '\n",
      " 'ordinary young boy. She comes to name him Reg, and he has no recollection of '\n",
      " 'the events preceding his discovery. Certain that the technology to create '\n",
      " 'Reg must come from deep within the Abyss, the two decide to venture forth '\n",
      " 'into the chasm to recover his memories and see the bottom of the great pit '\n",
      " 'with their own eyes. However, they know not of the harsh reality that is the '\n",
      " 'true existence of the Abyss. \\\\r\\\\n \\\\r\\\\n[Written by MAL '\n",
      " 'Rewrite]\",\"genre\":\"[\\'Sci-Fi\\', \\'Adventure\\', \\'Mystery\\', \\'Drama\\', '\n",
      " '\\'Fantasy\\']\",\"ranked\":23.0,\"img_url\":\"https:\\\\/\\\\/cdn.myanimelist.net\\\\/images\\\\/anime\\\\/6\\\\/86733.jpg\",\"link\":\"https:\\\\/\\\\/myanimelist.net\\\\/anime\\\\/34599\\\\/Made_in_Abyss\"},\"3078\":{\"uid\":23273,\"title\":\"Shigatsu '\n",
      " 'wa Kimi no Uso\",\"synopsis\":\"Music accompanies the path of the human '\n",
      " 'metronome, the prodigious pianist Kousei Arima. But after the passing of his '\n",
      " 'mother, Saki Arima, Kousei falls into a downward spiral, rendering him '\n",
      " 'unable to hear the sound of his own piano. \\\\r\\\\n  \\\\r\\\\nTwo years later, '\n",
      " 'Kousei still avoids the piano, leaving behind his admirers and rivals, and '\n",
      " 'lives a colorless life alongside his friends Tsubaki Sawabe and Ryouta '\n",
      " 'Watari. However, everything changes when he meets a beautiful violinist, '\n",
      " 'Kaori Miyazono, who stirs up his world and sets him on a journey to face '\n",
      " 'music again. \\\\r\\\\n \\\\r\\\\nBased on the manga series of the same name,  '\n",
      " \"Shigatsu wa Kimi no Uso  approaches the story of Kousei's recovery as he \"\n",
      " 'discovers that music is more than playing each note perfectly, and a single '\n",
      " 'melody can bring in the fresh spring air of April. \\\\r\\\\n \\\\r\\\\n[Written by '\n",
      " 'MAL Rewrite]\",\"genre\":\"[\\'Drama\\', \\'Music\\', \\'Romance\\', \\'School\\', '\n",
      " '\\'Shounen\\']\",\"ranked\":24.0,\"img_url\":\"https:\\\\/\\\\/cdn.myanimelist.net\\\\/images\\\\/anime\\\\/3\\\\/67177.jpg\",\"link\":\"https:\\\\/\\\\/myanimelist.net\\\\/anime\\\\/23273\\\\/Shigatsu_wa_Kimi_no_Uso\"},\"3077\":{\"uid\":28891,\"title\":\"Haikyuu!! '\n",
      " 'Second Season\",\"synopsis\":\"Following their participation at the Inter-High, '\n",
      " 'the Karasuno High School volleyball team attempts to refocus their efforts, '\n",
      " 'aiming to conquer the Spring tournament instead.  \\\\r\\\\n \\\\r\\\\nWhen they '\n",
      " 'receive an invitation from long-standing rival Nekoma High, Karasuno agrees '\n",
      " 'to take part in a large training camp alongside many notable volleyball '\n",
      " 'teams in Tokyo and even some national level players. By playing with some of '\n",
      " 'the toughest teams in Japan, they hope not only to sharpen their skills, but '\n",
      " 'also come up with new attacks that would strengthen them. Moreover, Hinata '\n",
      " 'and Kageyama attempt to devise a more powerful weapon, one that could '\n",
      " 'possibly break the sturdiest of blocks.  \\\\r\\\\n \\\\r\\\\nFacing what may be '\n",
      " 'their last chance at victory before the senior players graduate, the members '\n",
      " \"of Karasuno's volleyball team must learn to settle their differences and \"\n",
      " 'train harder than ever if they hope to overcome formidable opponents old and '\n",
      " 'new\\\\u2014including their archrival Aoba Jousai and its world-class setter '\n",
      " 'Tooru Oikawa. \\\\r\\\\n \\\\r\\\\n[Written by MAL Rewrite]\",\"genre\":\"[\\'Comedy\\', '\n",
      " \"'Sports', 'Drama', 'School', \"\n",
      " '\\'Shounen\\']\",\"ranked\":25.0,\"img_url\":\"https:\\\\/\\\\/cdn.myanimelist.net\\\\/images\\\\/anime\\\\/9\\\\/76662.jpg\",\"link\":\"https:\\\\/\\\\/myanimelist.net\\\\/anime\\\\/28891\\\\/Haikyuu_Second_Season\"}}')\n"
     ]
    }
   ],
   "source": [
    "data = new_small_data.to_json(orient='index')\n",
    "from pprint import pprint\n",
    "# data = pd.read_json('Resources/small_data.json')\n",
    "pprint(data)\n"
   ]
  },
  {
   "cell_type": "code",
   "execution_count": null,
   "id": "453af263-f62a-49f8-aa8a-8520efe2a647",
   "metadata": {},
   "outputs": [],
   "source": [
    "print(small_data_json)"
   ]
  }
 ],
 "metadata": {
  "kernelspec": {
   "display_name": "mlenv",
   "language": "python",
   "name": "mlenv"
  },
  "language_info": {
   "codemirror_mode": {
    "name": "ipython",
    "version": 3
   },
   "file_extension": ".py",
   "mimetype": "text/x-python",
   "name": "python",
   "nbconvert_exporter": "python",
   "pygments_lexer": "ipython3",
   "version": "3.7.11"
  }
 },
 "nbformat": 4,
 "nbformat_minor": 5
}

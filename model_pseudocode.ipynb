{
 "cells": [
  {
   "cell_type": "code",
   "execution_count": 2,
   "source": [
    "# Install and import packages into mlenv enviroment \n",
    "pip install sentence-transformers"
   ],
   "outputs": [
    {
     "output_type": "stream",
     "name": "stdout",
     "text": [
      "Collecting sentence-transformers\n",
      "  Downloading sentence-transformers-2.2.0.tar.gz (79 kB)\n",
      "\u001b[K     |████████████████████████████████| 79 kB 1.1 MB/s \n",
      "\u001b[?25hCollecting transformers<5.0.0,>=4.6.0\n",
      "  Downloading transformers-4.16.2-py3-none-any.whl (3.5 MB)\n",
      "\u001b[K     |████████████████████████████████| 3.5 MB 2.5 MB/s \n",
      "\u001b[?25hRequirement already satisfied: tqdm in /Users/elenachambers/opt/anaconda3/envs/mlenv/lib/python3.7/site-packages (from sentence-transformers) (4.62.3)\n",
      "Collecting torch>=1.6.0\n",
      "  Downloading torch-1.10.2-cp37-none-macosx_10_9_x86_64.whl (147.1 MB)\n",
      "\u001b[K     |████████████████████████████████| 147.1 MB 186 kB/s \n",
      "\u001b[?25hCollecting torchvision\n",
      "  Downloading torchvision-0.11.3-cp37-cp37m-macosx_10_9_x86_64.whl (1.2 MB)\n",
      "\u001b[K     |████████████████████████████████| 1.2 MB 9.8 MB/s \n",
      "\u001b[?25hRequirement already satisfied: numpy in /Users/elenachambers/opt/anaconda3/envs/mlenv/lib/python3.7/site-packages (from sentence-transformers) (1.20.3)\n",
      "Requirement already satisfied: scikit-learn in /Users/elenachambers/opt/anaconda3/envs/mlenv/lib/python3.7/site-packages (from sentence-transformers) (1.0.2)\n",
      "Requirement already satisfied: scipy in /Users/elenachambers/opt/anaconda3/envs/mlenv/lib/python3.7/site-packages (from sentence-transformers) (1.7.3)\n",
      "Requirement already satisfied: nltk in /Users/elenachambers/opt/anaconda3/envs/mlenv/lib/python3.7/site-packages (from sentence-transformers) (3.6.5)\n",
      "Collecting sentencepiece\n",
      "  Downloading sentencepiece-0.1.96-cp37-cp37m-macosx_10_6_x86_64.whl (1.1 MB)\n",
      "\u001b[K     |████████████████████████████████| 1.1 MB 1.2 MB/s \n",
      "\u001b[?25hCollecting huggingface-hub\n",
      "  Downloading huggingface_hub-0.4.0-py3-none-any.whl (67 kB)\n",
      "\u001b[K     |████████████████████████████████| 67 kB 3.0 MB/s \n",
      "\u001b[?25hRequirement already satisfied: typing-extensions in /Users/elenachambers/opt/anaconda3/envs/mlenv/lib/python3.7/site-packages (from torch>=1.6.0->sentence-transformers) (3.10.0.2)\n",
      "Requirement already satisfied: importlib-metadata in /Users/elenachambers/opt/anaconda3/envs/mlenv/lib/python3.7/site-packages (from transformers<5.0.0,>=4.6.0->sentence-transformers) (4.8.2)\n",
      "Collecting sacremoses\n",
      "  Downloading sacremoses-0.0.47-py2.py3-none-any.whl (895 kB)\n",
      "\u001b[K     |████████████████████████████████| 895 kB 4.7 MB/s \n",
      "\u001b[?25hRequirement already satisfied: packaging>=20.0 in /Users/elenachambers/opt/anaconda3/envs/mlenv/lib/python3.7/site-packages (from transformers<5.0.0,>=4.6.0->sentence-transformers) (21.3)\n",
      "Collecting tokenizers!=0.11.3,>=0.10.1\n",
      "  Downloading tokenizers-0.11.4-cp37-cp37m-macosx_10_11_x86_64.whl (3.7 MB)\n",
      "\u001b[K     |████████████████████████████████| 3.7 MB 3.7 MB/s \n",
      "\u001b[?25hRequirement already satisfied: pyyaml>=5.1 in /Users/elenachambers/opt/anaconda3/envs/mlenv/lib/python3.7/site-packages (from transformers<5.0.0,>=4.6.0->sentence-transformers) (6.0)\n",
      "Requirement already satisfied: regex!=2019.12.17 in /Users/elenachambers/opt/anaconda3/envs/mlenv/lib/python3.7/site-packages (from transformers<5.0.0,>=4.6.0->sentence-transformers) (2021.11.2)\n",
      "Requirement already satisfied: requests in /Users/elenachambers/opt/anaconda3/envs/mlenv/lib/python3.7/site-packages (from transformers<5.0.0,>=4.6.0->sentence-transformers) (2.27.1)\n",
      "Requirement already satisfied: filelock in /Users/elenachambers/opt/anaconda3/envs/mlenv/lib/python3.7/site-packages (from transformers<5.0.0,>=4.6.0->sentence-transformers) (3.4.2)\n",
      "Requirement already satisfied: pyparsing!=3.0.5,>=2.0.2 in /Users/elenachambers/opt/anaconda3/envs/mlenv/lib/python3.7/site-packages (from packaging>=20.0->transformers<5.0.0,>=4.6.0->sentence-transformers) (3.0.4)\n",
      "Requirement already satisfied: zipp>=0.5 in /Users/elenachambers/opt/anaconda3/envs/mlenv/lib/python3.7/site-packages (from importlib-metadata->transformers<5.0.0,>=4.6.0->sentence-transformers) (3.7.0)\n",
      "Requirement already satisfied: click in /Users/elenachambers/opt/anaconda3/envs/mlenv/lib/python3.7/site-packages (from nltk->sentence-transformers) (8.0.3)\n",
      "Requirement already satisfied: joblib in /Users/elenachambers/opt/anaconda3/envs/mlenv/lib/python3.7/site-packages (from nltk->sentence-transformers) (1.1.0)\n",
      "Requirement already satisfied: certifi>=2017.4.17 in /Users/elenachambers/opt/anaconda3/envs/mlenv/lib/python3.7/site-packages (from requests->transformers<5.0.0,>=4.6.0->sentence-transformers) (2021.10.8)\n",
      "Requirement already satisfied: charset-normalizer~=2.0.0 in /Users/elenachambers/opt/anaconda3/envs/mlenv/lib/python3.7/site-packages (from requests->transformers<5.0.0,>=4.6.0->sentence-transformers) (2.0.4)\n",
      "Requirement already satisfied: urllib3<1.27,>=1.21.1 in /Users/elenachambers/opt/anaconda3/envs/mlenv/lib/python3.7/site-packages (from requests->transformers<5.0.0,>=4.6.0->sentence-transformers) (1.26.7)\n",
      "Requirement already satisfied: idna<4,>=2.5 in /Users/elenachambers/opt/anaconda3/envs/mlenv/lib/python3.7/site-packages (from requests->transformers<5.0.0,>=4.6.0->sentence-transformers) (3.3)\n",
      "Requirement already satisfied: six in /Users/elenachambers/opt/anaconda3/envs/mlenv/lib/python3.7/site-packages (from sacremoses->transformers<5.0.0,>=4.6.0->sentence-transformers) (1.16.0)\n",
      "Requirement already satisfied: threadpoolctl>=2.0.0 in /Users/elenachambers/opt/anaconda3/envs/mlenv/lib/python3.7/site-packages (from scikit-learn->sentence-transformers) (2.2.0)\n",
      "Requirement already satisfied: pillow!=8.3.0,>=5.3.0 in /Users/elenachambers/opt/anaconda3/envs/mlenv/lib/python3.7/site-packages (from torchvision->sentence-transformers) (8.4.0)\n",
      "Building wheels for collected packages: sentence-transformers\n",
      "  Building wheel for sentence-transformers (setup.py) ... \u001b[?25ldone\n",
      "\u001b[?25h  Created wheel for sentence-transformers: filename=sentence_transformers-2.2.0-py3-none-any.whl size=120747 sha256=351eef76cce0c73120adaa4e90da5fc67e33b6734ae3c13a09372974f7d3a5bc\n",
      "  Stored in directory: /Users/elenachambers/Library/Caches/pip/wheels/83/c0/df/b6873ab7aac3f2465aa9144b6b4c41c4391cfecc027c8b07e7\n",
      "Successfully built sentence-transformers\n",
      "Installing collected packages: torch, tokenizers, sacremoses, huggingface-hub, transformers, torchvision, sentencepiece, sentence-transformers\n",
      "Successfully installed huggingface-hub-0.4.0 sacremoses-0.0.47 sentence-transformers-2.2.0 sentencepiece-0.1.96 tokenizers-0.11.4 torch-1.10.2 torchvision-0.11.3 transformers-4.16.2\n",
      "Note: you may need to restart the kernel to use updated packages.\n"
     ]
    }
   ],
   "metadata": {}
  },
  {
   "cell_type": "code",
   "execution_count": 3,
   "source": [
    "from sentence_transformers import SentenceTransformer, util\n",
    "model = SentenceTransformer('all-MiniLM-L6-v2')\n"
   ],
   "outputs": [
    {
     "output_type": "stream",
     "name": "stderr",
     "text": [
      "Downloading: 100%|██████████| 1.18k/1.18k [00:00<00:00, 652kB/s]\n",
      "Downloading: 100%|██████████| 10.2k/10.2k [00:00<00:00, 2.96MB/s]\n",
      "Downloading: 100%|██████████| 612/612 [00:00<00:00, 354kB/s]\n",
      "Downloading: 100%|██████████| 116/116 [00:00<00:00, 27.8kB/s]\n",
      "Downloading: 100%|██████████| 39.3k/39.3k [00:00<00:00, 949kB/s]\n",
      "Downloading: 100%|██████████| 349/349 [00:00<00:00, 89.9kB/s]\n",
      "Downloading: 100%|██████████| 90.9M/90.9M [00:10<00:00, 8.46MB/s]\n",
      "Downloading: 100%|██████████| 53.0/53.0 [00:00<00:00, 15.2kB/s]\n",
      "Downloading: 100%|██████████| 112/112 [00:00<00:00, 29.3kB/s]\n",
      "Downloading: 100%|██████████| 466k/466k [00:00<00:00, 1.59MB/s]\n",
      "Downloading: 100%|██████████| 350/350 [00:00<00:00, 78.8kB/s]\n",
      "Downloading: 100%|██████████| 13.2k/13.2k [00:00<00:00, 2.25MB/s]\n",
      "Downloading: 100%|██████████| 232k/232k [00:00<00:00, 1.24MB/s]\n",
      "Downloading: 100%|██████████| 190/190 [00:00<00:00, 39.2kB/s]\n"
     ]
    }
   ],
   "metadata": {}
  },
  {
   "cell_type": "code",
   "execution_count": null,
   "source": [
    "# Import cleaned data csvs"
   ],
   "outputs": [],
   "metadata": {}
  },
  {
   "cell_type": "code",
   "execution_count": null,
   "source": [
    "# Make a list of anime descriptions from df"
   ],
   "outputs": [],
   "metadata": {}
  },
  {
   "cell_type": "code",
   "execution_count": null,
   "source": [
    "# Make a list of netflix, hulu, amazon prime, disney+ descriptions"
   ],
   "outputs": [],
   "metadata": {}
  },
  {
   "cell_type": "code",
   "execution_count": 4,
   "source": [
    "# Encode descriptions from both lists"
   ],
   "outputs": [],
   "metadata": {}
  },
  {
   "cell_type": "code",
   "execution_count": null,
   "source": [
    "# Add encodings as a column append for each list"
   ],
   "outputs": [],
   "metadata": {}
  },
  {
   "cell_type": "code",
   "execution_count": null,
   "source": [
    "# Compute cosine similarities\n",
    "\n",
    "# Run each line of live_action againt anime\n"
   ],
   "outputs": [],
   "metadata": {}
  },
  {
   "cell_type": "code",
   "execution_count": null,
   "source": [
    "# Make list from outputs; join anime title to encoding list index\n",
    "\n",
    "# Make a for-loop to identify top 5 most similar anime  \n"
   ],
   "outputs": [],
   "metadata": {}
  },
  {
   "cell_type": "code",
   "execution_count": null,
   "source": [
    "# Append top 5 most similar amime to each movie as new column in movie df"
   ],
   "outputs": [],
   "metadata": {}
  }
 ],
 "metadata": {
  "orig_nbformat": 4,
  "language_info": {
   "name": "python",
   "version": "3.7.11",
   "mimetype": "text/x-python",
   "codemirror_mode": {
    "name": "ipython",
    "version": 3
   },
   "pygments_lexer": "ipython3",
   "nbconvert_exporter": "python",
   "file_extension": ".py"
  },
  "kernelspec": {
   "name": "python3",
   "display_name": "Python 3.7.11 64-bit ('mlenv': conda)"
  },
  "interpreter": {
   "hash": "b9bb4423a1d3140def98ccfa0c8570d196bf2d194e50a79bd0acfe573e173e22"
  }
 },
 "nbformat": 4,
 "nbformat_minor": 2
}